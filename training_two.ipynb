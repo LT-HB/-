{
 "cells": [
  {
   "cell_type": "code",
   "execution_count": 1,
   "id": "golden-artwork",
   "metadata": {},
   "outputs": [],
   "source": [
    "from functools import partial\n",
    "\n",
    "import numpy as np\n",
    "import tensorflow as tf\n",
    "from tensorflow.keras.callbacks import EarlyStopping, TensorBoard\n",
    "from tensorflow.keras.optimizers import Adam\n",
    "\n",
    "#from nets import freeze_layers, get_model_from_name\n",
    "from utils.callbacks import (ExponentDecayScheduler, LossHistory,\n",
    "                             ModelCheckpoint)\n",
    "from utils.dataloader import ClsDatasets\n",
    "from utils.utils import get_classes\n",
    "from utils.utils_fit import fit_one_epoch"
   ]
  },
  {
   "cell_type": "code",
   "execution_count": 2,
   "id": "constant-bathroom",
   "metadata": {},
   "outputs": [],
   "source": [
    "gpus = tf.config.experimental.list_physical_devices(device_type='GPU')\n",
    "for gpu in gpus:\n",
    "    tf.config.experimental.set_memory_growth(gpu, True)"
   ]
  },
  {
   "cell_type": "markdown",
   "id": "superb-laugh",
   "metadata": {},
   "source": [
    "# 获取数据集，测试集不变"
   ]
  },
  {
   "cell_type": "code",
   "execution_count": 35,
   "id": "declared-missile",
   "metadata": {},
   "outputs": [],
   "source": [
    "class_names = [\"no_sick\", \"sick\"]\n",
    "num_classes = 2"
   ]
  },
  {
   "cell_type": "code",
   "execution_count": 36,
   "id": "verified-sacramento",
   "metadata": {},
   "outputs": [],
   "source": [
    "annotation_path = \"path_txt//test_stable//train_val_two.txt\"\n",
    "val_split       = 0.2\n",
    "\n",
    "with open(annotation_path, \"r\") as f:\n",
    "    lines = f.readlines()"
   ]
  },
  {
   "cell_type": "code",
   "execution_count": 37,
   "id": "entertaining-valuation",
   "metadata": {},
   "outputs": [],
   "source": [
    "lines_0 = lines[:1050]\n",
    "lines_1 = lines[1050:]"
   ]
  },
  {
   "cell_type": "code",
   "execution_count": 38,
   "id": "fourth-findings",
   "metadata": {},
   "outputs": [],
   "source": [
    "np.random.seed(10101)\n",
    "np.random.shuffle(lines_0)\n",
    "np.random.shuffle(lines_1)\n",
    "np.random.seed(None)"
   ]
  },
  {
   "cell_type": "code",
   "execution_count": 39,
   "id": "radio-gazette",
   "metadata": {},
   "outputs": [],
   "source": [
    "lines = [lines_0, lines_1]"
   ]
  },
  {
   "cell_type": "code",
   "execution_count": 40,
   "id": "featured-static",
   "metadata": {},
   "outputs": [],
   "source": [
    "train_path = []\n",
    "val_path = []\n",
    "\n",
    "for i in range(2):\n",
    "    line = lines[i]\n",
    "    N = len(line)\n",
    "    num_val     = int(N * val_split)\n",
    "    num_train   = N - num_val\n",
    "    for j in range(N):\n",
    "        if j+1<=num_val:\n",
    "            val_path.append(line[j])\n",
    "        else:\n",
    "            train_path.append(line[j])"
   ]
  },
  {
   "cell_type": "code",
   "execution_count": 41,
   "id": "material-tonight",
   "metadata": {},
   "outputs": [],
   "source": [
    "num_train = len(train_path)\n",
    "num_val = len(val_path)"
   ]
  },
  {
   "cell_type": "code",
   "execution_count": 42,
   "id": "opponent-territory",
   "metadata": {},
   "outputs": [],
   "source": [
    "np.random.seed(2022)\n",
    "np.random.shuffle(train_path)\n",
    "np.random.shuffle(val_path)\n",
    "np.random.seed(None)"
   ]
  },
  {
   "cell_type": "code",
   "execution_count": 43,
   "id": "apart-segment",
   "metadata": {},
   "outputs": [
    {
     "data": {
      "text/plain": [
       "2671"
      ]
     },
     "execution_count": 43,
     "metadata": {},
     "output_type": "execute_result"
    }
   ],
   "source": [
    "num_train"
   ]
  },
  {
   "cell_type": "code",
   "execution_count": 44,
   "id": "surprising-wildlife",
   "metadata": {},
   "outputs": [
    {
     "data": {
      "text/plain": [
       "667"
      ]
     },
     "execution_count": 44,
     "metadata": {},
     "output_type": "execute_result"
    }
   ],
   "source": [
    "num_val"
   ]
  },
  {
   "cell_type": "code",
   "execution_count": 45,
   "id": "neutral-teacher",
   "metadata": {},
   "outputs": [],
   "source": [
    "annotation_path = \"path_txt//test_stable//test_two.txt\"\n",
    "\n",
    "with open(annotation_path, \"r\") as f:\n",
    "    test_path = f.readlines()"
   ]
  },
  {
   "cell_type": "code",
   "execution_count": 46,
   "id": "amber-terrace",
   "metadata": {},
   "outputs": [
    {
     "data": {
      "text/plain": [
       "832"
      ]
     },
     "execution_count": 46,
     "metadata": {},
     "output_type": "execute_result"
    }
   ],
   "source": [
    "len(test_path)"
   ]
  },
  {
   "cell_type": "markdown",
   "id": "third-metro",
   "metadata": {},
   "source": [
    "# 获取数据的路径"
   ]
  },
  {
   "cell_type": "code",
   "execution_count": 34,
   "id": "arbitrary-equation",
   "metadata": {},
   "outputs": [],
   "source": [
    "class_names = [\"no_sick\", \"sick\"]\n",
    "num_classes = 2"
   ]
  },
  {
   "cell_type": "code",
   "execution_count": 4,
   "id": "angry-gravity",
   "metadata": {},
   "outputs": [],
   "source": [
    "annotation_path = \"path_txt/cls_two_class_test.txt\"\n",
    "\n",
    "with open(annotation_path, \"r\") as f:\n",
    "    lines_test = f.readlines()"
   ]
  },
  {
   "cell_type": "code",
   "execution_count": 19,
   "id": "dominant-missouri",
   "metadata": {},
   "outputs": [
    {
     "data": {
      "text/plain": [
       "952"
      ]
     },
     "execution_count": 19,
     "metadata": {},
     "output_type": "execute_result"
    }
   ],
   "source": [
    "len(lines_test)"
   ]
  },
  {
   "cell_type": "code",
   "execution_count": 5,
   "id": "standing-harmony",
   "metadata": {},
   "outputs": [],
   "source": [
    "lines_test_0 = lines_test[:436]\n",
    "lines_test_1 = lines_test[436:]"
   ]
  },
  {
   "cell_type": "code",
   "execution_count": 6,
   "id": "looking-montana",
   "metadata": {},
   "outputs": [],
   "source": [
    "np.random.seed(10101)\n",
    "np.random.shuffle(lines_test_0)\n",
    "np.random.shuffle(lines_test_1)\n",
    "np.random.seed(None)"
   ]
  },
  {
   "cell_type": "code",
   "execution_count": null,
   "id": "relative-comedy",
   "metadata": {},
   "outputs": [],
   "source": []
  },
  {
   "cell_type": "code",
   "execution_count": null,
   "id": "occupational-gates",
   "metadata": {},
   "outputs": [],
   "source": []
  },
  {
   "cell_type": "code",
   "execution_count": 7,
   "id": "controlling-heath",
   "metadata": {},
   "outputs": [],
   "source": [
    "annotation_path = \"path_txt/cls_two_class_train.txt\"\n",
    "val_split       = 0.2\n",
    "\n",
    "with open(annotation_path, \"r\") as f:\n",
    "    lines = f.readlines()"
   ]
  },
  {
   "cell_type": "code",
   "execution_count": 8,
   "id": "blocked-october",
   "metadata": {},
   "outputs": [
    {
     "data": {
      "text/plain": [
       "4094"
      ]
     },
     "execution_count": 8,
     "metadata": {},
     "output_type": "execute_result"
    }
   ],
   "source": [
    "len(lines)"
   ]
  },
  {
   "cell_type": "code",
   "execution_count": 9,
   "id": "removable-indicator",
   "metadata": {},
   "outputs": [],
   "source": [
    "lines_0 = lines[:1752]\n",
    "lines_1 = lines[1752:]"
   ]
  },
  {
   "cell_type": "code",
   "execution_count": 10,
   "id": "anonymous-punch",
   "metadata": {},
   "outputs": [],
   "source": [
    "np.random.seed(10101)\n",
    "np.random.shuffle(lines_0)\n",
    "np.random.shuffle(lines_1)\n",
    "np.random.seed(None)"
   ]
  },
  {
   "cell_type": "code",
   "execution_count": 11,
   "id": "supposed-globe",
   "metadata": {},
   "outputs": [],
   "source": [
    "lines = [lines_0+lines_test_0, lines_1+lines_test_1]"
   ]
  },
  {
   "cell_type": "code",
   "execution_count": 13,
   "id": "final-ordering",
   "metadata": {},
   "outputs": [],
   "source": [
    "train_path = []\n",
    "val_path = []\n",
    "test_path = []\n",
    "\n",
    "for i in range(2):\n",
    "    line = lines[i]\n",
    "    N = len(line)\n",
    "    num_val     = int(N * val_split)\n",
    "    num_train   = N - num_val\n",
    "    for j in range(N):\n",
    "        if j+1<=num_val:\n",
    "            val_path.append(line[j])\n",
    "        elif (num_val<j+1)and(j+1<=2*num_val):\n",
    "            test_path.append(line[j])\n",
    "        else:\n",
    "            train_path.append(line[j])"
   ]
  },
  {
   "cell_type": "code",
   "execution_count": 14,
   "id": "center-knight",
   "metadata": {},
   "outputs": [],
   "source": [
    "num_train = len(train_path)\n",
    "num_val = len(val_path)"
   ]
  },
  {
   "cell_type": "code",
   "execution_count": 15,
   "id": "recent-czech",
   "metadata": {},
   "outputs": [
    {
     "data": {
      "text/plain": [
       "3030"
      ]
     },
     "execution_count": 15,
     "metadata": {},
     "output_type": "execute_result"
    }
   ],
   "source": [
    "num_train"
   ]
  },
  {
   "cell_type": "code",
   "execution_count": 16,
   "id": "wireless-camping",
   "metadata": {},
   "outputs": [
    {
     "data": {
      "text/plain": [
       "1008"
      ]
     },
     "execution_count": 16,
     "metadata": {},
     "output_type": "execute_result"
    }
   ],
   "source": [
    "num_val"
   ]
  },
  {
   "cell_type": "code",
   "execution_count": 18,
   "id": "foster-medium",
   "metadata": {},
   "outputs": [
    {
     "data": {
      "text/plain": [
       "1008"
      ]
     },
     "execution_count": 18,
     "metadata": {},
     "output_type": "execute_result"
    }
   ],
   "source": [
    "len(test_path)"
   ]
  },
  {
   "cell_type": "code",
   "execution_count": 17,
   "id": "romantic-slovakia",
   "metadata": {},
   "outputs": [],
   "source": [
    "np.random.seed(2022)\n",
    "np.random.shuffle(train_path)\n",
    "np.random.shuffle(val_path)\n",
    "np.random.seed(None)"
   ]
  },
  {
   "cell_type": "markdown",
   "id": "external-austin",
   "metadata": {},
   "source": [
    "# 模型"
   ]
  },
  {
   "cell_type": "code",
   "execution_count": 3,
   "id": "unexpected-tomato",
   "metadata": {},
   "outputs": [],
   "source": [
    "from tensorflow.keras.layers import (Dense,Input,GlobalAveragePooling2D)\n",
    "from tensorflow.keras.models import Model\n",
    "from tensorflow.keras import applications\n",
    "\n",
    "def resnet101(input_shape=None):\n",
    "    net = applications.ResNet101(include_top=False,input_shape=input_shape,weights=None)\n",
    "\n",
    "    return net\n",
    "\n",
    "def ResNet101(input_shape=[224,224,3],classes=4):\n",
    "    img_input = Input(input_shape)\n",
    "\n",
    "    x = resnet101(input_shape)(img_input)\n",
    "    x = GlobalAveragePooling2D()(x)\n",
    "    x = Dense(256)(x)\n",
    "    x = Dense(256)(x)\n",
    "    x = Dense(classes,activation='softmax', name='fc1000')(x)\n",
    "    x = Model(img_input, x, name='ResNet101')\n",
    "    return x"
   ]
  },
  {
   "cell_type": "code",
   "execution_count": 2,
   "id": "critical-prairie",
   "metadata": {},
   "outputs": [],
   "source": [
    "model = ResNet101(input_shape=[224,224,3],classes=2)"
   ]
  },
  {
   "cell_type": "code",
   "execution_count": 3,
   "id": "alpha-heart",
   "metadata": {},
   "outputs": [],
   "source": [
    "#model.load_weights('D:\\class_PR\\classification-tf2-main\\logs\\with_dict-ep015-loss0.060-val_loss0.509.h5')\n",
    "model.load_weights(\"weights/cls_2/cls_2-ep020-loss0.078-val_loss0.243.h5\")\n",
    "#model.load_weights('two_cls_w.h5')"
   ]
  },
  {
   "cell_type": "code",
   "execution_count": 26,
   "id": "threaded-seeker",
   "metadata": {},
   "outputs": [],
   "source": [
    "for i in range(2):\n",
    "    model.layers[i].trainable = True"
   ]
  },
  {
   "cell_type": "markdown",
   "id": "searching-drinking",
   "metadata": {},
   "source": [
    "# 回调函数"
   ]
  },
  {
   "cell_type": "code",
   "execution_count": 47,
   "id": "positive-controversy",
   "metadata": {},
   "outputs": [],
   "source": [
    "logging         = TensorBoard(log_dir = 'logs/')\n",
    "checkpoint      = ModelCheckpoint('logs/ep{epoch:03d}-loss{loss:.3f}-val_loss{val_loss:.3f}.h5',\n",
    "                                    monitor='val_loss', save_weights_only=True, save_best_only=False, period=5)\n",
    "reduce_lr       = ExponentDecayScheduler(decay_rate = 0.95, verbose = 1)\n",
    "early_stopping  = EarlyStopping(monitor='val_loss', min_delta=0, patience=10, verbose=1)\n",
    "loss_history    = LossHistory('logs/')"
   ]
  },
  {
   "cell_type": "code",
   "execution_count": 48,
   "id": "dying-reasoning",
   "metadata": {},
   "outputs": [
    {
     "name": "stdout",
     "output_type": "stream",
     "text": [
      "Train on 2671 samples, val on 667 samples, with batch size 16.\n"
     ]
    }
   ],
   "source": [
    "batch_size      = 16\n",
    "Lr              = 1e-5\n",
    "Init_Epoch      = 0\n",
    "Freeze_Epoch    = 0\n",
    "Epoch           = 100\n",
    "input_shape     = [224, 224]\n",
    "num_workers     = 1\n",
    "\n",
    "epoch_step          = num_train // batch_size\n",
    "epoch_step_val      = num_val // batch_size\n",
    "\n",
    "if epoch_step == 0 or epoch_step_val == 0:\n",
    "    raise ValueError('数据集过小，无法进行训练，请扩充数据集。')\n",
    "            \n",
    "print('Train on {} samples, val on {} samples, with batch size {}.'.format(num_train, num_val, batch_size))"
   ]
  },
  {
   "cell_type": "markdown",
   "id": "presidential-guyana",
   "metadata": {},
   "source": [
    "# 训练集和验证集"
   ]
  },
  {
   "cell_type": "code",
   "execution_count": 49,
   "id": "optional-european",
   "metadata": {},
   "outputs": [],
   "source": [
    "train_dataloader    = ClsDatasets(train_path, input_shape, batch_size, num_classes, train = True)\n",
    "val_dataloader      = ClsDatasets(val_path, input_shape, batch_size, num_classes, train = False)"
   ]
  },
  {
   "cell_type": "markdown",
   "id": "eight-protest",
   "metadata": {},
   "source": [
    "# 训练模型"
   ]
  },
  {
   "cell_type": "code",
   "execution_count": 50,
   "id": "local-vulnerability",
   "metadata": {},
   "outputs": [
    {
     "name": "stdout",
     "output_type": "stream",
     "text": [
      "Epoch 1/100\n",
      "  2/166 [..............................] - ETA: 9:24 - loss: 0.0027 - categorical_accuracy: 1.0000WARNING:tensorflow:Callbacks method `on_train_batch_end` is slow compared to the batch time (batch time: 0.6090s vs `on_train_batch_end` time: 6.1588s). Check your callbacks.\n",
      " 62/166 [==========>...................] - ETA: 1:34 - loss: 0.1259 - categorical_accuracy: 0.9587"
     ]
    },
    {
     "ename": "KeyboardInterrupt",
     "evalue": "",
     "output_type": "error",
     "traceback": [
      "\u001b[1;31m---------------------------------------------------------------------------\u001b[0m",
      "\u001b[1;31mKeyboardInterrupt\u001b[0m                         Traceback (most recent call last)",
      "\u001b[1;32m<ipython-input-50-02dc97d35e21>\u001b[0m in \u001b[0;36m<module>\u001b[1;34m\u001b[0m\n\u001b[0;32m     12\u001b[0m     \u001b[0muse_multiprocessing\u001b[0m \u001b[1;33m=\u001b[0m \u001b[1;32mTrue\u001b[0m \u001b[1;32mif\u001b[0m \u001b[0mnum_workers\u001b[0m \u001b[1;33m>\u001b[0m \u001b[1;36m1\u001b[0m \u001b[1;32melse\u001b[0m \u001b[1;32mFalse\u001b[0m\u001b[1;33m,\u001b[0m\u001b[1;33m\u001b[0m\u001b[1;33m\u001b[0m\u001b[0m\n\u001b[0;32m     13\u001b[0m     \u001b[0mworkers\u001b[0m             \u001b[1;33m=\u001b[0m \u001b[0mnum_workers\u001b[0m\u001b[1;33m,\u001b[0m\u001b[1;33m\u001b[0m\u001b[1;33m\u001b[0m\u001b[0m\n\u001b[1;32m---> 14\u001b[1;33m     \u001b[0mcallbacks\u001b[0m           \u001b[1;33m=\u001b[0m \u001b[1;33m[\u001b[0m\u001b[0mlogging\u001b[0m\u001b[1;33m,\u001b[0m \u001b[0mcheckpoint\u001b[0m\u001b[1;33m,\u001b[0m \u001b[0mreduce_lr\u001b[0m\u001b[1;33m,\u001b[0m \u001b[0mearly_stopping\u001b[0m\u001b[1;33m,\u001b[0m \u001b[0mloss_history\u001b[0m\u001b[1;33m]\u001b[0m\u001b[1;33m\u001b[0m\u001b[1;33m\u001b[0m\u001b[0m\n\u001b[0m\u001b[0;32m     15\u001b[0m     \u001b[1;31m#class_weight= cls_wt_dict\u001b[0m\u001b[1;33m\u001b[0m\u001b[1;33m\u001b[0m\u001b[1;33m\u001b[0m\u001b[0m\n\u001b[0;32m     16\u001b[0m )\n",
      "\u001b[1;32md:\\miniconda\\lib\\site-packages\\tensorflow\\python\\util\\deprecation.py\u001b[0m in \u001b[0;36mnew_func\u001b[1;34m(*args, **kwargs)\u001b[0m\n\u001b[0;32m    322\u001b[0m               \u001b[1;34m'in a future version'\u001b[0m \u001b[1;32mif\u001b[0m \u001b[0mdate\u001b[0m \u001b[1;32mis\u001b[0m \u001b[1;32mNone\u001b[0m \u001b[1;32melse\u001b[0m \u001b[1;33m(\u001b[0m\u001b[1;34m'after %s'\u001b[0m \u001b[1;33m%\u001b[0m \u001b[0mdate\u001b[0m\u001b[1;33m)\u001b[0m\u001b[1;33m,\u001b[0m\u001b[1;33m\u001b[0m\u001b[1;33m\u001b[0m\u001b[0m\n\u001b[0;32m    323\u001b[0m               instructions)\n\u001b[1;32m--> 324\u001b[1;33m       \u001b[1;32mreturn\u001b[0m \u001b[0mfunc\u001b[0m\u001b[1;33m(\u001b[0m\u001b[1;33m*\u001b[0m\u001b[0margs\u001b[0m\u001b[1;33m,\u001b[0m \u001b[1;33m**\u001b[0m\u001b[0mkwargs\u001b[0m\u001b[1;33m)\u001b[0m\u001b[1;33m\u001b[0m\u001b[1;33m\u001b[0m\u001b[0m\n\u001b[0m\u001b[0;32m    325\u001b[0m     return tf_decorator.make_decorator(\n\u001b[0;32m    326\u001b[0m         \u001b[0mfunc\u001b[0m\u001b[1;33m,\u001b[0m \u001b[0mnew_func\u001b[0m\u001b[1;33m,\u001b[0m \u001b[1;34m'deprecated'\u001b[0m\u001b[1;33m,\u001b[0m\u001b[1;33m\u001b[0m\u001b[1;33m\u001b[0m\u001b[0m\n",
      "\u001b[1;32md:\\miniconda\\lib\\site-packages\\tensorflow\\python\\keras\\engine\\training.py\u001b[0m in \u001b[0;36mfit_generator\u001b[1;34m(self, generator, steps_per_epoch, epochs, verbose, callbacks, validation_data, validation_steps, validation_freq, class_weight, max_queue_size, workers, use_multiprocessing, shuffle, initial_epoch)\u001b[0m\n\u001b[0;32m   1827\u001b[0m         \u001b[0muse_multiprocessing\u001b[0m\u001b[1;33m=\u001b[0m\u001b[0muse_multiprocessing\u001b[0m\u001b[1;33m,\u001b[0m\u001b[1;33m\u001b[0m\u001b[1;33m\u001b[0m\u001b[0m\n\u001b[0;32m   1828\u001b[0m         \u001b[0mshuffle\u001b[0m\u001b[1;33m=\u001b[0m\u001b[0mshuffle\u001b[0m\u001b[1;33m,\u001b[0m\u001b[1;33m\u001b[0m\u001b[1;33m\u001b[0m\u001b[0m\n\u001b[1;32m-> 1829\u001b[1;33m         initial_epoch=initial_epoch)\n\u001b[0m\u001b[0;32m   1830\u001b[0m \u001b[1;33m\u001b[0m\u001b[0m\n\u001b[0;32m   1831\u001b[0m   @deprecation.deprecated(\n",
      "\u001b[1;32md:\\miniconda\\lib\\site-packages\\tensorflow\\python\\keras\\engine\\training.py\u001b[0m in \u001b[0;36m_method_wrapper\u001b[1;34m(self, *args, **kwargs)\u001b[0m\n\u001b[0;32m    106\u001b[0m   \u001b[1;32mdef\u001b[0m \u001b[0m_method_wrapper\u001b[0m\u001b[1;33m(\u001b[0m\u001b[0mself\u001b[0m\u001b[1;33m,\u001b[0m \u001b[1;33m*\u001b[0m\u001b[0margs\u001b[0m\u001b[1;33m,\u001b[0m \u001b[1;33m**\u001b[0m\u001b[0mkwargs\u001b[0m\u001b[1;33m)\u001b[0m\u001b[1;33m:\u001b[0m\u001b[1;33m\u001b[0m\u001b[1;33m\u001b[0m\u001b[0m\n\u001b[0;32m    107\u001b[0m     \u001b[1;32mif\u001b[0m \u001b[1;32mnot\u001b[0m \u001b[0mself\u001b[0m\u001b[1;33m.\u001b[0m\u001b[0m_in_multi_worker_mode\u001b[0m\u001b[1;33m(\u001b[0m\u001b[1;33m)\u001b[0m\u001b[1;33m:\u001b[0m  \u001b[1;31m# pylint: disable=protected-access\u001b[0m\u001b[1;33m\u001b[0m\u001b[1;33m\u001b[0m\u001b[0m\n\u001b[1;32m--> 108\u001b[1;33m       \u001b[1;32mreturn\u001b[0m \u001b[0mmethod\u001b[0m\u001b[1;33m(\u001b[0m\u001b[0mself\u001b[0m\u001b[1;33m,\u001b[0m \u001b[1;33m*\u001b[0m\u001b[0margs\u001b[0m\u001b[1;33m,\u001b[0m \u001b[1;33m**\u001b[0m\u001b[0mkwargs\u001b[0m\u001b[1;33m)\u001b[0m\u001b[1;33m\u001b[0m\u001b[1;33m\u001b[0m\u001b[0m\n\u001b[0m\u001b[0;32m    109\u001b[0m \u001b[1;33m\u001b[0m\u001b[0m\n\u001b[0;32m    110\u001b[0m     \u001b[1;31m# Running inside `run_distribute_coordinator` already.\u001b[0m\u001b[1;33m\u001b[0m\u001b[1;33m\u001b[0m\u001b[1;33m\u001b[0m\u001b[0m\n",
      "\u001b[1;32md:\\miniconda\\lib\\site-packages\\tensorflow\\python\\keras\\engine\\training.py\u001b[0m in \u001b[0;36mfit\u001b[1;34m(self, x, y, batch_size, epochs, verbose, callbacks, validation_split, validation_data, shuffle, class_weight, sample_weight, initial_epoch, steps_per_epoch, validation_steps, validation_batch_size, validation_freq, max_queue_size, workers, use_multiprocessing)\u001b[0m\n\u001b[0;32m   1101\u001b[0m               \u001b[0mlogs\u001b[0m \u001b[1;33m=\u001b[0m \u001b[0mtmp_logs\u001b[0m  \u001b[1;31m# No error, now safe to assign to logs.\u001b[0m\u001b[1;33m\u001b[0m\u001b[1;33m\u001b[0m\u001b[0m\n\u001b[0;32m   1102\u001b[0m               \u001b[0mend_step\u001b[0m \u001b[1;33m=\u001b[0m \u001b[0mstep\u001b[0m \u001b[1;33m+\u001b[0m \u001b[0mdata_handler\u001b[0m\u001b[1;33m.\u001b[0m\u001b[0mstep_increment\u001b[0m\u001b[1;33m\u001b[0m\u001b[1;33m\u001b[0m\u001b[0m\n\u001b[1;32m-> 1103\u001b[1;33m               \u001b[0mcallbacks\u001b[0m\u001b[1;33m.\u001b[0m\u001b[0mon_train_batch_end\u001b[0m\u001b[1;33m(\u001b[0m\u001b[0mend_step\u001b[0m\u001b[1;33m,\u001b[0m \u001b[0mlogs\u001b[0m\u001b[1;33m)\u001b[0m\u001b[1;33m\u001b[0m\u001b[1;33m\u001b[0m\u001b[0m\n\u001b[0m\u001b[0;32m   1104\u001b[0m         \u001b[0mepoch_logs\u001b[0m \u001b[1;33m=\u001b[0m \u001b[0mcopy\u001b[0m\u001b[1;33m.\u001b[0m\u001b[0mcopy\u001b[0m\u001b[1;33m(\u001b[0m\u001b[0mlogs\u001b[0m\u001b[1;33m)\u001b[0m\u001b[1;33m\u001b[0m\u001b[1;33m\u001b[0m\u001b[0m\n\u001b[0;32m   1105\u001b[0m \u001b[1;33m\u001b[0m\u001b[0m\n",
      "\u001b[1;32md:\\miniconda\\lib\\site-packages\\tensorflow\\python\\keras\\callbacks.py\u001b[0m in \u001b[0;36mon_train_batch_end\u001b[1;34m(self, batch, logs)\u001b[0m\n\u001b[0;32m    438\u001b[0m     \"\"\"\n\u001b[0;32m    439\u001b[0m     \u001b[1;32mif\u001b[0m \u001b[0mself\u001b[0m\u001b[1;33m.\u001b[0m\u001b[0m_should_call_train_batch_hooks\u001b[0m\u001b[1;33m:\u001b[0m\u001b[1;33m\u001b[0m\u001b[1;33m\u001b[0m\u001b[0m\n\u001b[1;32m--> 440\u001b[1;33m       \u001b[0mself\u001b[0m\u001b[1;33m.\u001b[0m\u001b[0m_call_batch_hook\u001b[0m\u001b[1;33m(\u001b[0m\u001b[0mModeKeys\u001b[0m\u001b[1;33m.\u001b[0m\u001b[0mTRAIN\u001b[0m\u001b[1;33m,\u001b[0m \u001b[1;34m'end'\u001b[0m\u001b[1;33m,\u001b[0m \u001b[0mbatch\u001b[0m\u001b[1;33m,\u001b[0m \u001b[0mlogs\u001b[0m\u001b[1;33m=\u001b[0m\u001b[0mlogs\u001b[0m\u001b[1;33m)\u001b[0m\u001b[1;33m\u001b[0m\u001b[1;33m\u001b[0m\u001b[0m\n\u001b[0m\u001b[0;32m    441\u001b[0m \u001b[1;33m\u001b[0m\u001b[0m\n\u001b[0;32m    442\u001b[0m   \u001b[1;32mdef\u001b[0m \u001b[0mon_test_batch_begin\u001b[0m\u001b[1;33m(\u001b[0m\u001b[0mself\u001b[0m\u001b[1;33m,\u001b[0m \u001b[0mbatch\u001b[0m\u001b[1;33m,\u001b[0m \u001b[0mlogs\u001b[0m\u001b[1;33m=\u001b[0m\u001b[1;32mNone\u001b[0m\u001b[1;33m)\u001b[0m\u001b[1;33m:\u001b[0m\u001b[1;33m\u001b[0m\u001b[1;33m\u001b[0m\u001b[0m\n",
      "\u001b[1;32md:\\miniconda\\lib\\site-packages\\tensorflow\\python\\keras\\callbacks.py\u001b[0m in \u001b[0;36m_call_batch_hook\u001b[1;34m(self, mode, hook, batch, logs)\u001b[0m\n\u001b[0;32m    287\u001b[0m       \u001b[0mself\u001b[0m\u001b[1;33m.\u001b[0m\u001b[0m_call_batch_begin_hook\u001b[0m\u001b[1;33m(\u001b[0m\u001b[0mmode\u001b[0m\u001b[1;33m,\u001b[0m \u001b[0mbatch\u001b[0m\u001b[1;33m,\u001b[0m \u001b[0mlogs\u001b[0m\u001b[1;33m)\u001b[0m\u001b[1;33m\u001b[0m\u001b[1;33m\u001b[0m\u001b[0m\n\u001b[0;32m    288\u001b[0m     \u001b[1;32melif\u001b[0m \u001b[0mhook\u001b[0m \u001b[1;33m==\u001b[0m \u001b[1;34m'end'\u001b[0m\u001b[1;33m:\u001b[0m\u001b[1;33m\u001b[0m\u001b[1;33m\u001b[0m\u001b[0m\n\u001b[1;32m--> 289\u001b[1;33m       \u001b[0mself\u001b[0m\u001b[1;33m.\u001b[0m\u001b[0m_call_batch_end_hook\u001b[0m\u001b[1;33m(\u001b[0m\u001b[0mmode\u001b[0m\u001b[1;33m,\u001b[0m \u001b[0mbatch\u001b[0m\u001b[1;33m,\u001b[0m \u001b[0mlogs\u001b[0m\u001b[1;33m)\u001b[0m\u001b[1;33m\u001b[0m\u001b[1;33m\u001b[0m\u001b[0m\n\u001b[0m\u001b[0;32m    290\u001b[0m     \u001b[1;32melse\u001b[0m\u001b[1;33m:\u001b[0m\u001b[1;33m\u001b[0m\u001b[1;33m\u001b[0m\u001b[0m\n\u001b[0;32m    291\u001b[0m       \u001b[1;32mraise\u001b[0m \u001b[0mValueError\u001b[0m\u001b[1;33m(\u001b[0m\u001b[1;34m'Unrecognized hook: {}'\u001b[0m\u001b[1;33m.\u001b[0m\u001b[0mformat\u001b[0m\u001b[1;33m(\u001b[0m\u001b[0mhook\u001b[0m\u001b[1;33m)\u001b[0m\u001b[1;33m)\u001b[0m\u001b[1;33m\u001b[0m\u001b[1;33m\u001b[0m\u001b[0m\n",
      "\u001b[1;32md:\\miniconda\\lib\\site-packages\\tensorflow\\python\\keras\\callbacks.py\u001b[0m in \u001b[0;36m_call_batch_end_hook\u001b[1;34m(self, mode, batch, logs)\u001b[0m\n\u001b[0;32m    307\u001b[0m       \u001b[0mbatch_time\u001b[0m \u001b[1;33m=\u001b[0m \u001b[0mtime\u001b[0m\u001b[1;33m.\u001b[0m\u001b[0mtime\u001b[0m\u001b[1;33m(\u001b[0m\u001b[1;33m)\u001b[0m \u001b[1;33m-\u001b[0m \u001b[0mself\u001b[0m\u001b[1;33m.\u001b[0m\u001b[0m_batch_start_time\u001b[0m\u001b[1;33m\u001b[0m\u001b[1;33m\u001b[0m\u001b[0m\n\u001b[0;32m    308\u001b[0m \u001b[1;33m\u001b[0m\u001b[0m\n\u001b[1;32m--> 309\u001b[1;33m     \u001b[0mself\u001b[0m\u001b[1;33m.\u001b[0m\u001b[0m_call_batch_hook_helper\u001b[0m\u001b[1;33m(\u001b[0m\u001b[0mhook_name\u001b[0m\u001b[1;33m,\u001b[0m \u001b[0mbatch\u001b[0m\u001b[1;33m,\u001b[0m \u001b[0mlogs\u001b[0m\u001b[1;33m)\u001b[0m\u001b[1;33m\u001b[0m\u001b[1;33m\u001b[0m\u001b[0m\n\u001b[0m\u001b[0;32m    310\u001b[0m \u001b[1;33m\u001b[0m\u001b[0m\n\u001b[0;32m    311\u001b[0m     \u001b[1;32mif\u001b[0m \u001b[0mself\u001b[0m\u001b[1;33m.\u001b[0m\u001b[0m_check_timing\u001b[0m\u001b[1;33m:\u001b[0m\u001b[1;33m\u001b[0m\u001b[1;33m\u001b[0m\u001b[0m\n",
      "\u001b[1;32md:\\miniconda\\lib\\site-packages\\tensorflow\\python\\keras\\callbacks.py\u001b[0m in \u001b[0;36m_call_batch_hook_helper\u001b[1;34m(self, hook_name, batch, logs)\u001b[0m\n\u001b[0;32m    343\u001b[0m       \u001b[1;32melse\u001b[0m\u001b[1;33m:\u001b[0m\u001b[1;33m\u001b[0m\u001b[1;33m\u001b[0m\u001b[0m\n\u001b[0;32m    344\u001b[0m         \u001b[1;32mif\u001b[0m \u001b[0mnumpy_logs\u001b[0m \u001b[1;32mis\u001b[0m \u001b[1;32mNone\u001b[0m\u001b[1;33m:\u001b[0m  \u001b[1;31m# Only convert once.\u001b[0m\u001b[1;33m\u001b[0m\u001b[1;33m\u001b[0m\u001b[0m\n\u001b[1;32m--> 345\u001b[1;33m           \u001b[0mnumpy_logs\u001b[0m \u001b[1;33m=\u001b[0m \u001b[0mtf_utils\u001b[0m\u001b[1;33m.\u001b[0m\u001b[0mto_numpy_or_python_type\u001b[0m\u001b[1;33m(\u001b[0m\u001b[0mlogs\u001b[0m\u001b[1;33m)\u001b[0m\u001b[1;33m\u001b[0m\u001b[1;33m\u001b[0m\u001b[0m\n\u001b[0m\u001b[0;32m    346\u001b[0m         \u001b[0mhook\u001b[0m\u001b[1;33m(\u001b[0m\u001b[0mbatch\u001b[0m\u001b[1;33m,\u001b[0m \u001b[0mnumpy_logs\u001b[0m\u001b[1;33m)\u001b[0m\u001b[1;33m\u001b[0m\u001b[1;33m\u001b[0m\u001b[0m\n\u001b[0;32m    347\u001b[0m \u001b[1;33m\u001b[0m\u001b[0m\n",
      "\u001b[1;32md:\\miniconda\\lib\\site-packages\\tensorflow\\python\\keras\\utils\\tf_utils.py\u001b[0m in \u001b[0;36mto_numpy_or_python_type\u001b[1;34m(tensors)\u001b[0m\n\u001b[0;32m    535\u001b[0m     \u001b[1;32mreturn\u001b[0m \u001b[0mt\u001b[0m  \u001b[1;31m# Don't turn ragged or sparse tensors to NumPy.\u001b[0m\u001b[1;33m\u001b[0m\u001b[1;33m\u001b[0m\u001b[0m\n\u001b[0;32m    536\u001b[0m \u001b[1;33m\u001b[0m\u001b[0m\n\u001b[1;32m--> 537\u001b[1;33m   \u001b[1;32mreturn\u001b[0m \u001b[0mnest\u001b[0m\u001b[1;33m.\u001b[0m\u001b[0mmap_structure\u001b[0m\u001b[1;33m(\u001b[0m\u001b[0m_to_single_numpy_or_python_type\u001b[0m\u001b[1;33m,\u001b[0m \u001b[0mtensors\u001b[0m\u001b[1;33m)\u001b[0m\u001b[1;33m\u001b[0m\u001b[1;33m\u001b[0m\u001b[0m\n\u001b[0m\u001b[0;32m    538\u001b[0m \u001b[1;33m\u001b[0m\u001b[0m\n\u001b[0;32m    539\u001b[0m \u001b[1;33m\u001b[0m\u001b[0m\n",
      "\u001b[1;32md:\\miniconda\\lib\\site-packages\\tensorflow\\python\\util\\nest.py\u001b[0m in \u001b[0;36mmap_structure\u001b[1;34m(func, *structure, **kwargs)\u001b[0m\n\u001b[0;32m    633\u001b[0m \u001b[1;33m\u001b[0m\u001b[0m\n\u001b[0;32m    634\u001b[0m   return pack_sequence_as(\n\u001b[1;32m--> 635\u001b[1;33m       \u001b[0mstructure\u001b[0m\u001b[1;33m[\u001b[0m\u001b[1;36m0\u001b[0m\u001b[1;33m]\u001b[0m\u001b[1;33m,\u001b[0m \u001b[1;33m[\u001b[0m\u001b[0mfunc\u001b[0m\u001b[1;33m(\u001b[0m\u001b[1;33m*\u001b[0m\u001b[0mx\u001b[0m\u001b[1;33m)\u001b[0m \u001b[1;32mfor\u001b[0m \u001b[0mx\u001b[0m \u001b[1;32min\u001b[0m \u001b[0mentries\u001b[0m\u001b[1;33m]\u001b[0m\u001b[1;33m,\u001b[0m\u001b[1;33m\u001b[0m\u001b[1;33m\u001b[0m\u001b[0m\n\u001b[0m\u001b[0;32m    636\u001b[0m       expand_composites=expand_composites)\n\u001b[0;32m    637\u001b[0m \u001b[1;33m\u001b[0m\u001b[0m\n",
      "\u001b[1;32md:\\miniconda\\lib\\site-packages\\tensorflow\\python\\util\\nest.py\u001b[0m in \u001b[0;36m<listcomp>\u001b[1;34m(.0)\u001b[0m\n\u001b[0;32m    633\u001b[0m \u001b[1;33m\u001b[0m\u001b[0m\n\u001b[0;32m    634\u001b[0m   return pack_sequence_as(\n\u001b[1;32m--> 635\u001b[1;33m       \u001b[0mstructure\u001b[0m\u001b[1;33m[\u001b[0m\u001b[1;36m0\u001b[0m\u001b[1;33m]\u001b[0m\u001b[1;33m,\u001b[0m \u001b[1;33m[\u001b[0m\u001b[0mfunc\u001b[0m\u001b[1;33m(\u001b[0m\u001b[1;33m*\u001b[0m\u001b[0mx\u001b[0m\u001b[1;33m)\u001b[0m \u001b[1;32mfor\u001b[0m \u001b[0mx\u001b[0m \u001b[1;32min\u001b[0m \u001b[0mentries\u001b[0m\u001b[1;33m]\u001b[0m\u001b[1;33m,\u001b[0m\u001b[1;33m\u001b[0m\u001b[1;33m\u001b[0m\u001b[0m\n\u001b[0m\u001b[0;32m    636\u001b[0m       expand_composites=expand_composites)\n\u001b[0;32m    637\u001b[0m \u001b[1;33m\u001b[0m\u001b[0m\n",
      "\u001b[1;32md:\\miniconda\\lib\\site-packages\\tensorflow\\python\\keras\\utils\\tf_utils.py\u001b[0m in \u001b[0;36m_to_single_numpy_or_python_type\u001b[1;34m(t)\u001b[0m\n\u001b[0;32m    531\u001b[0m   \u001b[1;32mdef\u001b[0m \u001b[0m_to_single_numpy_or_python_type\u001b[0m\u001b[1;33m(\u001b[0m\u001b[0mt\u001b[0m\u001b[1;33m)\u001b[0m\u001b[1;33m:\u001b[0m\u001b[1;33m\u001b[0m\u001b[1;33m\u001b[0m\u001b[0m\n\u001b[0;32m    532\u001b[0m     \u001b[1;32mif\u001b[0m \u001b[0misinstance\u001b[0m\u001b[1;33m(\u001b[0m\u001b[0mt\u001b[0m\u001b[1;33m,\u001b[0m \u001b[0mops\u001b[0m\u001b[1;33m.\u001b[0m\u001b[0mTensor\u001b[0m\u001b[1;33m)\u001b[0m\u001b[1;33m:\u001b[0m\u001b[1;33m\u001b[0m\u001b[1;33m\u001b[0m\u001b[0m\n\u001b[1;32m--> 533\u001b[1;33m       \u001b[0mx\u001b[0m \u001b[1;33m=\u001b[0m \u001b[0mt\u001b[0m\u001b[1;33m.\u001b[0m\u001b[0mnumpy\u001b[0m\u001b[1;33m(\u001b[0m\u001b[1;33m)\u001b[0m\u001b[1;33m\u001b[0m\u001b[1;33m\u001b[0m\u001b[0m\n\u001b[0m\u001b[0;32m    534\u001b[0m       \u001b[1;32mreturn\u001b[0m \u001b[0mx\u001b[0m\u001b[1;33m.\u001b[0m\u001b[0mitem\u001b[0m\u001b[1;33m(\u001b[0m\u001b[1;33m)\u001b[0m \u001b[1;32mif\u001b[0m \u001b[0mnp\u001b[0m\u001b[1;33m.\u001b[0m\u001b[0mndim\u001b[0m\u001b[1;33m(\u001b[0m\u001b[0mx\u001b[0m\u001b[1;33m)\u001b[0m \u001b[1;33m==\u001b[0m \u001b[1;36m0\u001b[0m \u001b[1;32melse\u001b[0m \u001b[0mx\u001b[0m\u001b[1;33m\u001b[0m\u001b[1;33m\u001b[0m\u001b[0m\n\u001b[0;32m    535\u001b[0m     \u001b[1;32mreturn\u001b[0m \u001b[0mt\u001b[0m  \u001b[1;31m# Don't turn ragged or sparse tensors to NumPy.\u001b[0m\u001b[1;33m\u001b[0m\u001b[1;33m\u001b[0m\u001b[0m\n",
      "\u001b[1;32md:\\miniconda\\lib\\site-packages\\tensorflow\\python\\framework\\ops.py\u001b[0m in \u001b[0;36mnumpy\u001b[1;34m(self)\u001b[0m\n\u001b[0;32m   1061\u001b[0m     \"\"\"\n\u001b[0;32m   1062\u001b[0m     \u001b[1;31m# TODO(slebedev): Consider avoiding a copy for non-CPU or remote tensors.\u001b[0m\u001b[1;33m\u001b[0m\u001b[1;33m\u001b[0m\u001b[1;33m\u001b[0m\u001b[0m\n\u001b[1;32m-> 1063\u001b[1;33m     \u001b[0mmaybe_arr\u001b[0m \u001b[1;33m=\u001b[0m \u001b[0mself\u001b[0m\u001b[1;33m.\u001b[0m\u001b[0m_numpy\u001b[0m\u001b[1;33m(\u001b[0m\u001b[1;33m)\u001b[0m  \u001b[1;31m# pylint: disable=protected-access\u001b[0m\u001b[1;33m\u001b[0m\u001b[1;33m\u001b[0m\u001b[0m\n\u001b[0m\u001b[0;32m   1064\u001b[0m     \u001b[1;32mreturn\u001b[0m \u001b[0mmaybe_arr\u001b[0m\u001b[1;33m.\u001b[0m\u001b[0mcopy\u001b[0m\u001b[1;33m(\u001b[0m\u001b[1;33m)\u001b[0m \u001b[1;32mif\u001b[0m \u001b[0misinstance\u001b[0m\u001b[1;33m(\u001b[0m\u001b[0mmaybe_arr\u001b[0m\u001b[1;33m,\u001b[0m \u001b[0mnp\u001b[0m\u001b[1;33m.\u001b[0m\u001b[0mndarray\u001b[0m\u001b[1;33m)\u001b[0m \u001b[1;32melse\u001b[0m \u001b[0mmaybe_arr\u001b[0m\u001b[1;33m\u001b[0m\u001b[1;33m\u001b[0m\u001b[0m\n\u001b[0;32m   1065\u001b[0m \u001b[1;33m\u001b[0m\u001b[0m\n",
      "\u001b[1;32md:\\miniconda\\lib\\site-packages\\tensorflow\\python\\framework\\ops.py\u001b[0m in \u001b[0;36m_numpy\u001b[1;34m(self)\u001b[0m\n\u001b[0;32m   1027\u001b[0m   \u001b[1;32mdef\u001b[0m \u001b[0m_numpy\u001b[0m\u001b[1;33m(\u001b[0m\u001b[0mself\u001b[0m\u001b[1;33m)\u001b[0m\u001b[1;33m:\u001b[0m\u001b[1;33m\u001b[0m\u001b[1;33m\u001b[0m\u001b[0m\n\u001b[0;32m   1028\u001b[0m     \u001b[1;32mtry\u001b[0m\u001b[1;33m:\u001b[0m\u001b[1;33m\u001b[0m\u001b[1;33m\u001b[0m\u001b[0m\n\u001b[1;32m-> 1029\u001b[1;33m       \u001b[1;32mreturn\u001b[0m \u001b[0mself\u001b[0m\u001b[1;33m.\u001b[0m\u001b[0m_numpy_internal\u001b[0m\u001b[1;33m(\u001b[0m\u001b[1;33m)\u001b[0m\u001b[1;33m\u001b[0m\u001b[1;33m\u001b[0m\u001b[0m\n\u001b[0m\u001b[0;32m   1030\u001b[0m     \u001b[1;32mexcept\u001b[0m \u001b[0mcore\u001b[0m\u001b[1;33m.\u001b[0m\u001b[0m_NotOkStatusException\u001b[0m \u001b[1;32mas\u001b[0m \u001b[0me\u001b[0m\u001b[1;33m:\u001b[0m  \u001b[1;31m# pylint: disable=protected-access\u001b[0m\u001b[1;33m\u001b[0m\u001b[1;33m\u001b[0m\u001b[0m\n\u001b[0;32m   1031\u001b[0m       \u001b[0msix\u001b[0m\u001b[1;33m.\u001b[0m\u001b[0mraise_from\u001b[0m\u001b[1;33m(\u001b[0m\u001b[0mcore\u001b[0m\u001b[1;33m.\u001b[0m\u001b[0m_status_to_exception\u001b[0m\u001b[1;33m(\u001b[0m\u001b[0me\u001b[0m\u001b[1;33m.\u001b[0m\u001b[0mcode\u001b[0m\u001b[1;33m,\u001b[0m \u001b[0me\u001b[0m\u001b[1;33m.\u001b[0m\u001b[0mmessage\u001b[0m\u001b[1;33m)\u001b[0m\u001b[1;33m,\u001b[0m \u001b[1;32mNone\u001b[0m\u001b[1;33m)\u001b[0m  \u001b[1;31m# pylint: disable=protected-access\u001b[0m\u001b[1;33m\u001b[0m\u001b[1;33m\u001b[0m\u001b[0m\n",
      "\u001b[1;31mKeyboardInterrupt\u001b[0m: "
     ]
    }
   ],
   "source": [
    "model.compile(loss = 'categorical_crossentropy',\n",
    "                    optimizer = Adam(lr = Lr),\n",
    "                    metrics = ['categorical_accuracy'])\n",
    "            \n",
    "model.fit_generator(\n",
    "    generator           = train_dataloader,\n",
    "    steps_per_epoch     = epoch_step,\n",
    "    validation_data     = val_dataloader,\n",
    "    validation_steps    = epoch_step_val,\n",
    "    epochs              = Epoch,\n",
    "    initial_epoch       = Init_Epoch,\n",
    "    use_multiprocessing = True if num_workers > 1 else False,\n",
    "    workers             = num_workers,\n",
    "    callbacks           = [logging, checkpoint, reduce_lr, early_stopping, loss_history]\n",
    "    #class_weight= cls_wt_dict\n",
    ")"
   ]
  },
  {
   "cell_type": "markdown",
   "id": "failing-engineering",
   "metadata": {},
   "source": [
    "# 画混淆矩阵"
   ]
  },
  {
   "cell_type": "code",
   "execution_count": 6,
   "id": "fleet-creek",
   "metadata": {},
   "outputs": [],
   "source": [
    "from sklearn.metrics import confusion_matrix\n",
    "from sklearn.utils.multiclass import unique_labels\n",
    "from matplotlib import pyplot as plt\n",
    "%matplotlib inline\n",
    "\n",
    "# borrowed from scikit learn  这个是为了画混淆矩阵\n",
    "def plot_confusion_matrix(y_true, y_pred, classes,\n",
    "                          normalize=False,\n",
    "                          title=None,\n",
    "                          cmap=plt.cm.Blues):\n",
    "    \"\"\"\n",
    "    This function prints and plots the confusion matrix.\n",
    "    Normalization can be applied by setting `normalize=True`.\n",
    "    \"\"\"\n",
    "    if not title:\n",
    "        if normalize:\n",
    "            title = 'Normalized confusion matrix'\n",
    "        else:\n",
    "            title = 'Confusion matrix, without normalization'\n",
    "\n",
    "    # Compute confusion matrix\n",
    "    cm = confusion_matrix(y_true, y_pred)\n",
    "    # Only use the labels that appear in the data\n",
    "    classes = classes[unique_labels(y_true, y_pred)]\n",
    "    if normalize:\n",
    "        cm = cm.astype('float') / cm.sum(axis=1)[:, np.newaxis]\n",
    "        print(\"Normalized confusion matrix\")\n",
    "    else:\n",
    "        print('Confusion matrix, without normalization')\n",
    "\n",
    "    print(cm)\n",
    "\n",
    "    fig, ax = plt.subplots()\n",
    "    im = ax.imshow(cm, interpolation='nearest', cmap=cmap)\n",
    "    ax.figure.colorbar(im, ax=ax)\n",
    "    # We want to show all ticks...\n",
    "    ax.set(xticks=np.arange(cm.shape[1]),\n",
    "           yticks=np.arange(cm.shape[0]),\n",
    "           # ... and label them with the respective list entries\n",
    "           xticklabels=classes, yticklabels=classes,\n",
    "           title=title,\n",
    "           ylabel='True label',\n",
    "           xlabel='Predicted label')\n",
    "\n",
    "    # Rotate the tick labels and set their alignment.\n",
    "    plt.setp(ax.get_xticklabels(), rotation=45, ha=\"right\",\n",
    "             rotation_mode=\"anchor\")\n",
    "\n",
    "    # Loop over data dimensions and create text annotations.\n",
    "    fmt = '.2f' if normalize else 'd'\n",
    "    thresh = cm.max() / 2.\n",
    "    for i in range(cm.shape[0]):\n",
    "        for j in range(cm.shape[1]):\n",
    "            ax.text(j, i, format(cm[i, j], fmt),\n",
    "                    ha=\"center\", va=\"center\",\n",
    "                    color=\"white\" if cm[i, j] > thresh else \"black\")\n",
    "    fig.tight_layout()\n",
    "    return ax"
   ]
  },
  {
   "cell_type": "code",
   "execution_count": null,
   "id": "pediatric-casting",
   "metadata": {},
   "outputs": [],
   "source": []
  },
  {
   "cell_type": "code",
   "execution_count": 51,
   "id": "covered-capitol",
   "metadata": {},
   "outputs": [],
   "source": [
    "val_for_test = ClsDatasets(test_path, input_shape, 1, num_classes, train = False)\n",
    "\n",
    "x_val_for_test = []\n",
    "y_val_for_test =[]\n",
    "\n",
    "for x,y in val_for_test:\n",
    "    x_val_for_test.append(x)\n",
    "    y_val_for_test.append(y)\n",
    "\n",
    "x_val_for_test = np.asarray(x_val_for_test)\n",
    "y_val_for_test = np.asarray(y_val_for_test)\n",
    "\n",
    "x_val_for_test = np.squeeze(x_val_for_test, 1)\n",
    "y_val_for_test = np.squeeze(y_val_for_test, 1)\n",
    "\n",
    "y_val_for_test_pred = model.predict(x_val_for_test)\n",
    "\n",
    "Y_pred_val = np.argmax(y_val_for_test_pred,axis=1)\n",
    "Y_actual_val = np.argmax(y_val_for_test,axis=1)\n",
    "\n",
    "#plot_confusion_matrix(Y_actual_val, Y_pred_val, np.array(class_names))"
   ]
  },
  {
   "cell_type": "code",
   "execution_count": 52,
   "id": "naval-alcohol",
   "metadata": {},
   "outputs": [
    {
     "name": "stdout",
     "output_type": "stream",
     "text": [
      "Confusion matrix, without normalization\n",
      "[[243  19]\n",
      " [ 15 555]]\n"
     ]
    },
    {
     "data": {
      "text/plain": [
       "<AxesSubplot:title={'center':'Confusion matrix, without normalization'}, xlabel='Predicted label', ylabel='True label'>"
      ]
     },
     "execution_count": 52,
     "metadata": {},
     "output_type": "execute_result"
    },
    {
     "data": {
      "image/png": "[encoded data removed]",
      "text/plain": [
       "<Figure size 432x288 with 2 Axes>"
      ]
     },
     "metadata": {
      "needs_background": "light"
     },
     "output_type": "display_data"
    }
   ],
   "source": [
    "plot_confusion_matrix(Y_actual_val, Y_pred_val, np.array(class_names))"
   ]
  },
  {
   "cell_type": "code",
   "execution_count": null,
   "id": "separate-villa",
   "metadata": {},
   "outputs": [],
   "source": []
  },
  {
   "cell_type": "code",
   "execution_count": null,
   "id": "cloudy-surprise",
   "metadata": {},
   "outputs": [],
   "source": []
  },
  {
   "cell_type": "code",
   "execution_count": null,
   "id": "accessory-tender",
   "metadata": {},
   "outputs": [],
   "source": []
  },
  {
   "cell_type": "code",
   "execution_count": null,
   "id": "critical-vietnam",
   "metadata": {},
   "outputs": [],
   "source": []
  },
  {
   "cell_type": "code",
   "execution_count": null,
   "id": "cardiac-detail",
   "metadata": {},
   "outputs": [],
   "source": []
  },
  {
   "cell_type": "code",
   "execution_count": null,
   "id": "international-pioneer",
   "metadata": {},
   "outputs": [],
   "source": []
  },
  {
   "cell_type": "markdown",
   "id": "advisory-shannon",
   "metadata": {},
   "source": [
    "# 三分类"
   ]
  },
  {
   "cell_type": "code",
   "execution_count": 3,
   "id": "unknown-tourist",
   "metadata": {},
   "outputs": [],
   "source": [
    "class_names_three = [\"Retinopathy_grade_1\", \"Retinopathy_grade_2\",\"Retinopathy_grade_3\"]\n",
    "num_classes_three = 3"
   ]
  },
  {
   "cell_type": "code",
   "execution_count": 4,
   "id": "applicable-making",
   "metadata": {},
   "outputs": [],
   "source": [
    "annotation_path = \"path_txt//test_stable/train_val_three.txt\"\n",
    "\n",
    "with open(annotation_path, \"r\") as f:\n",
    "    lines_test_three = f.readlines()"
   ]
  },
  {
   "cell_type": "code",
   "execution_count": 5,
   "id": "nutritional-cause",
   "metadata": {},
   "outputs": [],
   "source": [
    "lines_test_0_three = lines_test_three[:687]\n",
    "lines_test_1_three = lines_test_three[687:1475]\n",
    "lines_test_2_three = lines_test_three[1475:]"
   ]
  },
  {
   "cell_type": "code",
   "execution_count": 6,
   "id": "expected-syria",
   "metadata": {},
   "outputs": [],
   "source": [
    "np.random.seed(10101)\n",
    "np.random.shuffle(lines_test_0_three)\n",
    "np.random.shuffle(lines_test_1_three)\n",
    "np.random.shuffle(lines_test_2_three)\n",
    "np.random.seed(None)"
   ]
  },
  {
   "cell_type": "code",
   "execution_count": null,
   "id": "acute-brighton",
   "metadata": {},
   "outputs": [],
   "source": []
  },
  {
   "cell_type": "code",
   "execution_count": 7,
   "id": "demographic-defense",
   "metadata": {},
   "outputs": [],
   "source": [
    "val_split       = 0.2"
   ]
  },
  {
   "cell_type": "code",
   "execution_count": null,
   "id": "turkish-yugoslavia",
   "metadata": {},
   "outputs": [],
   "source": []
  },
  {
   "cell_type": "code",
   "execution_count": null,
   "id": "round-thesis",
   "metadata": {},
   "outputs": [],
   "source": []
  },
  {
   "cell_type": "code",
   "execution_count": 8,
   "id": "another-trauma",
   "metadata": {},
   "outputs": [],
   "source": [
    "lines_three = [lines_test_0_three, lines_test_1_three, lines_test_2_three]"
   ]
  },
  {
   "cell_type": "code",
   "execution_count": 9,
   "id": "diagnostic-correlation",
   "metadata": {},
   "outputs": [],
   "source": [
    "train_path_three = []\n",
    "val_path_three = []\n",
    "#test_path_three = []\n",
    "\n",
    "for i in range(3):\n",
    "    line = lines_three[i]\n",
    "    N = len(line)\n",
    "    num_val     = int(N * val_split)\n",
    "    num_train   = N - num_val\n",
    "    for j in range(N):\n",
    "        if j+1<=num_val:\n",
    "            val_path_three.append(line[j])\n",
    "        else:\n",
    "            train_path_three.append(line[j])"
   ]
  },
  {
   "cell_type": "code",
   "execution_count": 10,
   "id": "bright-mattress",
   "metadata": {},
   "outputs": [],
   "source": [
    "num_train = len(train_path_three)\n",
    "num_val = len(val_path_three)"
   ]
  },
  {
   "cell_type": "code",
   "execution_count": 11,
   "id": "careful-creek",
   "metadata": {},
   "outputs": [
    {
     "data": {
      "text/plain": [
       "1832"
      ]
     },
     "execution_count": 11,
     "metadata": {},
     "output_type": "execute_result"
    }
   ],
   "source": [
    "num_train"
   ]
  },
  {
   "cell_type": "code",
   "execution_count": 12,
   "id": "patient-female",
   "metadata": {},
   "outputs": [
    {
     "data": {
      "text/plain": [
       "456"
      ]
     },
     "execution_count": 12,
     "metadata": {},
     "output_type": "execute_result"
    }
   ],
   "source": [
    "num_val"
   ]
  },
  {
   "cell_type": "code",
   "execution_count": 13,
   "id": "fallen-scanning",
   "metadata": {},
   "outputs": [],
   "source": [
    "np.random.seed(2022)\n",
    "np.random.shuffle(train_path_three)\n",
    "np.random.shuffle(val_path_three)\n",
    "np.random.seed(None)"
   ]
  },
  {
   "cell_type": "code",
   "execution_count": 14,
   "id": "million-cinema",
   "metadata": {},
   "outputs": [],
   "source": [
    "annotation_path = \"path_txt//test_stable//test_three.txt\"\n",
    "\n",
    "with open(annotation_path, \"r\") as f:\n",
    "    test_path_three = f.readlines()"
   ]
  },
  {
   "cell_type": "code",
   "execution_count": 15,
   "id": "isolated-philip",
   "metadata": {},
   "outputs": [
    {
     "data": {
      "text/plain": [
       "570"
      ]
     },
     "execution_count": 15,
     "metadata": {},
     "output_type": "execute_result"
    }
   ],
   "source": [
    "len(test_path_three)"
   ]
  },
  {
   "cell_type": "markdown",
   "id": "pretty-burning",
   "metadata": {},
   "source": [
    "# 三分类模型"
   ]
  },
  {
   "cell_type": "code",
   "execution_count": 4,
   "id": "incomplete-african",
   "metadata": {},
   "outputs": [],
   "source": [
    "model_three = ResNet101(input_shape=[224,224,3],classes=3)"
   ]
  },
  {
   "cell_type": "code",
   "execution_count": 5,
   "id": "under-scope",
   "metadata": {},
   "outputs": [],
   "source": [
    "model_three.load_weights(\"weights/cls_3/cls_3-ep020-loss0.062-val_loss0.201.h5\")"
   ]
  },
  {
   "cell_type": "markdown",
   "id": "actual-steps",
   "metadata": {},
   "source": [
    "# 训练"
   ]
  },
  {
   "cell_type": "code",
   "execution_count": 20,
   "id": "entire-madison",
   "metadata": {},
   "outputs": [],
   "source": [
    "logging         = TensorBoard(log_dir = 'logs/')\n",
    "checkpoint      = ModelCheckpoint('logs/ep{epoch:03d}-loss{loss:.3f}-val_loss{val_loss:.3f}.h5',\n",
    "                                    monitor='val_loss', save_weights_only=True, save_best_only=False, period=5)\n",
    "reduce_lr       = ExponentDecayScheduler(decay_rate = 0.95, verbose = 1)\n",
    "early_stopping  = EarlyStopping(monitor='val_loss', min_delta=0, patience=10, verbose=1)\n",
    "loss_history    = LossHistory('logs/')"
   ]
  },
  {
   "cell_type": "code",
   "execution_count": 21,
   "id": "arabic-majority",
   "metadata": {},
   "outputs": [
    {
     "name": "stdout",
     "output_type": "stream",
     "text": [
      "Train on 1832 samples, val on 456 samples, with batch size 16.\n"
     ]
    }
   ],
   "source": [
    "batch_size      = 16\n",
    "Lr              = 1e-4\n",
    "Init_Epoch      = 0\n",
    "Epoch           = 100\n",
    "input_shape     = [224, 224]\n",
    "num_workers     = 1\n",
    "\n",
    "epoch_step          = num_train // batch_size\n",
    "epoch_step_val      = num_val // batch_size\n",
    "\n",
    "if epoch_step == 0 or epoch_step_val == 0:\n",
    "    raise ValueError('数据集过小，无法进行训练，请扩充数据集。')\n",
    "            \n",
    "print('Train on {} samples, val on {} samples, with batch size {}.'.format(num_train, num_val, batch_size))"
   ]
  },
  {
   "cell_type": "code",
   "execution_count": 22,
   "id": "reflected-yahoo",
   "metadata": {},
   "outputs": [],
   "source": [
    "train_dataloader_three    = ClsDatasets(train_path_three, input_shape, batch_size, num_classes_three, train = True)\n",
    "val_dataloader_three      = ClsDatasets(val_path_three, input_shape, batch_size, num_classes_three, train = False)"
   ]
  },
  {
   "cell_type": "code",
   "execution_count": 23,
   "id": "bulgarian-collar",
   "metadata": {},
   "outputs": [
    {
     "name": "stdout",
     "output_type": "stream",
     "text": [
      "WARNING:tensorflow:From <ipython-input-23-7f13874d9692>:14: Model.fit_generator (from tensorflow.python.keras.engine.training) is deprecated and will be removed in a future version.\n",
      "Instructions for updating:\n",
      "Please use Model.fit, which supports generators.\n",
      "Epoch 1/100\n",
      "  1/114 [..............................] - ETA: 0s - loss: 0.9508 - categorical_accuracy: 0.4375WARNING:tensorflow:From d:\\miniconda\\lib\\site-packages\\tensorflow\\python\\ops\\summary_ops_v2.py:1277: stop (from tensorflow.python.eager.profiler) is deprecated and will be removed after 2020-07-01.\n",
      "Instructions for updating:\n",
      "use `tf.profiler.experimental.stop` instead.\n",
      "  2/114 [..............................] - ETA: 2:31 - loss: 0.8837 - categorical_accuracy: 0.5312WARNING:tensorflow:Callbacks method `on_train_batch_end` is slow compared to the batch time (batch time: 0.3708s vs `on_train_batch_end` time: 2.2924s). Check your callbacks.\n",
      "114/114 [==============================] - ETA: 0s - loss: 0.9626 - categorical_accuracy: 0.5844Setting learning rate to 9.499999760009814e-05.\n",
      "114/114 [==============================] - 156s 1s/step - loss: 0.9626 - categorical_accuracy: 0.5844 - val_loss: 1.2247 - val_categorical_accuracy: 0.3415\n",
      "Epoch 2/100\n",
      "114/114 [==============================] - ETA: 0s - loss: 0.6521 - categorical_accuracy: 0.6990Setting learning rate to 9.02499959920533e-05.\n",
      "114/114 [==============================] - 104s 910ms/step - loss: 0.6521 - categorical_accuracy: 0.6990 - val_loss: 1.1248 - val_categorical_accuracy: 0.3594\n",
      "Epoch 3/100\n",
      "114/114 [==============================] - ETA: 0s - loss: 0.5801 - categorical_accuracy: 0.7505Setting learning rate to 8.573749619245064e-05.\n",
      "114/114 [==============================] - 79s 695ms/step - loss: 0.5801 - categorical_accuracy: 0.7505 - val_loss: 1.1350 - val_categorical_accuracy: 0.3281\n",
      "Epoch 4/100\n",
      "114/114 [==============================] - ETA: 0s - loss: 0.4885 - categorical_accuracy: 0.7802Setting learning rate to 8.145062311086804e-05.\n",
      "114/114 [==============================] - 81s 708ms/step - loss: 0.4885 - categorical_accuracy: 0.7802 - val_loss: 1.0403 - val_categorical_accuracy: 0.4420\n",
      "Epoch 5/100\n",
      "114/114 [==============================] - ETA: 0s - loss: 0.4677 - categorical_accuracy: 0.8076Setting learning rate to 7.737808919046074e-05.\n",
      "114/114 [==============================] - 82s 721ms/step - loss: 0.4677 - categorical_accuracy: 0.8076 - val_loss: 1.0094 - val_categorical_accuracy: 0.4888\n",
      "Epoch 6/100\n",
      "114/114 [==============================] - ETA: 0s - loss: 0.3793 - categorical_accuracy: 0.8405Setting learning rate to 7.350918749580159e-05.\n",
      "114/114 [==============================] - 82s 716ms/step - loss: 0.3793 - categorical_accuracy: 0.8405 - val_loss: 0.7545 - val_categorical_accuracy: 0.6183\n",
      "Epoch 7/100\n",
      "114/114 [==============================] - ETA: 0s - loss: 0.3163 - categorical_accuracy: 0.8739Setting learning rate to 6.983372950344346e-05.\n",
      "114/114 [==============================] - 82s 721ms/step - loss: 0.3163 - categorical_accuracy: 0.8739 - val_loss: 0.5551 - val_categorical_accuracy: 0.7545\n",
      "Epoch 8/100\n",
      "114/114 [==============================] - ETA: 0s - loss: 0.2637 - categorical_accuracy: 0.8958Setting learning rate to 6.634204510191921e-05.\n",
      "114/114 [==============================] - 82s 723ms/step - loss: 0.2637 - categorical_accuracy: 0.8958 - val_loss: 0.4176 - val_categorical_accuracy: 0.8393\n",
      "Epoch 9/100\n",
      "114/114 [==============================] - ETA: 0s - loss: 0.2565 - categorical_accuracy: 0.9035Setting learning rate to 6.302494111878331e-05.\n",
      "114/114 [==============================] - 83s 726ms/step - loss: 0.2565 - categorical_accuracy: 0.9035 - val_loss: 0.3005 - val_categorical_accuracy: 0.8862\n",
      "Epoch 10/100\n",
      "114/114 [==============================] - ETA: 0s - loss: 0.2060 - categorical_accuracy: 0.9150Setting learning rate to 5.9873694408452134e-05.\n",
      "114/114 [==============================] - 83s 725ms/step - loss: 0.2060 - categorical_accuracy: 0.9150 - val_loss: 0.3551 - val_categorical_accuracy: 0.8996\n",
      "Epoch 11/100\n",
      "114/114 [==============================] - ETA: 0s - loss: 0.1710 - categorical_accuracy: 0.9326Setting learning rate to 5.68800103792455e-05.\n",
      "114/114 [==============================] - 83s 726ms/step - loss: 0.1710 - categorical_accuracy: 0.9326 - val_loss: 0.3238 - val_categorical_accuracy: 0.8929\n",
      "Epoch 12/100\n",
      "114/114 [==============================] - ETA: 0s - loss: 0.1487 - categorical_accuracy: 0.9413Setting learning rate to 5.4036009169067255e-05.\n",
      "114/114 [==============================] - 82s 722ms/step - loss: 0.1487 - categorical_accuracy: 0.9413 - val_loss: 0.3138 - val_categorical_accuracy: 0.9196\n",
      "Epoch 13/100\n",
      "114/114 [==============================] - ETA: 0s - loss: 0.1567 - categorical_accuracy: 0.9370Setting learning rate to 5.133420836500591e-05.\n",
      "114/114 [==============================] - 82s 722ms/step - loss: 0.1567 - categorical_accuracy: 0.9370 - val_loss: 0.2576 - val_categorical_accuracy: 0.9263\n",
      "Epoch 14/100\n",
      "114/114 [==============================] - ETA: 0s - loss: 0.1079 - categorical_accuracy: 0.9655Setting learning rate to 4.876749881077558e-05.\n",
      "114/114 [==============================] - 83s 725ms/step - loss: 0.1079 - categorical_accuracy: 0.9655 - val_loss: 0.2611 - val_categorical_accuracy: 0.9263\n",
      "Epoch 15/100\n",
      "114/114 [==============================] - ETA: 0s - loss: 0.1196 - categorical_accuracy: 0.9589Setting learning rate to 4.63291238702368e-05.\n",
      "114/114 [==============================] - 83s 726ms/step - loss: 0.1196 - categorical_accuracy: 0.9589 - val_loss: 0.2889 - val_categorical_accuracy: 0.9286\n",
      "Epoch 16/100\n",
      "114/114 [==============================] - ETA: 0s - loss: 0.1056 - categorical_accuracy: 0.9605Setting learning rate to 4.4012669059156905e-05.\n",
      "114/114 [==============================] - 83s 731ms/step - loss: 0.1056 - categorical_accuracy: 0.9605 - val_loss: 0.5351 - val_categorical_accuracy: 0.8438\n",
      "Epoch 17/100\n",
      "114/114 [==============================] - ETA: 0s - loss: 0.1005 - categorical_accuracy: 0.9627Setting learning rate to 4.181203439657111e-05.\n",
      "114/114 [==============================] - 83s 729ms/step - loss: 0.1005 - categorical_accuracy: 0.9627 - val_loss: 0.3128 - val_categorical_accuracy: 0.9040\n",
      "Epoch 18/100\n",
      "114/114 [==============================] - ETA: 0s - loss: 0.0879 - categorical_accuracy: 0.9688Setting learning rate to 3.9721430948702614e-05.\n",
      "114/114 [==============================] - 83s 724ms/step - loss: 0.0879 - categorical_accuracy: 0.9688 - val_loss: 0.2851 - val_categorical_accuracy: 0.9174\n",
      "Epoch 19/100\n",
      "114/114 [==============================] - ETA: 0s - loss: 0.0706 - categorical_accuracy: 0.9759Setting learning rate to 3.773536009248346e-05.\n",
      "114/114 [==============================] - 82s 724ms/step - loss: 0.0706 - categorical_accuracy: 0.9759 - val_loss: 0.2185 - val_categorical_accuracy: 0.9375\n",
      "Epoch 20/100\n",
      "114/114 [==============================] - ETA: 0s - loss: 0.0621 - categorical_accuracy: 0.9786Setting learning rate to 3.584859277907526e-05.\n",
      "114/114 [==============================] - 84s 733ms/step - loss: 0.0621 - categorical_accuracy: 0.9786 - val_loss: 0.2013 - val_categorical_accuracy: 0.9442\n",
      "Epoch 21/100\n",
      " 11/114 [=>............................] - ETA: 1:03 - loss: 0.0227 - categorical_accuracy: 0.9886"
     ]
    },
    {
     "ename": "KeyboardInterrupt",
     "evalue": "",
     "output_type": "error",
     "traceback": [
      "\u001b[1;31m---------------------------------------------------------------------------\u001b[0m",
      "\u001b[1;31mKeyboardInterrupt\u001b[0m                         Traceback (most recent call last)",
      "\u001b[1;32m<ipython-input-23-7f13874d9692>\u001b[0m in \u001b[0;36m<module>\u001b[1;34m\u001b[0m\n\u001b[0;32m     12\u001b[0m     \u001b[0muse_multiprocessing\u001b[0m \u001b[1;33m=\u001b[0m \u001b[1;32mTrue\u001b[0m \u001b[1;32mif\u001b[0m \u001b[0mnum_workers\u001b[0m \u001b[1;33m>\u001b[0m \u001b[1;36m1\u001b[0m \u001b[1;32melse\u001b[0m \u001b[1;32mFalse\u001b[0m\u001b[1;33m,\u001b[0m\u001b[1;33m\u001b[0m\u001b[1;33m\u001b[0m\u001b[0m\n\u001b[0;32m     13\u001b[0m     \u001b[0mworkers\u001b[0m             \u001b[1;33m=\u001b[0m \u001b[0mnum_workers\u001b[0m\u001b[1;33m,\u001b[0m\u001b[1;33m\u001b[0m\u001b[1;33m\u001b[0m\u001b[0m\n\u001b[1;32m---> 14\u001b[1;33m     \u001b[0mcallbacks\u001b[0m           \u001b[1;33m=\u001b[0m \u001b[1;33m[\u001b[0m\u001b[0mlogging\u001b[0m\u001b[1;33m,\u001b[0m \u001b[0mcheckpoint\u001b[0m\u001b[1;33m,\u001b[0m \u001b[0mreduce_lr\u001b[0m\u001b[1;33m,\u001b[0m \u001b[0mearly_stopping\u001b[0m\u001b[1;33m,\u001b[0m \u001b[0mloss_history\u001b[0m\u001b[1;33m]\u001b[0m\u001b[1;33m\u001b[0m\u001b[1;33m\u001b[0m\u001b[0m\n\u001b[0m\u001b[0;32m     15\u001b[0m     \u001b[1;31m#class_weight= cls_wt_dict\u001b[0m\u001b[1;33m\u001b[0m\u001b[1;33m\u001b[0m\u001b[1;33m\u001b[0m\u001b[0m\n\u001b[0;32m     16\u001b[0m )\n",
      "\u001b[1;32md:\\miniconda\\lib\\site-packages\\tensorflow\\python\\util\\deprecation.py\u001b[0m in \u001b[0;36mnew_func\u001b[1;34m(*args, **kwargs)\u001b[0m\n\u001b[0;32m    322\u001b[0m               \u001b[1;34m'in a future version'\u001b[0m \u001b[1;32mif\u001b[0m \u001b[0mdate\u001b[0m \u001b[1;32mis\u001b[0m \u001b[1;32mNone\u001b[0m \u001b[1;32melse\u001b[0m \u001b[1;33m(\u001b[0m\u001b[1;34m'after %s'\u001b[0m \u001b[1;33m%\u001b[0m \u001b[0mdate\u001b[0m\u001b[1;33m)\u001b[0m\u001b[1;33m,\u001b[0m\u001b[1;33m\u001b[0m\u001b[1;33m\u001b[0m\u001b[0m\n\u001b[0;32m    323\u001b[0m               instructions)\n\u001b[1;32m--> 324\u001b[1;33m       \u001b[1;32mreturn\u001b[0m \u001b[0mfunc\u001b[0m\u001b[1;33m(\u001b[0m\u001b[1;33m*\u001b[0m\u001b[0margs\u001b[0m\u001b[1;33m,\u001b[0m \u001b[1;33m**\u001b[0m\u001b[0mkwargs\u001b[0m\u001b[1;33m)\u001b[0m\u001b[1;33m\u001b[0m\u001b[1;33m\u001b[0m\u001b[0m\n\u001b[0m\u001b[0;32m    325\u001b[0m     return tf_decorator.make_decorator(\n\u001b[0;32m    326\u001b[0m         \u001b[0mfunc\u001b[0m\u001b[1;33m,\u001b[0m \u001b[0mnew_func\u001b[0m\u001b[1;33m,\u001b[0m \u001b[1;34m'deprecated'\u001b[0m\u001b[1;33m,\u001b[0m\u001b[1;33m\u001b[0m\u001b[1;33m\u001b[0m\u001b[0m\n",
      "\u001b[1;32md:\\miniconda\\lib\\site-packages\\tensorflow\\python\\keras\\engine\\training.py\u001b[0m in \u001b[0;36mfit_generator\u001b[1;34m(self, generator, steps_per_epoch, epochs, verbose, callbacks, validation_data, validation_steps, validation_freq, class_weight, max_queue_size, workers, use_multiprocessing, shuffle, initial_epoch)\u001b[0m\n\u001b[0;32m   1827\u001b[0m         \u001b[0muse_multiprocessing\u001b[0m\u001b[1;33m=\u001b[0m\u001b[0muse_multiprocessing\u001b[0m\u001b[1;33m,\u001b[0m\u001b[1;33m\u001b[0m\u001b[1;33m\u001b[0m\u001b[0m\n\u001b[0;32m   1828\u001b[0m         \u001b[0mshuffle\u001b[0m\u001b[1;33m=\u001b[0m\u001b[0mshuffle\u001b[0m\u001b[1;33m,\u001b[0m\u001b[1;33m\u001b[0m\u001b[1;33m\u001b[0m\u001b[0m\n\u001b[1;32m-> 1829\u001b[1;33m         initial_epoch=initial_epoch)\n\u001b[0m\u001b[0;32m   1830\u001b[0m \u001b[1;33m\u001b[0m\u001b[0m\n\u001b[0;32m   1831\u001b[0m   @deprecation.deprecated(\n",
      "\u001b[1;32md:\\miniconda\\lib\\site-packages\\tensorflow\\python\\keras\\engine\\training.py\u001b[0m in \u001b[0;36m_method_wrapper\u001b[1;34m(self, *args, **kwargs)\u001b[0m\n\u001b[0;32m    106\u001b[0m   \u001b[1;32mdef\u001b[0m \u001b[0m_method_wrapper\u001b[0m\u001b[1;33m(\u001b[0m\u001b[0mself\u001b[0m\u001b[1;33m,\u001b[0m \u001b[1;33m*\u001b[0m\u001b[0margs\u001b[0m\u001b[1;33m,\u001b[0m \u001b[1;33m**\u001b[0m\u001b[0mkwargs\u001b[0m\u001b[1;33m)\u001b[0m\u001b[1;33m:\u001b[0m\u001b[1;33m\u001b[0m\u001b[1;33m\u001b[0m\u001b[0m\n\u001b[0;32m    107\u001b[0m     \u001b[1;32mif\u001b[0m \u001b[1;32mnot\u001b[0m \u001b[0mself\u001b[0m\u001b[1;33m.\u001b[0m\u001b[0m_in_multi_worker_mode\u001b[0m\u001b[1;33m(\u001b[0m\u001b[1;33m)\u001b[0m\u001b[1;33m:\u001b[0m  \u001b[1;31m# pylint: disable=protected-access\u001b[0m\u001b[1;33m\u001b[0m\u001b[1;33m\u001b[0m\u001b[0m\n\u001b[1;32m--> 108\u001b[1;33m       \u001b[1;32mreturn\u001b[0m \u001b[0mmethod\u001b[0m\u001b[1;33m(\u001b[0m\u001b[0mself\u001b[0m\u001b[1;33m,\u001b[0m \u001b[1;33m*\u001b[0m\u001b[0margs\u001b[0m\u001b[1;33m,\u001b[0m \u001b[1;33m**\u001b[0m\u001b[0mkwargs\u001b[0m\u001b[1;33m)\u001b[0m\u001b[1;33m\u001b[0m\u001b[1;33m\u001b[0m\u001b[0m\n\u001b[0m\u001b[0;32m    109\u001b[0m \u001b[1;33m\u001b[0m\u001b[0m\n\u001b[0;32m    110\u001b[0m     \u001b[1;31m# Running inside `run_distribute_coordinator` already.\u001b[0m\u001b[1;33m\u001b[0m\u001b[1;33m\u001b[0m\u001b[1;33m\u001b[0m\u001b[0m\n",
      "\u001b[1;32md:\\miniconda\\lib\\site-packages\\tensorflow\\python\\keras\\engine\\training.py\u001b[0m in \u001b[0;36mfit\u001b[1;34m(self, x, y, batch_size, epochs, verbose, callbacks, validation_split, validation_data, shuffle, class_weight, sample_weight, initial_epoch, steps_per_epoch, validation_steps, validation_batch_size, validation_freq, max_queue_size, workers, use_multiprocessing)\u001b[0m\n\u001b[0;32m   1101\u001b[0m               \u001b[0mlogs\u001b[0m \u001b[1;33m=\u001b[0m \u001b[0mtmp_logs\u001b[0m  \u001b[1;31m# No error, now safe to assign to logs.\u001b[0m\u001b[1;33m\u001b[0m\u001b[1;33m\u001b[0m\u001b[0m\n\u001b[0;32m   1102\u001b[0m               \u001b[0mend_step\u001b[0m \u001b[1;33m=\u001b[0m \u001b[0mstep\u001b[0m \u001b[1;33m+\u001b[0m \u001b[0mdata_handler\u001b[0m\u001b[1;33m.\u001b[0m\u001b[0mstep_increment\u001b[0m\u001b[1;33m\u001b[0m\u001b[1;33m\u001b[0m\u001b[0m\n\u001b[1;32m-> 1103\u001b[1;33m               \u001b[0mcallbacks\u001b[0m\u001b[1;33m.\u001b[0m\u001b[0mon_train_batch_end\u001b[0m\u001b[1;33m(\u001b[0m\u001b[0mend_step\u001b[0m\u001b[1;33m,\u001b[0m \u001b[0mlogs\u001b[0m\u001b[1;33m)\u001b[0m\u001b[1;33m\u001b[0m\u001b[1;33m\u001b[0m\u001b[0m\n\u001b[0m\u001b[0;32m   1104\u001b[0m         \u001b[0mepoch_logs\u001b[0m \u001b[1;33m=\u001b[0m \u001b[0mcopy\u001b[0m\u001b[1;33m.\u001b[0m\u001b[0mcopy\u001b[0m\u001b[1;33m(\u001b[0m\u001b[0mlogs\u001b[0m\u001b[1;33m)\u001b[0m\u001b[1;33m\u001b[0m\u001b[1;33m\u001b[0m\u001b[0m\n\u001b[0;32m   1105\u001b[0m \u001b[1;33m\u001b[0m\u001b[0m\n",
      "\u001b[1;32md:\\miniconda\\lib\\site-packages\\tensorflow\\python\\keras\\callbacks.py\u001b[0m in \u001b[0;36mon_train_batch_end\u001b[1;34m(self, batch, logs)\u001b[0m\n\u001b[0;32m    438\u001b[0m     \"\"\"\n\u001b[0;32m    439\u001b[0m     \u001b[1;32mif\u001b[0m \u001b[0mself\u001b[0m\u001b[1;33m.\u001b[0m\u001b[0m_should_call_train_batch_hooks\u001b[0m\u001b[1;33m:\u001b[0m\u001b[1;33m\u001b[0m\u001b[1;33m\u001b[0m\u001b[0m\n\u001b[1;32m--> 440\u001b[1;33m       \u001b[0mself\u001b[0m\u001b[1;33m.\u001b[0m\u001b[0m_call_batch_hook\u001b[0m\u001b[1;33m(\u001b[0m\u001b[0mModeKeys\u001b[0m\u001b[1;33m.\u001b[0m\u001b[0mTRAIN\u001b[0m\u001b[1;33m,\u001b[0m \u001b[1;34m'end'\u001b[0m\u001b[1;33m,\u001b[0m \u001b[0mbatch\u001b[0m\u001b[1;33m,\u001b[0m \u001b[0mlogs\u001b[0m\u001b[1;33m=\u001b[0m\u001b[0mlogs\u001b[0m\u001b[1;33m)\u001b[0m\u001b[1;33m\u001b[0m\u001b[1;33m\u001b[0m\u001b[0m\n\u001b[0m\u001b[0;32m    441\u001b[0m \u001b[1;33m\u001b[0m\u001b[0m\n\u001b[0;32m    442\u001b[0m   \u001b[1;32mdef\u001b[0m \u001b[0mon_test_batch_begin\u001b[0m\u001b[1;33m(\u001b[0m\u001b[0mself\u001b[0m\u001b[1;33m,\u001b[0m \u001b[0mbatch\u001b[0m\u001b[1;33m,\u001b[0m \u001b[0mlogs\u001b[0m\u001b[1;33m=\u001b[0m\u001b[1;32mNone\u001b[0m\u001b[1;33m)\u001b[0m\u001b[1;33m:\u001b[0m\u001b[1;33m\u001b[0m\u001b[1;33m\u001b[0m\u001b[0m\n",
      "\u001b[1;32md:\\miniconda\\lib\\site-packages\\tensorflow\\python\\keras\\callbacks.py\u001b[0m in \u001b[0;36m_call_batch_hook\u001b[1;34m(self, mode, hook, batch, logs)\u001b[0m\n\u001b[0;32m    287\u001b[0m       \u001b[0mself\u001b[0m\u001b[1;33m.\u001b[0m\u001b[0m_call_batch_begin_hook\u001b[0m\u001b[1;33m(\u001b[0m\u001b[0mmode\u001b[0m\u001b[1;33m,\u001b[0m \u001b[0mbatch\u001b[0m\u001b[1;33m,\u001b[0m \u001b[0mlogs\u001b[0m\u001b[1;33m)\u001b[0m\u001b[1;33m\u001b[0m\u001b[1;33m\u001b[0m\u001b[0m\n\u001b[0;32m    288\u001b[0m     \u001b[1;32melif\u001b[0m \u001b[0mhook\u001b[0m \u001b[1;33m==\u001b[0m \u001b[1;34m'end'\u001b[0m\u001b[1;33m:\u001b[0m\u001b[1;33m\u001b[0m\u001b[1;33m\u001b[0m\u001b[0m\n\u001b[1;32m--> 289\u001b[1;33m       \u001b[0mself\u001b[0m\u001b[1;33m.\u001b[0m\u001b[0m_call_batch_end_hook\u001b[0m\u001b[1;33m(\u001b[0m\u001b[0mmode\u001b[0m\u001b[1;33m,\u001b[0m \u001b[0mbatch\u001b[0m\u001b[1;33m,\u001b[0m \u001b[0mlogs\u001b[0m\u001b[1;33m)\u001b[0m\u001b[1;33m\u001b[0m\u001b[1;33m\u001b[0m\u001b[0m\n\u001b[0m\u001b[0;32m    290\u001b[0m     \u001b[1;32melse\u001b[0m\u001b[1;33m:\u001b[0m\u001b[1;33m\u001b[0m\u001b[1;33m\u001b[0m\u001b[0m\n\u001b[0;32m    291\u001b[0m       \u001b[1;32mraise\u001b[0m \u001b[0mValueError\u001b[0m\u001b[1;33m(\u001b[0m\u001b[1;34m'Unrecognized hook: {}'\u001b[0m\u001b[1;33m.\u001b[0m\u001b[0mformat\u001b[0m\u001b[1;33m(\u001b[0m\u001b[0mhook\u001b[0m\u001b[1;33m)\u001b[0m\u001b[1;33m)\u001b[0m\u001b[1;33m\u001b[0m\u001b[1;33m\u001b[0m\u001b[0m\n",
      "\u001b[1;32md:\\miniconda\\lib\\site-packages\\tensorflow\\python\\keras\\callbacks.py\u001b[0m in \u001b[0;36m_call_batch_end_hook\u001b[1;34m(self, mode, batch, logs)\u001b[0m\n\u001b[0;32m    307\u001b[0m       \u001b[0mbatch_time\u001b[0m \u001b[1;33m=\u001b[0m \u001b[0mtime\u001b[0m\u001b[1;33m.\u001b[0m\u001b[0mtime\u001b[0m\u001b[1;33m(\u001b[0m\u001b[1;33m)\u001b[0m \u001b[1;33m-\u001b[0m \u001b[0mself\u001b[0m\u001b[1;33m.\u001b[0m\u001b[0m_batch_start_time\u001b[0m\u001b[1;33m\u001b[0m\u001b[1;33m\u001b[0m\u001b[0m\n\u001b[0;32m    308\u001b[0m \u001b[1;33m\u001b[0m\u001b[0m\n\u001b[1;32m--> 309\u001b[1;33m     \u001b[0mself\u001b[0m\u001b[1;33m.\u001b[0m\u001b[0m_call_batch_hook_helper\u001b[0m\u001b[1;33m(\u001b[0m\u001b[0mhook_name\u001b[0m\u001b[1;33m,\u001b[0m \u001b[0mbatch\u001b[0m\u001b[1;33m,\u001b[0m \u001b[0mlogs\u001b[0m\u001b[1;33m)\u001b[0m\u001b[1;33m\u001b[0m\u001b[1;33m\u001b[0m\u001b[0m\n\u001b[0m\u001b[0;32m    310\u001b[0m \u001b[1;33m\u001b[0m\u001b[0m\n\u001b[0;32m    311\u001b[0m     \u001b[1;32mif\u001b[0m \u001b[0mself\u001b[0m\u001b[1;33m.\u001b[0m\u001b[0m_check_timing\u001b[0m\u001b[1;33m:\u001b[0m\u001b[1;33m\u001b[0m\u001b[1;33m\u001b[0m\u001b[0m\n",
      "\u001b[1;32md:\\miniconda\\lib\\site-packages\\tensorflow\\python\\keras\\callbacks.py\u001b[0m in \u001b[0;36m_call_batch_hook_helper\u001b[1;34m(self, hook_name, batch, logs)\u001b[0m\n\u001b[0;32m    343\u001b[0m       \u001b[1;32melse\u001b[0m\u001b[1;33m:\u001b[0m\u001b[1;33m\u001b[0m\u001b[1;33m\u001b[0m\u001b[0m\n\u001b[0;32m    344\u001b[0m         \u001b[1;32mif\u001b[0m \u001b[0mnumpy_logs\u001b[0m \u001b[1;32mis\u001b[0m \u001b[1;32mNone\u001b[0m\u001b[1;33m:\u001b[0m  \u001b[1;31m# Only convert once.\u001b[0m\u001b[1;33m\u001b[0m\u001b[1;33m\u001b[0m\u001b[0m\n\u001b[1;32m--> 345\u001b[1;33m           \u001b[0mnumpy_logs\u001b[0m \u001b[1;33m=\u001b[0m \u001b[0mtf_utils\u001b[0m\u001b[1;33m.\u001b[0m\u001b[0mto_numpy_or_python_type\u001b[0m\u001b[1;33m(\u001b[0m\u001b[0mlogs\u001b[0m\u001b[1;33m)\u001b[0m\u001b[1;33m\u001b[0m\u001b[1;33m\u001b[0m\u001b[0m\n\u001b[0m\u001b[0;32m    346\u001b[0m         \u001b[0mhook\u001b[0m\u001b[1;33m(\u001b[0m\u001b[0mbatch\u001b[0m\u001b[1;33m,\u001b[0m \u001b[0mnumpy_logs\u001b[0m\u001b[1;33m)\u001b[0m\u001b[1;33m\u001b[0m\u001b[1;33m\u001b[0m\u001b[0m\n\u001b[0;32m    347\u001b[0m \u001b[1;33m\u001b[0m\u001b[0m\n",
      "\u001b[1;32md:\\miniconda\\lib\\site-packages\\tensorflow\\python\\keras\\utils\\tf_utils.py\u001b[0m in \u001b[0;36mto_numpy_or_python_type\u001b[1;34m(tensors)\u001b[0m\n\u001b[0;32m    535\u001b[0m     \u001b[1;32mreturn\u001b[0m \u001b[0mt\u001b[0m  \u001b[1;31m# Don't turn ragged or sparse tensors to NumPy.\u001b[0m\u001b[1;33m\u001b[0m\u001b[1;33m\u001b[0m\u001b[0m\n\u001b[0;32m    536\u001b[0m \u001b[1;33m\u001b[0m\u001b[0m\n\u001b[1;32m--> 537\u001b[1;33m   \u001b[1;32mreturn\u001b[0m \u001b[0mnest\u001b[0m\u001b[1;33m.\u001b[0m\u001b[0mmap_structure\u001b[0m\u001b[1;33m(\u001b[0m\u001b[0m_to_single_numpy_or_python_type\u001b[0m\u001b[1;33m,\u001b[0m \u001b[0mtensors\u001b[0m\u001b[1;33m)\u001b[0m\u001b[1;33m\u001b[0m\u001b[1;33m\u001b[0m\u001b[0m\n\u001b[0m\u001b[0;32m    538\u001b[0m \u001b[1;33m\u001b[0m\u001b[0m\n\u001b[0;32m    539\u001b[0m \u001b[1;33m\u001b[0m\u001b[0m\n",
      "\u001b[1;32md:\\miniconda\\lib\\site-packages\\tensorflow\\python\\util\\nest.py\u001b[0m in \u001b[0;36mmap_structure\u001b[1;34m(func, *structure, **kwargs)\u001b[0m\n\u001b[0;32m    633\u001b[0m \u001b[1;33m\u001b[0m\u001b[0m\n\u001b[0;32m    634\u001b[0m   return pack_sequence_as(\n\u001b[1;32m--> 635\u001b[1;33m       \u001b[0mstructure\u001b[0m\u001b[1;33m[\u001b[0m\u001b[1;36m0\u001b[0m\u001b[1;33m]\u001b[0m\u001b[1;33m,\u001b[0m \u001b[1;33m[\u001b[0m\u001b[0mfunc\u001b[0m\u001b[1;33m(\u001b[0m\u001b[1;33m*\u001b[0m\u001b[0mx\u001b[0m\u001b[1;33m)\u001b[0m \u001b[1;32mfor\u001b[0m \u001b[0mx\u001b[0m \u001b[1;32min\u001b[0m \u001b[0mentries\u001b[0m\u001b[1;33m]\u001b[0m\u001b[1;33m,\u001b[0m\u001b[1;33m\u001b[0m\u001b[1;33m\u001b[0m\u001b[0m\n\u001b[0m\u001b[0;32m    636\u001b[0m       expand_composites=expand_composites)\n\u001b[0;32m    637\u001b[0m \u001b[1;33m\u001b[0m\u001b[0m\n",
      "\u001b[1;32md:\\miniconda\\lib\\site-packages\\tensorflow\\python\\util\\nest.py\u001b[0m in \u001b[0;36m<listcomp>\u001b[1;34m(.0)\u001b[0m\n\u001b[0;32m    633\u001b[0m \u001b[1;33m\u001b[0m\u001b[0m\n\u001b[0;32m    634\u001b[0m   return pack_sequence_as(\n\u001b[1;32m--> 635\u001b[1;33m       \u001b[0mstructure\u001b[0m\u001b[1;33m[\u001b[0m\u001b[1;36m0\u001b[0m\u001b[1;33m]\u001b[0m\u001b[1;33m,\u001b[0m \u001b[1;33m[\u001b[0m\u001b[0mfunc\u001b[0m\u001b[1;33m(\u001b[0m\u001b[1;33m*\u001b[0m\u001b[0mx\u001b[0m\u001b[1;33m)\u001b[0m \u001b[1;32mfor\u001b[0m \u001b[0mx\u001b[0m \u001b[1;32min\u001b[0m \u001b[0mentries\u001b[0m\u001b[1;33m]\u001b[0m\u001b[1;33m,\u001b[0m\u001b[1;33m\u001b[0m\u001b[1;33m\u001b[0m\u001b[0m\n\u001b[0m\u001b[0;32m    636\u001b[0m       expand_composites=expand_composites)\n\u001b[0;32m    637\u001b[0m \u001b[1;33m\u001b[0m\u001b[0m\n",
      "\u001b[1;32md:\\miniconda\\lib\\site-packages\\tensorflow\\python\\keras\\utils\\tf_utils.py\u001b[0m in \u001b[0;36m_to_single_numpy_or_python_type\u001b[1;34m(t)\u001b[0m\n\u001b[0;32m    531\u001b[0m   \u001b[1;32mdef\u001b[0m \u001b[0m_to_single_numpy_or_python_type\u001b[0m\u001b[1;33m(\u001b[0m\u001b[0mt\u001b[0m\u001b[1;33m)\u001b[0m\u001b[1;33m:\u001b[0m\u001b[1;33m\u001b[0m\u001b[1;33m\u001b[0m\u001b[0m\n\u001b[0;32m    532\u001b[0m     \u001b[1;32mif\u001b[0m \u001b[0misinstance\u001b[0m\u001b[1;33m(\u001b[0m\u001b[0mt\u001b[0m\u001b[1;33m,\u001b[0m \u001b[0mops\u001b[0m\u001b[1;33m.\u001b[0m\u001b[0mTensor\u001b[0m\u001b[1;33m)\u001b[0m\u001b[1;33m:\u001b[0m\u001b[1;33m\u001b[0m\u001b[1;33m\u001b[0m\u001b[0m\n\u001b[1;32m--> 533\u001b[1;33m       \u001b[0mx\u001b[0m \u001b[1;33m=\u001b[0m \u001b[0mt\u001b[0m\u001b[1;33m.\u001b[0m\u001b[0mnumpy\u001b[0m\u001b[1;33m(\u001b[0m\u001b[1;33m)\u001b[0m\u001b[1;33m\u001b[0m\u001b[1;33m\u001b[0m\u001b[0m\n\u001b[0m\u001b[0;32m    534\u001b[0m       \u001b[1;32mreturn\u001b[0m \u001b[0mx\u001b[0m\u001b[1;33m.\u001b[0m\u001b[0mitem\u001b[0m\u001b[1;33m(\u001b[0m\u001b[1;33m)\u001b[0m \u001b[1;32mif\u001b[0m \u001b[0mnp\u001b[0m\u001b[1;33m.\u001b[0m\u001b[0mndim\u001b[0m\u001b[1;33m(\u001b[0m\u001b[0mx\u001b[0m\u001b[1;33m)\u001b[0m \u001b[1;33m==\u001b[0m \u001b[1;36m0\u001b[0m \u001b[1;32melse\u001b[0m \u001b[0mx\u001b[0m\u001b[1;33m\u001b[0m\u001b[1;33m\u001b[0m\u001b[0m\n\u001b[0;32m    535\u001b[0m     \u001b[1;32mreturn\u001b[0m \u001b[0mt\u001b[0m  \u001b[1;31m# Don't turn ragged or sparse tensors to NumPy.\u001b[0m\u001b[1;33m\u001b[0m\u001b[1;33m\u001b[0m\u001b[0m\n",
      "\u001b[1;32md:\\miniconda\\lib\\site-packages\\tensorflow\\python\\framework\\ops.py\u001b[0m in \u001b[0;36mnumpy\u001b[1;34m(self)\u001b[0m\n\u001b[0;32m   1061\u001b[0m     \"\"\"\n\u001b[0;32m   1062\u001b[0m     \u001b[1;31m# TODO(slebedev): Consider avoiding a copy for non-CPU or remote tensors.\u001b[0m\u001b[1;33m\u001b[0m\u001b[1;33m\u001b[0m\u001b[1;33m\u001b[0m\u001b[0m\n\u001b[1;32m-> 1063\u001b[1;33m     \u001b[0mmaybe_arr\u001b[0m \u001b[1;33m=\u001b[0m \u001b[0mself\u001b[0m\u001b[1;33m.\u001b[0m\u001b[0m_numpy\u001b[0m\u001b[1;33m(\u001b[0m\u001b[1;33m)\u001b[0m  \u001b[1;31m# pylint: disable=protected-access\u001b[0m\u001b[1;33m\u001b[0m\u001b[1;33m\u001b[0m\u001b[0m\n\u001b[0m\u001b[0;32m   1064\u001b[0m     \u001b[1;32mreturn\u001b[0m \u001b[0mmaybe_arr\u001b[0m\u001b[1;33m.\u001b[0m\u001b[0mcopy\u001b[0m\u001b[1;33m(\u001b[0m\u001b[1;33m)\u001b[0m \u001b[1;32mif\u001b[0m \u001b[0misinstance\u001b[0m\u001b[1;33m(\u001b[0m\u001b[0mmaybe_arr\u001b[0m\u001b[1;33m,\u001b[0m \u001b[0mnp\u001b[0m\u001b[1;33m.\u001b[0m\u001b[0mndarray\u001b[0m\u001b[1;33m)\u001b[0m \u001b[1;32melse\u001b[0m \u001b[0mmaybe_arr\u001b[0m\u001b[1;33m\u001b[0m\u001b[1;33m\u001b[0m\u001b[0m\n\u001b[0;32m   1065\u001b[0m \u001b[1;33m\u001b[0m\u001b[0m\n",
      "\u001b[1;32md:\\miniconda\\lib\\site-packages\\tensorflow\\python\\framework\\ops.py\u001b[0m in \u001b[0;36m_numpy\u001b[1;34m(self)\u001b[0m\n\u001b[0;32m   1027\u001b[0m   \u001b[1;32mdef\u001b[0m \u001b[0m_numpy\u001b[0m\u001b[1;33m(\u001b[0m\u001b[0mself\u001b[0m\u001b[1;33m)\u001b[0m\u001b[1;33m:\u001b[0m\u001b[1;33m\u001b[0m\u001b[1;33m\u001b[0m\u001b[0m\n\u001b[0;32m   1028\u001b[0m     \u001b[1;32mtry\u001b[0m\u001b[1;33m:\u001b[0m\u001b[1;33m\u001b[0m\u001b[1;33m\u001b[0m\u001b[0m\n\u001b[1;32m-> 1029\u001b[1;33m       \u001b[1;32mreturn\u001b[0m \u001b[0mself\u001b[0m\u001b[1;33m.\u001b[0m\u001b[0m_numpy_internal\u001b[0m\u001b[1;33m(\u001b[0m\u001b[1;33m)\u001b[0m\u001b[1;33m\u001b[0m\u001b[1;33m\u001b[0m\u001b[0m\n\u001b[0m\u001b[0;32m   1030\u001b[0m     \u001b[1;32mexcept\u001b[0m \u001b[0mcore\u001b[0m\u001b[1;33m.\u001b[0m\u001b[0m_NotOkStatusException\u001b[0m \u001b[1;32mas\u001b[0m \u001b[0me\u001b[0m\u001b[1;33m:\u001b[0m  \u001b[1;31m# pylint: disable=protected-access\u001b[0m\u001b[1;33m\u001b[0m\u001b[1;33m\u001b[0m\u001b[0m\n\u001b[0;32m   1031\u001b[0m       \u001b[0msix\u001b[0m\u001b[1;33m.\u001b[0m\u001b[0mraise_from\u001b[0m\u001b[1;33m(\u001b[0m\u001b[0mcore\u001b[0m\u001b[1;33m.\u001b[0m\u001b[0m_status_to_exception\u001b[0m\u001b[1;33m(\u001b[0m\u001b[0me\u001b[0m\u001b[1;33m.\u001b[0m\u001b[0mcode\u001b[0m\u001b[1;33m,\u001b[0m \u001b[0me\u001b[0m\u001b[1;33m.\u001b[0m\u001b[0mmessage\u001b[0m\u001b[1;33m)\u001b[0m\u001b[1;33m,\u001b[0m \u001b[1;32mNone\u001b[0m\u001b[1;33m)\u001b[0m  \u001b[1;31m# pylint: disable=protected-access\u001b[0m\u001b[1;33m\u001b[0m\u001b[1;33m\u001b[0m\u001b[0m\n",
      "\u001b[1;31mKeyboardInterrupt\u001b[0m: "
     ]
    }
   ],
   "source": [
    "model_three.compile(loss = 'categorical_crossentropy',\n",
    "                    optimizer = Adam(lr = Lr),\n",
    "                    metrics = ['categorical_accuracy'])\n",
    "            \n",
    "model_three.fit_generator(\n",
    "    generator           = train_dataloader_three,\n",
    "    steps_per_epoch     = epoch_step,\n",
    "    validation_data     = val_dataloader_three,\n",
    "    validation_steps    = epoch_step_val,\n",
    "    epochs              = Epoch,\n",
    "    initial_epoch       = Init_Epoch,\n",
    "    use_multiprocessing = True if num_workers > 1 else False,\n",
    "    workers             = num_workers,\n",
    "    callbacks           = [logging, checkpoint, reduce_lr, early_stopping, loss_history]\n",
    "    #class_weight= cls_wt_dict\n",
    ")"
   ]
  },
  {
   "cell_type": "markdown",
   "id": "virtual-telescope",
   "metadata": {},
   "source": [
    "# 画三分类的混淆矩阵"
   ]
  },
  {
   "cell_type": "code",
   "execution_count": 26,
   "id": "complex-cycling",
   "metadata": {},
   "outputs": [],
   "source": [
    "val_for_test = ClsDatasets(test_path_three, input_shape, 1, num_classes_three, train = False)\n",
    "\n",
    "x_val_for_test = []\n",
    "y_val_for_test =[]\n",
    "\n",
    "for x,y in val_for_test:\n",
    "    x_val_for_test.append(x)\n",
    "    y_val_for_test.append(y)\n",
    "\n",
    "x_val_for_test = np.asarray(x_val_for_test)\n",
    "y_val_for_test = np.asarray(y_val_for_test)\n",
    "\n",
    "x_val_for_test = np.squeeze(x_val_for_test, 1)\n",
    "y_val_for_test = np.squeeze(y_val_for_test, 1)\n",
    "\n",
    "y_val_for_test_pred = model_three.predict(x_val_for_test)\n",
    "\n",
    "Y_pred_val = np.argmax(y_val_for_test_pred,axis=1)\n",
    "Y_actual_val = np.argmax(y_val_for_test,axis=1)\n",
    "\n",
    "#plot_confusion_matrix(Y_actual_val, Y_pred_val, np.array(class_names))"
   ]
  },
  {
   "cell_type": "code",
   "execution_count": 29,
   "id": "indoor-wrong",
   "metadata": {},
   "outputs": [
    {
     "name": "stdout",
     "output_type": "stream",
     "text": [
      "Confusion matrix, without normalization\n",
      "[[158  13   0]\n",
      " [  8 183   5]\n",
      " [  0  13 190]]\n"
     ]
    },
    {
     "data": {
      "text/plain": [
       "<AxesSubplot:title={'center':'Confusion matrix, without normalization'}, xlabel='Predicted label', ylabel='True label'>"
      ]
     },
     "execution_count": 29,
     "metadata": {},
     "output_type": "execute_result"
    },
    {
     "data": {
      "image/png": "[encoded data removed]",
      "text/plain": [
       "<Figure size 432x288 with 2 Axes>"
      ]
     },
     "metadata": {
      "needs_background": "light"
     },
     "output_type": "display_data"
    }
   ],
   "source": [
    "plot_confusion_matrix(Y_actual_val, Y_pred_val, np.array(class_names_three))"
   ]
  },
  {
   "cell_type": "code",
   "execution_count": null,
   "id": "actual-faculty",
   "metadata": {},
   "outputs": [],
   "source": []
  },
  {
   "cell_type": "markdown",
   "id": "uniform-waterproof",
   "metadata": {},
   "source": [
    "# 使用两个模型一起预测"
   ]
  },
  {
   "cell_type": "code",
   "execution_count": 7,
   "id": "toxic-canal",
   "metadata": {},
   "outputs": [],
   "source": [
    "annotation_path = \"path_txt//test_stable//test.txt\"\n",
    "\n",
    "with open(annotation_path, \"r\") as f:\n",
    "    test_path = f.readlines()"
   ]
  },
  {
   "cell_type": "code",
   "execution_count": 8,
   "id": "suspended-pitch",
   "metadata": {},
   "outputs": [],
   "source": [
    "model = ResNet101(input_shape=[224,224,3],classes=2)"
   ]
  },
  {
   "cell_type": "code",
   "execution_count": 9,
   "id": "unexpected-ghost",
   "metadata": {},
   "outputs": [],
   "source": [
    "model.load_weights(\"weights/cls_2/cls_2-ep020-loss0.078-val_loss0.243.h5\")"
   ]
  },
  {
   "cell_type": "code",
   "execution_count": 10,
   "id": "inclusive-criterion",
   "metadata": {},
   "outputs": [],
   "source": [
    "num_classes_final=4"
   ]
  },
  {
   "cell_type": "code",
   "execution_count": 12,
   "id": "similar-johnston",
   "metadata": {},
   "outputs": [],
   "source": [
    "input_shape = [224, 224]\n",
    "val_for_test = ClsDatasets(test_path, input_shape, 1, num_classes_final, train = False)\n",
    "\n",
    "x_val_for_test = []\n",
    "y_val_for_test =[]\n",
    "\n",
    "for x,y in val_for_test:\n",
    "    x_val_for_test.append(x)\n",
    "    y_val_for_test.append(y)\n",
    "\n",
    "x_val_for_test = np.asarray(x_val_for_test)\n",
    "y_val_for_test = np.asarray(y_val_for_test)\n",
    "\n",
    "x_val_for_test = np.squeeze(x_val_for_test, 1)\n",
    "y_val_for_test = np.squeeze(y_val_for_test, 1)"
   ]
  },
  {
   "cell_type": "code",
   "execution_count": 13,
   "id": "advanced-handling",
   "metadata": {},
   "outputs": [],
   "source": [
    "two_cls = model.predict(x_val_for_test)"
   ]
  },
  {
   "cell_type": "code",
   "execution_count": 14,
   "id": "indirect-grace",
   "metadata": {},
   "outputs": [],
   "source": [
    "two_cls = np.argmax(two_cls,axis=1)"
   ]
  },
  {
   "cell_type": "code",
   "execution_count": 15,
   "id": "impressed-noise",
   "metadata": {},
   "outputs": [],
   "source": [
    "#two_cls"
   ]
  },
  {
   "cell_type": "code",
   "execution_count": 16,
   "id": "premier-tattoo",
   "metadata": {},
   "outputs": [],
   "source": [
    "three_cls = model_three.predict(x_val_for_test)"
   ]
  },
  {
   "cell_type": "code",
   "execution_count": 17,
   "id": "marked-buying",
   "metadata": {},
   "outputs": [],
   "source": [
    "three_cls = np.argmax(three_cls,axis=1)"
   ]
  },
  {
   "cell_type": "code",
   "execution_count": 18,
   "id": "straight-warning",
   "metadata": {},
   "outputs": [
    {
     "data": {
      "text/plain": [
       "(832,)"
      ]
     },
     "execution_count": 18,
     "metadata": {},
     "output_type": "execute_result"
    }
   ],
   "source": [
    "three_cls.shape"
   ]
  },
  {
   "cell_type": "code",
   "execution_count": 19,
   "id": "chemical-parts",
   "metadata": {},
   "outputs": [],
   "source": [
    "y_val_for_test_pred = []\n",
    "for i,x in enumerate(two_cls):\n",
    "    if x==0:\n",
    "        y_val_for_test_pred.append(0)\n",
    "    else:\n",
    "        y_val_for_test_pred.append(three_cls[i]+1)"
   ]
  },
  {
   "cell_type": "code",
   "execution_count": 20,
   "id": "fifth-mumbai",
   "metadata": {},
   "outputs": [],
   "source": [
    "Y_pred_val =  np.asarray(y_val_for_test_pred) \n",
    "        \n",
    "#Y_pred_val = np.argmax(y_val_for_test_pred,axis=1)\n",
    "Y_actual_val = np.argmax(y_val_for_test,axis=1)"
   ]
  },
  {
   "cell_type": "code",
   "execution_count": 21,
   "id": "pretty-pilot",
   "metadata": {},
   "outputs": [],
   "source": [
    "class_names_final = [\"Retinopathy_grade_0\",\"Retinopathy_grade_1\", \"Retinopathy_grade_2\",\"Retinopathy_grade_3\"]"
   ]
  },
  {
   "cell_type": "code",
   "execution_count": 22,
   "id": "federal-jewelry",
   "metadata": {},
   "outputs": [
    {
     "name": "stdout",
     "output_type": "stream",
     "text": [
      "Confusion matrix, without normalization\n",
      "[[251   5   6   0]\n",
      " [ 14 150   7   0]\n",
      " [  8  12 172   4]\n",
      " [  2   1  12 188]]\n"
     ]
    },
    {
     "data": {
      "text/plain": [
       "<AxesSubplot:title={'center':'Confusion matrix, without normalization'}, xlabel='Predicted label', ylabel='True label'>"
      ]
     },
     "execution_count": 22,
     "metadata": {},
     "output_type": "execute_result"
    },
    {
     "data": {
      "image/png": "[encoded data removed]",
      "text/plain": [
       "<Figure size 432x288 with 2 Axes>"
      ]
     },
     "metadata": {
      "needs_background": "light"
     },
     "output_type": "display_data"
    }
   ],
   "source": [
    "plot_confusion_matrix(Y_actual_val, Y_pred_val, np.array(class_names_final))"
   ]
  },
  {
   "cell_type": "code",
   "execution_count": null,
   "id": "round-advice",
   "metadata": {},
   "outputs": [],
   "source": []
  }
 ],
 "metadata": {
  "kernelspec": {
   "display_name": "Python 3",
   "language": "python",
   "name": "python3"
  },
  "language_info": {
   "codemirror_mode": {
    "name": "ipython",
    "version": 3
   },
   "file_extension": ".py",
   "mimetype": "text/x-python",
   "name": "python",
   "nbconvert_exporter": "python",
   "pygments_lexer": "ipython3",
   "version": "3.7.6"
  }
 },
 "nbformat": 4,
 "nbformat_minor": 5
}
