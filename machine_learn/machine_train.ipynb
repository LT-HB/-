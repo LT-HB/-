{
 "cells": [
  {
   "cell_type": "code",
   "execution_count": 64,
   "id": "continued-puzzle",
   "metadata": {},
   "outputs": [],
   "source": [
    "import numpy as np\n",
    "from utils.dataloader import ClsDatasets\n",
    "from utils.utils import get_classes"
   ]
  },
  {
   "cell_type": "markdown",
   "id": "excited-female",
   "metadata": {},
   "source": [
    "# 1.获取类别和数量"
   ]
  },
  {
   "cell_type": "code",
   "execution_count": 2,
   "id": "liable-concept",
   "metadata": {},
   "outputs": [],
   "source": [
    "classes_path = '../path_txt/cls_classes.txt'\n",
    "class_names, num_classes = get_classes(classes_path) #得到类别与种类个数"
   ]
  },
  {
   "cell_type": "code",
   "execution_count": 3,
   "id": "adaptive-dividend",
   "metadata": {},
   "outputs": [
    {
     "name": "stdout",
     "output_type": "stream",
     "text": [
      "['Retinopathy_grade_0', 'Retinopathy_grade_1', 'Retinopathy_grade_2', 'Retinopathy_grade_3'] 4\n"
     ]
    }
   ],
   "source": [
    "print(class_names, num_classes)"
   ]
  },
  {
   "cell_type": "markdown",
   "id": "precise-beijing",
   "metadata": {},
   "source": [
    "# 2.获取训练集和验证集"
   ]
  },
  {
   "cell_type": "code",
   "execution_count": 4,
   "id": "twenty-monitoring",
   "metadata": {},
   "outputs": [],
   "source": [
    "annotation_path = \"../path_txt/test_stable/train_val.txt\"\n",
    "val_split       = 0.2\n",
    "\n",
    "with open(annotation_path, \"r\") as f:\n",
    "    lines = f.readlines()"
   ]
  },
  {
   "cell_type": "code",
   "execution_count": 5,
   "id": "fourth-sleeve",
   "metadata": {},
   "outputs": [
    {
     "data": {
      "text/plain": [
       "3338"
      ]
     },
     "execution_count": 5,
     "metadata": {},
     "output_type": "execute_result"
    }
   ],
   "source": [
    "len(lines)"
   ]
  },
  {
   "cell_type": "code",
   "execution_count": 6,
   "id": "junior-clerk",
   "metadata": {},
   "outputs": [],
   "source": [
    "#不划分训练集和验证集时，做K折交叉验证\n",
    "train_val_path = lines\n",
    "np.random.seed(10101)\n",
    "np.random.shuffle(train_val_path)\n",
    "np.random.seed(None)"
   ]
  },
  {
   "cell_type": "code",
   "execution_count": 7,
   "id": "looking-mexico",
   "metadata": {},
   "outputs": [],
   "source": [
    "#测试集路径"
   ]
  },
  {
   "cell_type": "code",
   "execution_count": 8,
   "id": "administrative-seeker",
   "metadata": {},
   "outputs": [],
   "source": [
    "annotation_path = \"../path_txt/test_stable/test.txt\"\n",
    "\n",
    "with open(annotation_path, \"r\") as f:\n",
    "    test_path = f.readlines()"
   ]
  },
  {
   "cell_type": "code",
   "execution_count": 9,
   "id": "brazilian-submission",
   "metadata": {},
   "outputs": [],
   "source": [
    "#得到 train_path val_path  "
   ]
  },
  {
   "cell_type": "markdown",
   "id": "ranking-powder",
   "metadata": {},
   "source": [
    "# 3.得到训练和验证的数据"
   ]
  },
  {
   "cell_type": "code",
   "execution_count": 10,
   "id": "electrical-pixel",
   "metadata": {},
   "outputs": [],
   "source": [
    "train_val_dataloader    = ClsDatasets(train_val_path, [224, 224], 1, num_classes, train = True)"
   ]
  },
  {
   "cell_type": "code",
   "execution_count": 11,
   "id": "partial-playback",
   "metadata": {},
   "outputs": [],
   "source": [
    "#train_val_dataloader[0]"
   ]
  },
  {
   "cell_type": "code",
   "execution_count": 12,
   "id": "handled-steam",
   "metadata": {},
   "outputs": [],
   "source": [
    "X_train_val = []\n",
    "Y_train_val =[]\n",
    "\n",
    "for x,y in train_val_dataloader:\n",
    "    X_train_val.append(x)\n",
    "    Y_train_val.append(y)\n",
    "\n",
    "X_train_val = np.asarray(X_train_val)\n",
    "Y_train_val = np.asarray(Y_train_val)\n",
    "\n",
    "X_train_val = np.squeeze(X_train_val, 1)\n",
    "Y_train_val = np.squeeze(Y_train_val, 1)\n",
    "\n",
    "Y_train_val = np.argmax(Y_train_val,axis=1)"
   ]
  },
  {
   "cell_type": "code",
   "execution_count": 13,
   "id": "growing-accident",
   "metadata": {},
   "outputs": [
    {
     "data": {
      "text/plain": [
       "(3338, 224, 224, 3)"
      ]
     },
     "execution_count": 13,
     "metadata": {},
     "output_type": "execute_result"
    }
   ],
   "source": [
    "X_train_val.shape"
   ]
  },
  {
   "cell_type": "markdown",
   "id": "dirty-syndication",
   "metadata": {},
   "source": [
    "# 4.特征提取用Resnet101"
   ]
  },
  {
   "cell_type": "code",
   "execution_count": 14,
   "id": "floppy-party",
   "metadata": {},
   "outputs": [],
   "source": [
    "from tensorflow.keras.layers import (Input,GlobalAveragePooling2D)\n",
    "from tensorflow.keras.models import Model\n",
    "from tensorflow.keras import applications"
   ]
  },
  {
   "cell_type": "code",
   "execution_count": 15,
   "id": "identical-pantyhose",
   "metadata": {},
   "outputs": [],
   "source": [
    "def resnet101(input_shape=None):\n",
    "    net = applications.ResNet101(include_top=False,input_shape=input_shape,weights=None)\n",
    "    return net\n",
    "\n",
    "def Feature_Extraction(input_shape=[224,224,3]):\n",
    "    img_input = Input(input_shape)\n",
    "    x = resnet101(input_shape)(img_input)\n",
    "    x = GlobalAveragePooling2D()(x)\n",
    "    x = Model(img_input, x, name='ResNet101')\n",
    "    return x"
   ]
  },
  {
   "cell_type": "code",
   "execution_count": 16,
   "id": "acting-missile",
   "metadata": {},
   "outputs": [],
   "source": [
    "extra_model = Feature_Extraction(input_shape=[224,224,3])"
   ]
  },
  {
   "cell_type": "code",
   "execution_count": 17,
   "id": "first-grade",
   "metadata": {},
   "outputs": [],
   "source": [
    "extra_model.load_weights(\"extra_model_weight.h5\")"
   ]
  },
  {
   "cell_type": "code",
   "execution_count": 18,
   "id": "instructional-capability",
   "metadata": {},
   "outputs": [],
   "source": [
    "#特征提取后的\n",
    "X_train_val_extra = extra_model.predict(X_train_val)"
   ]
  },
  {
   "cell_type": "code",
   "execution_count": 19,
   "id": "laughing-omaha",
   "metadata": {},
   "outputs": [
    {
     "data": {
      "text/plain": [
       "(3338, 2048)"
      ]
     },
     "execution_count": 19,
     "metadata": {},
     "output_type": "execute_result"
    }
   ],
   "source": [
    "X_train_val_extra.shape"
   ]
  },
  {
   "cell_type": "code",
   "execution_count": null,
   "id": "changed-tablet",
   "metadata": {},
   "outputs": [],
   "source": []
  },
  {
   "cell_type": "markdown",
   "id": "effective-wisconsin",
   "metadata": {},
   "source": [
    "# 5.分类模型"
   ]
  },
  {
   "cell_type": "code",
   "execution_count": 20,
   "id": "distinguished-present",
   "metadata": {},
   "outputs": [],
   "source": [
    "from sklearn.model_selection import cross_val_score \n",
    "#from sklearn.model_selection import train_test_split"
   ]
  },
  {
   "cell_type": "markdown",
   "id": "quarterly-brain",
   "metadata": {},
   "source": [
    "# 网格搜索K值"
   ]
  },
  {
   "cell_type": "code",
   "execution_count": 23,
   "id": "traditional-position",
   "metadata": {},
   "outputs": [
    {
     "data": {
      "text/plain": [
       "GridSearchCV(cv=10, estimator=KNeighborsClassifier(),\n",
       "             param_grid={'n_neighbors': [3, 4, 5, 10, 15, 20, 40, 50, 70]},\n",
       "             scoring='accuracy')"
      ]
     },
     "execution_count": 23,
     "metadata": {},
     "output_type": "execute_result"
    }
   ],
   "source": [
    "from sklearn.model_selection import GridSearchCV\n",
    "from sklearn.neighbors import KNeighborsClassifier\n",
    "\n",
    "parameters={'n_neighbors':[3,4,5,10,15,20,40,50,70]}\n",
    "model2 = KNeighborsClassifier()\n",
    "cvModel=GridSearchCV(model2,parameters,cv=10,scoring='accuracy')\n",
    "cvModel.fit(X_train_val_extra,Y_train_val)\n",
    "#print(cvModel.best_score_)\n",
    "#print(cvModel.best_params_)\n"
   ]
  },
  {
   "cell_type": "code",
   "execution_count": 24,
   "id": "characteristic-throw",
   "metadata": {},
   "outputs": [
    {
     "data": {
      "text/plain": [
       "{'mean_fit_time': array([0.01700304, 0.01786177, 0.01664345, 0.01689293, 0.01687367,\n",
       "        0.01850405, 0.0180485 , 0.0173739 , 0.01687636]),\n",
       " 'std_fit_time': array([0.00321989, 0.00321528, 0.00343824, 0.00298102, 0.0025068 ,\n",
       "        0.00354851, 0.00342984, 0.00432839, 0.00213199]),\n",
       " 'mean_score_time': array([0.12074914, 0.1204246 , 0.12064211, 0.11950874, 0.1234113 ,\n",
       "        0.12313206, 0.11944976, 0.12312682, 0.12377028]),\n",
       " 'std_score_time': array([0.00777644, 0.00150032, 0.00432411, 0.00381687, 0.00317997,\n",
       "        0.00999212, 0.00299453, 0.00487605, 0.00429232]),\n",
       " 'param_n_neighbors': masked_array(data=[3, 4, 5, 10, 15, 20, 40, 50, 70],\n",
       "              mask=[False, False, False, False, False, False, False, False,\n",
       "                    False],\n",
       "        fill_value='?',\n",
       "             dtype=object),\n",
       " 'params': [{'n_neighbors': 3},\n",
       "  {'n_neighbors': 4},\n",
       "  {'n_neighbors': 5},\n",
       "  {'n_neighbors': 10},\n",
       "  {'n_neighbors': 15},\n",
       "  {'n_neighbors': 20},\n",
       "  {'n_neighbors': 40},\n",
       "  {'n_neighbors': 50},\n",
       "  {'n_neighbors': 70}],\n",
       " 'split0_test_score': array([0.88023952, 0.8742515 , 0.88622754, 0.89820359, 0.88622754,\n",
       "        0.89221557, 0.9011976 , 0.89820359, 0.8742515 ]),\n",
       " 'split1_test_score': array([0.91916168, 0.91616766, 0.91017964, 0.91916168, 0.91616766,\n",
       "        0.90718563, 0.88023952, 0.88023952, 0.88323353]),\n",
       " 'split2_test_score': array([0.89820359, 0.91317365, 0.91317365, 0.91616766, 0.91916168,\n",
       "        0.9251497 , 0.9251497 , 0.91616766, 0.90419162]),\n",
       " 'split3_test_score': array([0.90419162, 0.88323353, 0.9011976 , 0.93413174, 0.9251497 ,\n",
       "        0.93712575, 0.91916168, 0.91317365, 0.90718563]),\n",
       " 'split4_test_score': array([0.90419162, 0.90419162, 0.90718563, 0.90718563, 0.9011976 ,\n",
       "        0.9011976 , 0.90419162, 0.89520958, 0.91616766]),\n",
       " 'split5_test_score': array([0.91616766, 0.89221557, 0.90419162, 0.9011976 , 0.91317365,\n",
       "        0.91017964, 0.91916168, 0.91916168, 0.91616766]),\n",
       " 'split6_test_score': array([0.93113772, 0.92215569, 0.93413174, 0.93413174, 0.94011976,\n",
       "        0.94011976, 0.91916168, 0.91616766, 0.91317365]),\n",
       " 'split7_test_score': array([0.90718563, 0.91017964, 0.91017964, 0.91017964, 0.92215569,\n",
       "        0.92215569, 0.92814371, 0.92215569, 0.91916168]),\n",
       " 'split8_test_score': array([0.9039039 , 0.9009009 , 0.90690691, 0.91591592, 0.91891892,\n",
       "        0.92792793, 0.92792793, 0.93393393, 0.92792793]),\n",
       " 'split9_test_score': array([0.92192192, 0.92192192, 0.91291291, 0.92792793, 0.92492492,\n",
       "        0.92492492, 0.91891892, 0.91591592, 0.90990991]),\n",
       " 'mean_test_score': array([0.90863049, 0.90383917, 0.90862869, 0.91642031, 0.91671971,\n",
       "        0.91881822, 0.9143254 , 0.91103289, 0.90713708]),\n",
       " 'std_test_score': array([0.01352611, 0.0154457 , 0.01129599, 0.01206421, 0.01381987,\n",
       "        0.01479377, 0.0142172 , 0.01469221, 0.01563842]),\n",
       " 'rank_test_score': array([6, 9, 7, 3, 2, 1, 4, 5, 8])}"
      ]
     },
     "execution_count": 24,
     "metadata": {},
     "output_type": "execute_result"
    }
   ],
   "source": [
    "cvModel.cv_results_"
   ]
  },
  {
   "cell_type": "code",
   "execution_count": 25,
   "id": "brown-rebel",
   "metadata": {},
   "outputs": [
    {
     "data": {
      "text/plain": [
       "{'n_neighbors': 20}"
      ]
     },
     "execution_count": 25,
     "metadata": {},
     "output_type": "execute_result"
    }
   ],
   "source": [
    "cvModel.best_params_"
   ]
  },
  {
   "cell_type": "code",
   "execution_count": 22,
   "id": "stupid-colombia",
   "metadata": {},
   "outputs": [
    {
     "name": "stdout",
     "output_type": "stream",
     "text": [
      "[0.8742515  0.91616766 0.91317365 0.88323353 0.90419162 0.89221557\n",
      " 0.92215569 0.91017964 0.9009009  0.92192192]\n",
      "0.903839168509827\n"
     ]
    }
   ],
   "source": [
    "from sklearn.neighbors import KNeighborsClassifier\n",
    "\n",
    "# 建立Knn模型\n",
    "knn = KNeighborsClassifier(n_neighbors=4)\n",
    "\n",
    "# 使用K折交叉验证模块\n",
    "scores = cross_val_score(knn, X_train_val_extra, Y_train_val, cv=10, scoring='accuracy')\n",
    "\n",
    "# 将5次的预测准确率打印出\n",
    "print(scores)\n",
    "\n",
    "#将5次的预测准确平均率打印出\n",
    "print(scores.mean())"
   ]
  },
  {
   "cell_type": "markdown",
   "id": "employed-norwegian",
   "metadata": {},
   "source": [
    "### KNN模型"
   ]
  },
  {
   "cell_type": "code",
   "execution_count": 20,
   "id": "outdoor-husband",
   "metadata": {},
   "outputs": [
    {
     "name": "stdout",
     "output_type": "stream",
     "text": [
      "[0.89221557 0.88023952 0.91017964 0.91017964 0.91017964 0.9011976\n",
      " 0.91317365 0.89820359 0.93993994 0.90990991]\n",
      "0.9065418712125298\n"
     ]
    }
   ],
   "source": [
    "from sklearn.neighbors import KNeighborsClassifier\n",
    "# 建立Knn模型\n",
    "knn = KNeighborsClassifier(n_neighbors=4)\n",
    "\n",
    "# 使用K折交叉验证模块\n",
    "scores = cross_val_score(knn, X_train_val_extra, Y_train_val, cv=10, scoring='accuracy')\n",
    "\n",
    "# 将5次的预测准确率打印出\n",
    "print(scores)\n",
    "\n",
    "#将5次的预测准确平均率打印出\n",
    "print(scores.mean())"
   ]
  },
  {
   "cell_type": "markdown",
   "id": "injured-integer",
   "metadata": {},
   "source": [
    "### 上面是测试，最后用K=20"
   ]
  },
  {
   "cell_type": "code",
   "execution_count": 66,
   "id": "threaded-worth",
   "metadata": {},
   "outputs": [],
   "source": [
    "from sklearn.neighbors import KNeighborsClassifier\n",
    "knn = KNeighborsClassifier(n_neighbors=20)\n",
    "knn_model = knn.fit(X_train_val_extra,Y_train_val)"
   ]
  },
  {
   "cell_type": "code",
   "execution_count": 67,
   "id": "improving-correlation",
   "metadata": {},
   "outputs": [
    {
     "name": "stdout",
     "output_type": "stream",
     "text": [
      "Accuracy: 86.54%\n",
      "Precision: 86.75%\n",
      "Recall: 86.54%\n",
      "F1: 86.58%\n"
     ]
    }
   ],
   "source": [
    "from sklearn.metrics import precision_score,recall_score,f1_score\n",
    "\n",
    "#x_val_for_test\n",
    "\n",
    "#accuracy = modelbagging.score(X_test,y_test)  Y_actual_val, Y_pred_val\n",
    "Y_pred_val = knn_model.predict(x_val_for_test)\n",
    "accuracy = knn_model.score(x_val_for_test, Y_actual_val)  \n",
    "precision = precision_score(Y_actual_val, Y_pred_val, average='weighted')\n",
    "recall = recall_score(Y_actual_val, Y_pred_val, average='weighted')\n",
    "f1 = f1_score(Y_actual_val, Y_pred_val, average='weighted')\n",
    "#acu_data = modelbagging.score(X_fsvar,y)\n",
    "#acu_correct = modelbagging.score(X_correct,y_correct)\n",
    "\n",
    "print('Accuracy: {:.2f}%'.format(accuracy * 100))\n",
    "print('Precision: {:.2f}%'.format(precision * 100))\n",
    "print('Recall: {:.2f}%'.format(recall * 100))\n",
    "print('F1: {:.2f}%'.format(f1  * 100))\n",
    "#print('AUC Score: {:.2f}%'.format(auc_score * 100))\n",
    "#print('原数据集所有样本的准确率:{:.2f}%'.format(acu_data * 100))\n",
    "#print('正样本的准确率:{:.2f}%'.format(acu_correct * 100))\n"
   ]
  },
  {
   "cell_type": "markdown",
   "id": "industrial-foster",
   "metadata": {},
   "source": [
    "### 朴素贝叶斯算法"
   ]
  },
  {
   "cell_type": "code",
   "execution_count": null,
   "id": "dependent-bullet",
   "metadata": {},
   "outputs": [],
   "source": []
  },
  {
   "cell_type": "code",
   "execution_count": null,
   "id": "leading-selection",
   "metadata": {},
   "outputs": [],
   "source": []
  },
  {
   "cell_type": "markdown",
   "id": "sunrise-sacramento",
   "metadata": {},
   "source": [
    "### 支持向量机"
   ]
  },
  {
   "cell_type": "markdown",
   "id": "communist-mitchell",
   "metadata": {},
   "source": [
    "### 没有调参的结果"
   ]
  },
  {
   "cell_type": "code",
   "execution_count": 26,
   "id": "permanent-shelter",
   "metadata": {},
   "outputs": [],
   "source": [
    "from sklearn.svm import SVC"
   ]
  },
  {
   "cell_type": "markdown",
   "id": "corresponding-adapter",
   "metadata": {},
   "source": [
    "### 数据太多，降下维"
   ]
  },
  {
   "cell_type": "code",
   "execution_count": 21,
   "id": "green-deficit",
   "metadata": {},
   "outputs": [],
   "source": [
    "from sklearn.decomposition import PCA"
   ]
  },
  {
   "cell_type": "code",
   "execution_count": 41,
   "id": "existing-poster",
   "metadata": {},
   "outputs": [],
   "source": [
    "# pca = PCA(n_components='mle')\n",
    "# X_train_val_extra_pca = pca.fit_transform(X_train_val_extra)\n",
    "# print(pca.n_features_)\n",
    "# print(pca.n_samples_)\n",
    "# print(pca.explained_variance_ratio_)"
   ]
  },
  {
   "cell_type": "code",
   "execution_count": null,
   "id": "romance-democrat",
   "metadata": {},
   "outputs": [],
   "source": []
  },
  {
   "cell_type": "code",
   "execution_count": null,
   "id": "least-landscape",
   "metadata": {},
   "outputs": [],
   "source": []
  },
  {
   "cell_type": "code",
   "execution_count": 60,
   "id": "comfortable-airplane",
   "metadata": {},
   "outputs": [
    {
     "name": "stdout",
     "output_type": "stream",
     "text": [
      "[0.93113772 0.93113772 0.92814371 0.9491018  0.92814371 0.92814371\n",
      " 0.93712575 0.9251497  0.94294294 0.94594595]\n",
      "0.9346972721224219\n"
     ]
    }
   ],
   "source": [
    "svc_cls = SVC()\n",
    "\n",
    "# 使用K折交叉验证模块\n",
    "scores = cross_val_score(svc_cls, X_train_val_extra, Y_train_val, cv=10, scoring='accuracy')\n",
    "\n",
    "# 将10次的预测准确率打印出\n",
    "print(scores)\n",
    "\n",
    "#将5次的预测准确平均率打印出\n",
    "print(scores.mean())"
   ]
  },
  {
   "cell_type": "code",
   "execution_count": 62,
   "id": "surrounded-turner",
   "metadata": {},
   "outputs": [
    {
     "data": {
      "text/plain": [
       "SVC()"
      ]
     },
     "execution_count": 62,
     "metadata": {},
     "output_type": "execute_result"
    }
   ],
   "source": [
    "svc_cls = SVC()\n",
    "svc_cls.fit(X_train_val_extra,Y_train_val)"
   ]
  },
  {
   "cell_type": "code",
   "execution_count": 63,
   "id": "overhead-irish",
   "metadata": {},
   "outputs": [
    {
     "name": "stdout",
     "output_type": "stream",
     "text": [
      "Accuracy: 85.94%\n",
      "Precision: 85.98%\n",
      "Recall: 85.94%\n",
      "F1: 85.95%\n"
     ]
    }
   ],
   "source": [
    "from sklearn.metrics import precision_score,recall_score,f1_score\n",
    "\n",
    "Y_pred_val = svc_cls.predict(x_val_for_test)\n",
    "accuracy = svc_cls.score(x_val_for_test, Y_actual_val)  \n",
    "precision = precision_score(Y_actual_val, Y_pred_val, average='macro')\n",
    "recall = recall_score(Y_actual_val, Y_pred_val, average='micro')\n",
    "f1 = f1_score(Y_actual_val, Y_pred_val, average='weighted')\n",
    "\n",
    "print('Accuracy: {:.2f}%'.format(accuracy * 100))\n",
    "print('Precision: {:.2f}%'.format(precision * 100))\n",
    "print('Recall: {:.2f}%'.format(recall * 100))\n",
    "print('F1: {:.2f}%'.format(f1 * 100))"
   ]
  },
  {
   "cell_type": "markdown",
   "id": "divided-prague",
   "metadata": {},
   "source": [
    "### 网格搜索支持向量机的参数"
   ]
  },
  {
   "cell_type": "code",
   "execution_count": 27,
   "id": "offshore-interstate",
   "metadata": {},
   "outputs": [
    {
     "data": {
      "text/plain": [
       "GridSearchCV(cv=5, estimator=SVC(),\n",
       "             param_grid={'C': [0.001, 0.01, 0.1, 1, 10, 100, 1000],\n",
       "                         'gamma': [0.001, 0.0001],\n",
       "                         'kernel': ['linear', 'rbf']},\n",
       "             scoring='accuracy')"
      ]
     },
     "execution_count": 27,
     "metadata": {},
     "output_type": "execute_result"
    }
   ],
   "source": [
    "from sklearn.model_selection import GridSearchCV\n",
    "parameters={'kernel':['linear','rbf'],'C': [1e-3, 1e-2, 1e-1, 1, 10, 100, 1000], 'gamma': [0.001, 0.0001]}\n",
    "svc = SVC()\n",
    "svc_grid = GridSearchCV(svc,parameters,cv=5,scoring='accuracy')\n",
    "svc_grid.fit(X_train_val_extra,Y_train_val)"
   ]
  },
  {
   "cell_type": "code",
   "execution_count": 28,
   "id": "operational-bridge",
   "metadata": {},
   "outputs": [
    {
     "name": "stdout",
     "output_type": "stream",
     "text": [
      "{'C': 0.01, 'gamma': 0.001, 'kernel': 'linear'}\n",
      "0.935894926788103\n"
     ]
    }
   ],
   "source": [
    "print(svc_grid.best_params_)\n",
    "print(svc_grid.best_score_)"
   ]
  },
  {
   "cell_type": "code",
   "execution_count": 29,
   "id": "confidential-tension",
   "metadata": {},
   "outputs": [
    {
     "data": {
      "text/plain": [
       "SVC(C=0.01, gamma=0.001, kernel='linear')"
      ]
     },
     "execution_count": 29,
     "metadata": {},
     "output_type": "execute_result"
    }
   ],
   "source": [
    "svc_cls = SVC(C=0.01, gamma=0.001, kernel='linear')\n",
    "svc_cls.fit(X_train_val_extra,Y_train_val)"
   ]
  },
  {
   "cell_type": "code",
   "execution_count": 71,
   "id": "rapid-rainbow",
   "metadata": {},
   "outputs": [
    {
     "name": "stdout",
     "output_type": "stream",
     "text": [
      "Accuracy: 87.02%\n",
      "Precision: 87.24%\n",
      "Recall: 87.02%\n",
      "F1: 87.06%\n"
     ]
    }
   ],
   "source": [
    "from sklearn.metrics import precision_score,recall_score,f1_score\n",
    "\n",
    "Y_pred_val = svc_cls.predict(x_val_for_test)\n",
    "accuracy = svc_cls.score(x_val_for_test, Y_actual_val)  \n",
    "precision = precision_score(Y_actual_val, Y_pred_val, average='weighted')\n",
    "recall = recall_score(Y_actual_val, Y_pred_val, average='weighted')\n",
    "f1 = f1_score(Y_actual_val, Y_pred_val, average='weighted')\n",
    "\n",
    "print('Accuracy: {:.2f}%'.format(accuracy * 100))\n",
    "print('Precision: {:.2f}%'.format(precision * 100))\n",
    "print('Recall: {:.2f}%'.format(recall * 100))\n",
    "print('F1: {:.2f}%'.format(f1 * 100))"
   ]
  },
  {
   "cell_type": "code",
   "execution_count": null,
   "id": "legislative-cheat",
   "metadata": {},
   "outputs": [],
   "source": []
  },
  {
   "cell_type": "code",
   "execution_count": null,
   "id": "working-liability",
   "metadata": {},
   "outputs": [],
   "source": []
  },
  {
   "cell_type": "markdown",
   "id": "miniature-innocent",
   "metadata": {},
   "source": [
    "### 随机森林"
   ]
  },
  {
   "cell_type": "markdown",
   "id": "suspended-maria",
   "metadata": {},
   "source": [
    "### 没有调参的结果"
   ]
  },
  {
   "cell_type": "code",
   "execution_count": 30,
   "id": "aquatic-martin",
   "metadata": {},
   "outputs": [],
   "source": [
    "from sklearn.ensemble import RandomForestClassifier#调用随机森林模型"
   ]
  },
  {
   "cell_type": "code",
   "execution_count": 32,
   "id": "saved-nicaragua",
   "metadata": {},
   "outputs": [
    {
     "name": "stdout",
     "output_type": "stream",
     "text": [
      "[0.90718563 0.91017964 0.92215569 0.92215569 0.89520958 0.92215569\n",
      " 0.92814371 0.91916168 0.92792793 0.92492492]\n",
      "0.9179200158242076\n"
     ]
    }
   ],
   "source": [
    "RF_cls = RandomForestClassifier()\n",
    "\n",
    "# 使用K折交叉验证模块\n",
    "scores = cross_val_score(RF_cls, X_train_val_extra, Y_train_val, cv=10, scoring='accuracy')\n",
    "\n",
    "# 将10次的预测准确率打印出\n",
    "print(scores)\n",
    "\n",
    "#将5次的预测准确平均率打印出\n",
    "print(scores.mean())"
   ]
  },
  {
   "cell_type": "code",
   "execution_count": 33,
   "id": "cross-michigan",
   "metadata": {},
   "outputs": [
    {
     "data": {
      "text/plain": [
       "RandomForestClassifier()"
      ]
     },
     "execution_count": 33,
     "metadata": {},
     "output_type": "execute_result"
    }
   ],
   "source": [
    "RF_cls = RandomForestClassifier()\n",
    "RF_cls.fit(X_train_val_extra,Y_train_val)"
   ]
  },
  {
   "cell_type": "code",
   "execution_count": 34,
   "id": "defined-mission",
   "metadata": {},
   "outputs": [
    {
     "name": "stdout",
     "output_type": "stream",
     "text": [
      "Accuracy: 86.42%\n",
      "Precision: 86.80%\n",
      "Recall: 86.42%\n",
      "F1: 86.44%\n"
     ]
    }
   ],
   "source": [
    "from sklearn.metrics import precision_score,recall_score,f1_score\n",
    "\n",
    "Y_pred_val = RF_cls.predict(x_val_for_test)\n",
    "accuracy = RF_cls.score(x_val_for_test, Y_actual_val)  \n",
    "precision = precision_score(Y_actual_val, Y_pred_val, average='macro')\n",
    "recall = recall_score(Y_actual_val, Y_pred_val, average='micro')\n",
    "f1 = f1_score(Y_actual_val, Y_pred_val, average='weighted')\n",
    "\n",
    "print('Accuracy: {:.2f}%'.format(accuracy * 100))\n",
    "print('Precision: {:.2f}%'.format(precision * 100))\n",
    "print('Recall: {:.2f}%'.format(recall * 100))\n",
    "print('F1: {:.2f}%'.format(f1 * 100))"
   ]
  },
  {
   "cell_type": "markdown",
   "id": "elect-lecture",
   "metadata": {},
   "source": [
    "### 网格搜索随机森林参数"
   ]
  },
  {
   "cell_type": "code",
   "execution_count": 35,
   "id": "valued-paste",
   "metadata": {},
   "outputs": [],
   "source": [
    "from sklearn.model_selection import GridSearchCV"
   ]
  },
  {
   "cell_type": "code",
   "execution_count": 38,
   "id": "numeric-ocean",
   "metadata": {},
   "outputs": [
    {
     "data": {
      "text/plain": [
       "GridSearchCV(cv=10,\n",
       "             estimator=RandomForestClassifier(max_depth=8, max_features='sqrt',\n",
       "                                              min_samples_leaf=20,\n",
       "                                              min_samples_split=100),\n",
       "             param_grid={'n_estimators': range(100, 241, 20)},\n",
       "             scoring='accuracy')"
      ]
     },
     "execution_count": 38,
     "metadata": {},
     "output_type": "execute_result"
    }
   ],
   "source": [
    "#首先对n_estimators进行网格搜索  \n",
    "param_test1= {'n_estimators':range(100,241,20)}  \n",
    "gsearch1= GridSearchCV(estimator = RandomForestClassifier(min_samples_split=100,  \n",
    "                                                            min_samples_leaf=20,max_depth=8,max_features='sqrt',),  \n",
    "                                                            param_grid = param_test1, scoring='accuracy',cv=10)  \n",
    "gsearch1.fit(X_train_val_extra,Y_train_val)  "
   ]
  },
  {
   "cell_type": "code",
   "execution_count": 39,
   "id": "informal-profit",
   "metadata": {},
   "outputs": [
    {
     "name": "stdout",
     "output_type": "stream",
     "text": [
      "{'n_estimators': 160}\n",
      "0.9086340831849814\n"
     ]
    }
   ],
   "source": [
    "print(gsearch1.best_params_)\n",
    "print(gsearch1.best_score_)"
   ]
  },
  {
   "cell_type": "code",
   "execution_count": null,
   "id": "basic-terminology",
   "metadata": {},
   "outputs": [],
   "source": []
  },
  {
   "cell_type": "code",
   "execution_count": 40,
   "id": "decent-suite",
   "metadata": {},
   "outputs": [
    {
     "data": {
      "text/plain": [
       "GridSearchCV(cv=10,\n",
       "             estimator=RandomForestClassifier(max_features='sqrt',\n",
       "                                              min_samples_leaf=20,\n",
       "                                              n_estimators=160),\n",
       "             param_grid={'max_depth': range(3, 14, 2),\n",
       "                         'min_samples_split': range(50, 201, 20)},\n",
       "             scoring='accuracy')"
      ]
     },
     "execution_count": 40,
     "metadata": {},
     "output_type": "execute_result"
    }
   ],
   "source": [
    "#最大深度max_depth和内部节点再划分所需最小样本数min_samples_split进行网格搜索。\n",
    "param_test2= {'max_depth':range(3,14,2), 'min_samples_split':range(50,201,20)}  \n",
    "gsearch2= GridSearchCV(estimator = RandomForestClassifier(n_estimators= 160,  \n",
    "                                                             min_samples_leaf=20,max_features='sqrt'),  \n",
    "                                                             param_grid = param_test2,scoring='accuracy',cv=10)\n",
    "gsearch2.fit(X_train_val_extra,Y_train_val)  \n"
   ]
  },
  {
   "cell_type": "code",
   "execution_count": 41,
   "id": "joint-clearance",
   "metadata": {},
   "outputs": [
    {
     "name": "stdout",
     "output_type": "stream",
     "text": [
      "{'max_depth': 11, 'min_samples_split': 50}\n",
      "0.9113286939634246\n"
     ]
    }
   ],
   "source": [
    "print(gsearch2.best_params_)\n",
    "print(gsearch2.best_score_)"
   ]
  },
  {
   "cell_type": "code",
   "execution_count": null,
   "id": "daily-president",
   "metadata": {},
   "outputs": [],
   "source": []
  },
  {
   "cell_type": "code",
   "execution_count": 42,
   "id": "rising-mexican",
   "metadata": {},
   "outputs": [],
   "source": [
    "#再对内部节点再划分所需最小样本数min_samples_split和叶子节点最少样本数min_samples_leaf一起调参 \n",
    "param_test3= {'min_samples_split':range(80,150,20), 'min_samples_leaf':range(10,60,10)}  \n",
    "gsearch3= GridSearchCV(estimator = RandomForestClassifier(n_estimators= 160,max_depth=11,  \n",
    "                                   max_features='sqrt'),  \n",
    "                                   param_grid = param_test3,scoring='accuracy', cv=10)  "
   ]
  },
  {
   "cell_type": "code",
   "execution_count": 43,
   "id": "demanding-shuttle",
   "metadata": {},
   "outputs": [
    {
     "data": {
      "text/plain": [
       "GridSearchCV(cv=10,\n",
       "             estimator=RandomForestClassifier(max_depth=11, max_features='sqrt',\n",
       "                                              n_estimators=160),\n",
       "             param_grid={'min_samples_leaf': range(10, 60, 10),\n",
       "                         'min_samples_split': range(80, 150, 20)},\n",
       "             scoring='accuracy')"
      ]
     },
     "execution_count": 43,
     "metadata": {},
     "output_type": "execute_result"
    }
   ],
   "source": [
    "gsearch3.fit(X_train_val_extra,Y_train_val)  "
   ]
  },
  {
   "cell_type": "code",
   "execution_count": 44,
   "id": "lucky-tomorrow",
   "metadata": {},
   "outputs": [
    {
     "name": "stdout",
     "output_type": "stream",
     "text": [
      "{'min_samples_leaf': 10, 'min_samples_split': 80}\n",
      "0.9095304885724047\n"
     ]
    }
   ],
   "source": [
    "print(gsearch3.best_params_)\n",
    "print(gsearch3.best_score_)"
   ]
  },
  {
   "cell_type": "markdown",
   "id": "temporal-colony",
   "metadata": {},
   "source": [
    "### 搜索出的参数代入"
   ]
  },
  {
   "cell_type": "code",
   "execution_count": 45,
   "id": "distinguished-workplace",
   "metadata": {},
   "outputs": [
    {
     "name": "stdout",
     "output_type": "stream",
     "text": [
      "[0.89820359 0.88922156 0.92215569 0.9251497  0.89520958 0.90718563\n",
      " 0.90718563 0.91317365 0.89489489 0.92192192]\n",
      "0.9074301846756937\n"
     ]
    }
   ],
   "source": [
    "RF_cls = RandomForestClassifier(n_estimators= 160, max_depth=11, max_features='sqrt', min_samples_leaf=10, min_samples_split=80)\n",
    "\n",
    "# 使用K折交叉验证模块\n",
    "scores = cross_val_score(RF_cls, X_train_val_extra, Y_train_val, cv=10, scoring='accuracy')\n",
    "\n",
    "# 将10次的预测准确率打印出\n",
    "print(scores)\n",
    "\n",
    "#将5次的预测准确平均率打印出\n",
    "print(scores.mean())"
   ]
  },
  {
   "cell_type": "code",
   "execution_count": 57,
   "id": "ordered-arctic",
   "metadata": {},
   "outputs": [
    {
     "data": {
      "text/plain": [
       "RandomForestClassifier(max_depth=11, max_features='sqrt', min_samples_leaf=10,\n",
       "                       min_samples_split=40, n_estimators=160)"
      ]
     },
     "execution_count": 57,
     "metadata": {},
     "output_type": "execute_result"
    }
   ],
   "source": [
    "RF_cls = RandomForestClassifier(n_estimators= 160, max_depth=11, max_features='sqrt', min_samples_leaf=10, min_samples_split=40)\n",
    "RF_cls.fit(X_train_val_extra,Y_train_val)"
   ]
  },
  {
   "cell_type": "code",
   "execution_count": 58,
   "id": "broke-appointment",
   "metadata": {},
   "outputs": [
    {
     "name": "stdout",
     "output_type": "stream",
     "text": [
      "Accuracy: 85.34%\n",
      "Precision: 85.98%\n",
      "Recall: 85.34%\n",
      "F1: 85.35%\n"
     ]
    }
   ],
   "source": [
    "from sklearn.metrics import precision_score,recall_score,f1_score\n",
    "\n",
    "Y_pred_val = RF_cls.predict(x_val_for_test)\n",
    "accuracy = RF_cls.score(x_val_for_test, Y_actual_val)  \n",
    "precision = precision_score(Y_actual_val, Y_pred_val, average='macro')\n",
    "recall = recall_score(Y_actual_val, Y_pred_val, average='micro')\n",
    "f1 = f1_score(Y_actual_val, Y_pred_val, average='weighted')\n",
    "\n",
    "print('Accuracy: {:.2f}%'.format(accuracy * 100))\n",
    "print('Precision: {:.2f}%'.format(precision * 100))\n",
    "print('Recall: {:.2f}%'.format(recall * 100))\n",
    "print('F1: {:.2f}%'.format(f1 * 100))"
   ]
  },
  {
   "cell_type": "markdown",
   "id": "equal-november",
   "metadata": {},
   "source": [
    "### 支持向量机加随机森林 voting"
   ]
  },
  {
   "cell_type": "code",
   "execution_count": 51,
   "id": "settled-corrections",
   "metadata": {},
   "outputs": [],
   "source": [
    "from sklearn.svm import SVC\n",
    "from sklearn.ensemble import RandomForestClassifier#调用随机森林模型\n",
    "from sklearn.ensemble import VotingClassifier"
   ]
  },
  {
   "cell_type": "code",
   "execution_count": 60,
   "id": "animal-jenny",
   "metadata": {},
   "outputs": [],
   "source": [
    "clf1 = RandomForestClassifier(n_estimators= 160, max_depth=11, max_features='sqrt', min_samples_leaf=10, min_samples_split=40)\n",
    "clf2 = SVC(C=0.01, gamma=0.001, kernel='linear',probability=True)\n",
    "\n",
    "clf_vot = VotingClassifier(estimators=[('RF', clf1), ('svm', clf2)],voting='soft')"
   ]
  },
  {
   "cell_type": "code",
   "execution_count": 61,
   "id": "organized-drunk",
   "metadata": {},
   "outputs": [
    {
     "name": "stdout",
     "output_type": "stream",
     "text": [
      "[0.92814371 0.91616766 0.9251497  0.93113772 0.94610778 0.92814371\n",
      " 0.94311377 0.93712575 0.93093093 0.96096096]\n",
      "0.9346981712251173\n"
     ]
    }
   ],
   "source": [
    "# 使用K折交叉验证模块\n",
    "scores = cross_val_score(clf_vot, X_train_val_extra, Y_train_val, cv=10, scoring='accuracy')\n",
    "\n",
    "# 将10次的预测准确率打印出\n",
    "print(scores)\n",
    "\n",
    "#将5次的预测准确平均率打印出\n",
    "print(scores.mean())"
   ]
  },
  {
   "cell_type": "code",
   "execution_count": 62,
   "id": "decreased-jimmy",
   "metadata": {},
   "outputs": [
    {
     "data": {
      "text/plain": [
       "VotingClassifier(estimators=[('RF',\n",
       "                              RandomForestClassifier(max_depth=11,\n",
       "                                                     max_features='sqrt',\n",
       "                                                     min_samples_leaf=10,\n",
       "                                                     min_samples_split=40,\n",
       "                                                     n_estimators=160)),\n",
       "                             ('svm',\n",
       "                              SVC(C=0.01, gamma=0.001, kernel='linear',\n",
       "                                  probability=True))],\n",
       "                 voting='soft')"
      ]
     },
     "execution_count": 62,
     "metadata": {},
     "output_type": "execute_result"
    }
   ],
   "source": [
    "clf_vot.fit(X_train_val_extra, Y_train_val)"
   ]
  },
  {
   "cell_type": "code",
   "execution_count": 63,
   "id": "constitutional-comedy",
   "metadata": {},
   "outputs": [
    {
     "name": "stdout",
     "output_type": "stream",
     "text": [
      "Accuracy: 87.26%\n",
      "Precision: 87.24%\n",
      "Recall: 87.26%\n",
      "F1: 87.30%\n"
     ]
    }
   ],
   "source": [
    "from sklearn.metrics import precision_score,recall_score,f1_score\n",
    "\n",
    "Y_pred_val = clf_vot.predict(x_val_for_test)\n",
    "accuracy = clf_vot.score(x_val_for_test, Y_actual_val)  \n",
    "precision = precision_score(Y_actual_val, Y_pred_val, average='macro')\n",
    "recall = recall_score(Y_actual_val, Y_pred_val, average='micro')\n",
    "f1 = f1_score(Y_actual_val, Y_pred_val, average='weighted')\n",
    "\n",
    "print('Accuracy: {:.2f}%'.format(accuracy * 100))\n",
    "print('Precision: {:.2f}%'.format(precision * 100))\n",
    "print('Recall: {:.2f}%'.format(recall * 100))\n",
    "print('F1: {:.2f}%'.format(f1 * 100))"
   ]
  },
  {
   "cell_type": "markdown",
   "id": "decent-strap",
   "metadata": {},
   "source": [
    "### 集成学习"
   ]
  },
  {
   "cell_type": "markdown",
   "id": "scenic-trainer",
   "metadata": {},
   "source": [
    "### Adaboost"
   ]
  },
  {
   "cell_type": "code",
   "execution_count": 31,
   "id": "western-dutch",
   "metadata": {},
   "outputs": [],
   "source": [
    "from sklearn.ensemble import AdaBoostClassifier\n",
    "from sklearn.tree import DecisionTreeClassifier"
   ]
  },
  {
   "cell_type": "code",
   "execution_count": 32,
   "id": "applied-yugoslavia",
   "metadata": {},
   "outputs": [],
   "source": [
    "clf = AdaBoostClassifier(DecisionTreeClassifier(max_depth=11, min_samples_leaf=10, min_samples_split=40))"
   ]
  },
  {
   "cell_type": "code",
   "execution_count": 33,
   "id": "handmade-borough",
   "metadata": {},
   "outputs": [
    {
     "name": "stdout",
     "output_type": "stream",
     "text": [
      "[0.90718563 0.89520958 0.9251497  0.92215569 0.91017964 0.90718563\n",
      " 0.91916168 0.91317365 0.92492492 0.91291291]\n",
      "0.9137239035442629\n"
     ]
    }
   ],
   "source": [
    "# 使用K折交叉验证模块\n",
    "scores = cross_val_score(clf, X_train_val_extra, Y_train_val, cv=10, scoring='accuracy')\n",
    "\n",
    "# 将10次的预测准确率打印出\n",
    "print(scores)\n",
    "\n",
    "#将5次的预测准确平均率打印出\n",
    "print(scores.mean())"
   ]
  },
  {
   "cell_type": "code",
   "execution_count": 34,
   "id": "caroline-integrity",
   "metadata": {},
   "outputs": [
    {
     "data": {
      "text/plain": [
       "AdaBoostClassifier(base_estimator=DecisionTreeClassifier(max_depth=11,\n",
       "                                                         min_samples_leaf=10,\n",
       "                                                         min_samples_split=40))"
      ]
     },
     "execution_count": 34,
     "metadata": {},
     "output_type": "execute_result"
    }
   ],
   "source": [
    "clf.fit(X_train_val_extra, Y_train_val)"
   ]
  },
  {
   "cell_type": "code",
   "execution_count": 35,
   "id": "younger-waste",
   "metadata": {},
   "outputs": [
    {
     "name": "stdout",
     "output_type": "stream",
     "text": [
      "Accuracy: 85.10%\n",
      "Precision: 85.80%\n",
      "Recall: 85.10%\n",
      "F1: 85.15%\n"
     ]
    }
   ],
   "source": [
    "from sklearn.metrics import precision_score,recall_score,f1_score\n",
    "\n",
    "Y_pred_val = clf.predict(x_val_for_test)\n",
    "accuracy = clf.score(x_val_for_test, Y_actual_val)  \n",
    "precision = precision_score(Y_actual_val, Y_pred_val, average='macro')\n",
    "recall = recall_score(Y_actual_val, Y_pred_val, average='micro')\n",
    "f1 = f1_score(Y_actual_val, Y_pred_val, average='weighted')\n",
    "\n",
    "print('Accuracy: {:.2f}%'.format(accuracy * 100))\n",
    "print('Precision: {:.2f}%'.format(precision * 100))\n",
    "print('Recall: {:.2f}%'.format(recall * 100))\n",
    "print('F1: {:.2f}%'.format(f1 * 100))"
   ]
  },
  {
   "cell_type": "markdown",
   "id": "tired-brand",
   "metadata": {},
   "source": [
    "### GradientBoost"
   ]
  },
  {
   "cell_type": "code",
   "execution_count": 36,
   "id": "miniature-constant",
   "metadata": {},
   "outputs": [],
   "source": [
    "from sklearn.ensemble import GradientBoostingClassifier"
   ]
  },
  {
   "cell_type": "code",
   "execution_count": 37,
   "id": "guided-letters",
   "metadata": {},
   "outputs": [],
   "source": [
    "clf_grd = GradientBoostingClassifier(max_depth=11, max_features='sqrt', min_samples_leaf=10,\n",
    "                                   min_samples_split=40, n_estimators=160, learning_rate=0.05, subsample=0.95)"
   ]
  },
  {
   "cell_type": "code",
   "execution_count": 38,
   "id": "employed-accordance",
   "metadata": {},
   "outputs": [
    {
     "name": "stdout",
     "output_type": "stream",
     "text": [
      "[0.9251497  0.91317365 0.94011976 0.93113772 0.93113772 0.91616766\n",
      " 0.94011976 0.93413174 0.93693694 0.94594595]\n",
      "0.9314020607433781\n"
     ]
    }
   ],
   "source": [
    "# 使用K折交叉验证模块\n",
    "scores = cross_val_score(clf_grd, X_train_val_extra, Y_train_val, cv=10, scoring='accuracy')\n",
    "\n",
    "# 将10次的预测准确率打印出\n",
    "print(scores)\n",
    "\n",
    "#将5次的预测准确平均率打印出\n",
    "print(scores.mean())"
   ]
  },
  {
   "cell_type": "code",
   "execution_count": 39,
   "id": "hydraulic-monaco",
   "metadata": {},
   "outputs": [
    {
     "data": {
      "text/plain": [
       "GradientBoostingClassifier(learning_rate=0.05, max_depth=11,\n",
       "                           max_features='sqrt', min_samples_leaf=10,\n",
       "                           min_samples_split=40, n_estimators=160,\n",
       "                           subsample=0.95)"
      ]
     },
     "execution_count": 39,
     "metadata": {},
     "output_type": "execute_result"
    }
   ],
   "source": [
    "clf_grd.fit(X_train_val_extra, Y_train_val)"
   ]
  },
  {
   "cell_type": "code",
   "execution_count": 40,
   "id": "structured-phrase",
   "metadata": {},
   "outputs": [
    {
     "name": "stdout",
     "output_type": "stream",
     "text": [
      "Accuracy: 87.62%\n",
      "Precision: 87.75%\n",
      "Recall: 87.62%\n",
      "F1: 87.63%\n"
     ]
    }
   ],
   "source": [
    "from sklearn.metrics import precision_score,recall_score,f1_score\n",
    "\n",
    "Y_pred_val = clf_grd.predict(x_val_for_test)\n",
    "accuracy = clf_grd.score(x_val_for_test, Y_actual_val)  \n",
    "precision = precision_score(Y_actual_val, Y_pred_val, average='macro')\n",
    "recall = recall_score(Y_actual_val, Y_pred_val, average='micro')\n",
    "f1 = f1_score(Y_actual_val, Y_pred_val, average='weighted')\n",
    "\n",
    "print('Accuracy: {:.2f}%'.format(accuracy * 100))\n",
    "print('Precision: {:.2f}%'.format(precision * 100))\n",
    "print('Recall: {:.2f}%'.format(recall * 100))\n",
    "print('F1: {:.2f}%'.format(f1 * 100))"
   ]
  },
  {
   "cell_type": "markdown",
   "id": "exterior-closer",
   "metadata": {},
   "source": [
    "### xgboost"
   ]
  },
  {
   "cell_type": "code",
   "execution_count": 43,
   "id": "middle-moldova",
   "metadata": {},
   "outputs": [],
   "source": [
    "#!pip install xgboost"
   ]
  },
  {
   "cell_type": "code",
   "execution_count": 44,
   "id": "happy-collins",
   "metadata": {},
   "outputs": [],
   "source": [
    "import xgboost as xgb"
   ]
  },
  {
   "cell_type": "code",
   "execution_count": 45,
   "id": "complicated-switzerland",
   "metadata": {},
   "outputs": [],
   "source": [
    "clf_xgb = xgb.XGBClassifier()"
   ]
  },
  {
   "cell_type": "code",
   "execution_count": 46,
   "id": "fifth-accused",
   "metadata": {},
   "outputs": [
    {
     "name": "stdout",
     "output_type": "stream",
     "text": [
      "[0.92215569 0.91916168 0.93113772 0.92215569 0.92814371 0.92814371\n",
      " 0.9251497  0.93413174 0.93993994 0.94294294]\n",
      "0.9293062523601447\n"
     ]
    }
   ],
   "source": [
    "# 使用K折交叉验证模块\n",
    "scores = cross_val_score(clf_xgb, X_train_val_extra, Y_train_val, cv=10, scoring='accuracy')\n",
    "\n",
    "# 将10次的预测准确率打印出\n",
    "print(scores)\n",
    "\n",
    "#将5次的预测准确平均率打印出\n",
    "print(scores.mean())"
   ]
  },
  {
   "cell_type": "code",
   "execution_count": 48,
   "id": "minimal-insertion",
   "metadata": {},
   "outputs": [
    {
     "data": {
      "text/plain": [
       "XGBClassifier(base_score=0.5, booster='gbtree', callbacks=None,\n",
       "              colsample_bylevel=1, colsample_bynode=1, colsample_bytree=1,\n",
       "              early_stopping_rounds=None, enable_categorical=False,\n",
       "              eval_metric=None, gamma=0, gpu_id=-1, grow_policy='depthwise',\n",
       "              importance_type=None, interaction_constraints='',\n",
       "              learning_rate=0.300000012, max_bin=256, max_cat_to_onehot=4,\n",
       "              max_delta_step=0, max_depth=6, max_leaves=0, min_child_weight=1,\n",
       "              missing=nan, monotone_constraints='()', n_estimators=100,\n",
       "              n_jobs=0, num_parallel_tree=1, objective='multi:softprob',\n",
       "              predictor='auto', random_state=0, reg_alpha=0, ...)"
      ]
     },
     "execution_count": 48,
     "metadata": {},
     "output_type": "execute_result"
    }
   ],
   "source": [
    "clf_xgb.fit(X_train_val_extra, Y_train_val)"
   ]
  },
  {
   "cell_type": "code",
   "execution_count": 49,
   "id": "interstate-causing",
   "metadata": {},
   "outputs": [
    {
     "name": "stdout",
     "output_type": "stream",
     "text": [
      "Accuracy: 86.54%\n",
      "Precision: 86.59%\n",
      "Recall: 86.54%\n",
      "F1: 86.58%\n"
     ]
    }
   ],
   "source": [
    "from sklearn.metrics import precision_score,recall_score,f1_score\n",
    "\n",
    "Y_pred_val = clf_xgb.predict(x_val_for_test)\n",
    "accuracy = clf_xgb.score(x_val_for_test, Y_actual_val)  \n",
    "precision = precision_score(Y_actual_val, Y_pred_val, average='macro')\n",
    "recall = recall_score(Y_actual_val, Y_pred_val, average='micro')\n",
    "f1 = f1_score(Y_actual_val, Y_pred_val, average='weighted')\n",
    "\n",
    "print('Accuracy: {:.2f}%'.format(accuracy * 100))\n",
    "print('Precision: {:.2f}%'.format(precision * 100))\n",
    "print('Recall: {:.2f}%'.format(recall * 100))\n",
    "print('F1: {:.2f}%'.format(f1 * 100))"
   ]
  },
  {
   "cell_type": "markdown",
   "id": "advised-geography",
   "metadata": {},
   "source": [
    "# 6.用测试集来画混淆矩阵"
   ]
  },
  {
   "cell_type": "code",
   "execution_count": 22,
   "id": "sudden-billy",
   "metadata": {},
   "outputs": [],
   "source": [
    "from sklearn.metrics import confusion_matrix\n",
    "from sklearn.utils.multiclass import unique_labels\n",
    "from matplotlib import pyplot as plt\n",
    "%matplotlib inline\n",
    "\n",
    "# borrowed from scikit learn  这个是为了画混淆矩阵\n",
    "def plot_confusion_matrix(y_true, y_pred, classes,\n",
    "                          normalize=False,\n",
    "                          title=None,\n",
    "                          cmap=plt.cm.Blues):\n",
    "    \"\"\"\n",
    "    This function prints and plots the confusion matrix.\n",
    "    Normalization can be applied by setting `normalize=True`.\n",
    "    \"\"\"\n",
    "    if not title:\n",
    "        if normalize:\n",
    "            title = 'Normalized confusion matrix'\n",
    "        else:\n",
    "            title = 'Confusion matrix, without normalization'\n",
    "\n",
    "    # Compute confusion matrix\n",
    "    cm = confusion_matrix(y_true, y_pred)\n",
    "    # Only use the labels that appear in the data\n",
    "    classes = classes[unique_labels(y_true, y_pred)]\n",
    "    if normalize:\n",
    "        cm = cm.astype('float') / cm.sum(axis=1)[:, np.newaxis]\n",
    "        print(\"Normalized confusion matrix\")\n",
    "    else:\n",
    "        print('Confusion matrix, without normalization')\n",
    "\n",
    "    print(cm)\n",
    "\n",
    "    fig, ax = plt.subplots()\n",
    "    im = ax.imshow(cm, interpolation='nearest', cmap=cmap)\n",
    "    ax.figure.colorbar(im, ax=ax)\n",
    "    # We want to show all ticks...\n",
    "    ax.set(xticks=np.arange(cm.shape[1]),\n",
    "           yticks=np.arange(cm.shape[0]),\n",
    "           # ... and label them with the respective list entries\n",
    "           xticklabels=classes, yticklabels=classes,\n",
    "           title=title,\n",
    "           ylabel='True label',\n",
    "           xlabel='Predicted label')\n",
    "\n",
    "    # Rotate the tick labels and set their alignment.\n",
    "    plt.setp(ax.get_xticklabels(), rotation=45, ha=\"right\",\n",
    "             rotation_mode=\"anchor\")\n",
    "\n",
    "    # Loop over data dimensions and create text annotations.\n",
    "    fmt = '.2f' if normalize else 'd'\n",
    "    thresh = cm.max() / 2.\n",
    "    for i in range(cm.shape[0]):\n",
    "        for j in range(cm.shape[1]):\n",
    "            ax.text(j, i, format(cm[i, j], fmt),\n",
    "                    ha=\"center\", va=\"center\",\n",
    "                    color=\"white\" if cm[i, j] > thresh else \"black\")\n",
    "    fig.tight_layout()\n",
    "    return ax"
   ]
  },
  {
   "cell_type": "code",
   "execution_count": 23,
   "id": "verbal-scratch",
   "metadata": {},
   "outputs": [
    {
     "data": {
      "text/plain": [
       "832"
      ]
     },
     "execution_count": 23,
     "metadata": {},
     "output_type": "execute_result"
    }
   ],
   "source": [
    "len(test_path)"
   ]
  },
  {
   "cell_type": "code",
   "execution_count": 24,
   "id": "korean-sandwich",
   "metadata": {},
   "outputs": [],
   "source": [
    "val_for_test = ClsDatasets(test_path, [224,224], 1, num_classes, train = False)\n",
    "\n",
    "x_val_for_test = []\n",
    "y_val_for_test =[]\n",
    "\n",
    "for x,y in val_for_test:\n",
    "    x_val_for_test.append(x)\n",
    "    y_val_for_test.append(y)\n",
    "\n",
    "x_val_for_test = np.asarray(x_val_for_test)\n",
    "y_val_for_test = np.asarray(y_val_for_test)\n",
    "\n",
    "x_val_for_test = np.squeeze(x_val_for_test, 1)\n",
    "y_val_for_test = np.squeeze(y_val_for_test, 1)\n",
    "\n",
    "x_val_for_test = extra_model.predict(x_val_for_test)  #测试集特征提取后的结果\n",
    "Y_actual_val = np.argmax(y_val_for_test,axis=1)   #测试集真实的标签"
   ]
  },
  {
   "cell_type": "code",
   "execution_count": null,
   "id": "stopped-winning",
   "metadata": {},
   "outputs": [],
   "source": [
    "#y_val_for_test_pred = knn_model.predict(x_val_for_test)  #KNN\n",
    "y_val_for_test_pred = RM_cls.predict(x_val_for_test)      #随机森林\n",
    "\n",
    "Y_pred_val = y_val_for_test_pred  #np.argmax(y_val_for_test_pred,axis=1)"
   ]
  },
  {
   "cell_type": "code",
   "execution_count": 28,
   "id": "bigger-cherry",
   "metadata": {},
   "outputs": [
    {
     "name": "stdout",
     "output_type": "stream",
     "text": [
      "Confusion matrix, without normalization\n",
      "[[227  12  21   2]\n",
      " [ 22 133  14   2]\n",
      " [ 15   3 169   9]\n",
      " [  3   0  11 189]]\n"
     ]
    },
    {
     "data": {
      "text/plain": [
       "<AxesSubplot:title={'center':'Confusion matrix, without normalization'}, xlabel='Predicted label', ylabel='True label'>"
      ]
     },
     "execution_count": 28,
     "metadata": {},
     "output_type": "execute_result"
    },
    {
     "data": {
      "image/png": "[encoded data removed]",
      "text/plain": [
       "<Figure size 432x288 with 2 Axes>"
      ]
     },
     "metadata": {
      "needs_background": "light"
     },
     "output_type": "display_data"
    }
   ],
   "source": [
    "plot_confusion_matrix(Y_actual_val, Y_pred_val, np.array(class_names))"
   ]
  },
  {
   "cell_type": "code",
   "execution_count": null,
   "id": "mighty-merchant",
   "metadata": {},
   "outputs": [],
   "source": []
  },
  {
   "cell_type": "code",
   "execution_count": null,
   "id": "industrial-running",
   "metadata": {},
   "outputs": [],
   "source": []
  },
  {
   "cell_type": "code",
   "execution_count": null,
   "id": "logical-surgery",
   "metadata": {},
   "outputs": [],
   "source": []
  },
  {
   "cell_type": "code",
   "execution_count": null,
   "id": "floral-worthy",
   "metadata": {},
   "outputs": [],
   "source": []
  },
  {
   "cell_type": "code",
   "execution_count": null,
   "id": "sought-layout",
   "metadata": {},
   "outputs": [],
   "source": []
  }
 ],
 "metadata": {
  "kernelspec": {
   "display_name": "Python 3",
   "language": "python",
   "name": "python3"
  },
  "language_info": {
   "codemirror_mode": {
    "name": "ipython",
    "version": 3
   },
   "file_extension": ".py",
   "mimetype": "text/x-python",
   "name": "python",
   "nbconvert_exporter": "python",
   "pygments_lexer": "ipython3",
   "version": "3.7.6"
  }
 },
 "nbformat": 4,
 "nbformat_minor": 5
}
