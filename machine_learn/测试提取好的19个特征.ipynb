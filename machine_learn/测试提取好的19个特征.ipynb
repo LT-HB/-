{
 "cells": [
  {
   "cell_type": "code",
   "execution_count": 1,
   "id": "undefined-means",
   "metadata": {},
   "outputs": [],
   "source": [
    "import pandas as pd\n",
    "import numpy as np"
   ]
  },
  {
   "cell_type": "code",
   "execution_count": 2,
   "id": "elementary-italy",
   "metadata": {},
   "outputs": [],
   "source": [
    "data = pd.read_csv('messidor_features.artff.csv')"
   ]
  },
  {
   "cell_type": "code",
   "execution_count": 3,
   "id": "veterinary-singapore",
   "metadata": {},
   "outputs": [
    {
     "data": {
      "text/html": [
       "<div>\n",
       "<style scoped>\n",
       "    .dataframe tbody tr th:only-of-type {\n",
       "        vertical-align: middle;\n",
       "    }\n",
       "\n",
       "    .dataframe tbody tr th {\n",
       "        vertical-align: top;\n",
       "    }\n",
       "\n",
       "    .dataframe thead th {\n",
       "        text-align: right;\n",
       "    }\n",
       "</style>\n",
       "<table border=\"1\" class=\"dataframe\">\n",
       "  <thead>\n",
       "    <tr style=\"text-align: right;\">\n",
       "      <th></th>\n",
       "      <th>attribute0</th>\n",
       "      <th>attribute1</th>\n",
       "      <th>attribute2</th>\n",
       "      <th>attribute3</th>\n",
       "      <th>attribute4</th>\n",
       "      <th>attribute5</th>\n",
       "      <th>attribute6</th>\n",
       "      <th>attribute7</th>\n",
       "      <th>attribute8</th>\n",
       "      <th>attribute9</th>\n",
       "      <th>attribute10</th>\n",
       "      <th>attribute11</th>\n",
       "      <th>attribute12</th>\n",
       "      <th>attribute13</th>\n",
       "      <th>attribute14</th>\n",
       "      <th>attribute15</th>\n",
       "      <th>attribute16</th>\n",
       "      <th>attribute17</th>\n",
       "      <th>attribute18</th>\n",
       "      <th>label</th>\n",
       "    </tr>\n",
       "  </thead>\n",
       "  <tbody>\n",
       "    <tr>\n",
       "      <th>0</th>\n",
       "      <td>1</td>\n",
       "      <td>1</td>\n",
       "      <td>22</td>\n",
       "      <td>22</td>\n",
       "      <td>22</td>\n",
       "      <td>19</td>\n",
       "      <td>18</td>\n",
       "      <td>14</td>\n",
       "      <td>49.895756</td>\n",
       "      <td>17.775994</td>\n",
       "      <td>5.270920</td>\n",
       "      <td>0.771761</td>\n",
       "      <td>0.018632</td>\n",
       "      <td>0.006864</td>\n",
       "      <td>0.003923</td>\n",
       "      <td>0.003923</td>\n",
       "      <td>0.486903</td>\n",
       "      <td>0.100025</td>\n",
       "      <td>1</td>\n",
       "      <td>0</td>\n",
       "    </tr>\n",
       "    <tr>\n",
       "      <th>1</th>\n",
       "      <td>1</td>\n",
       "      <td>1</td>\n",
       "      <td>24</td>\n",
       "      <td>24</td>\n",
       "      <td>22</td>\n",
       "      <td>18</td>\n",
       "      <td>16</td>\n",
       "      <td>13</td>\n",
       "      <td>57.709936</td>\n",
       "      <td>23.799994</td>\n",
       "      <td>3.325423</td>\n",
       "      <td>0.234185</td>\n",
       "      <td>0.003903</td>\n",
       "      <td>0.003903</td>\n",
       "      <td>0.003903</td>\n",
       "      <td>0.003903</td>\n",
       "      <td>0.520908</td>\n",
       "      <td>0.144414</td>\n",
       "      <td>0</td>\n",
       "      <td>0</td>\n",
       "    </tr>\n",
       "    <tr>\n",
       "      <th>2</th>\n",
       "      <td>1</td>\n",
       "      <td>1</td>\n",
       "      <td>62</td>\n",
       "      <td>60</td>\n",
       "      <td>59</td>\n",
       "      <td>54</td>\n",
       "      <td>47</td>\n",
       "      <td>33</td>\n",
       "      <td>55.831441</td>\n",
       "      <td>27.993933</td>\n",
       "      <td>12.687485</td>\n",
       "      <td>4.852282</td>\n",
       "      <td>1.393889</td>\n",
       "      <td>0.373252</td>\n",
       "      <td>0.041817</td>\n",
       "      <td>0.007744</td>\n",
       "      <td>0.530904</td>\n",
       "      <td>0.128548</td>\n",
       "      <td>0</td>\n",
       "      <td>1</td>\n",
       "    </tr>\n",
       "    <tr>\n",
       "      <th>3</th>\n",
       "      <td>1</td>\n",
       "      <td>1</td>\n",
       "      <td>55</td>\n",
       "      <td>53</td>\n",
       "      <td>53</td>\n",
       "      <td>50</td>\n",
       "      <td>43</td>\n",
       "      <td>31</td>\n",
       "      <td>40.467228</td>\n",
       "      <td>18.445954</td>\n",
       "      <td>9.118901</td>\n",
       "      <td>3.079428</td>\n",
       "      <td>0.840261</td>\n",
       "      <td>0.272434</td>\n",
       "      <td>0.007653</td>\n",
       "      <td>0.001531</td>\n",
       "      <td>0.483284</td>\n",
       "      <td>0.114790</td>\n",
       "      <td>0</td>\n",
       "      <td>0</td>\n",
       "    </tr>\n",
       "    <tr>\n",
       "      <th>4</th>\n",
       "      <td>1</td>\n",
       "      <td>1</td>\n",
       "      <td>44</td>\n",
       "      <td>44</td>\n",
       "      <td>44</td>\n",
       "      <td>41</td>\n",
       "      <td>39</td>\n",
       "      <td>27</td>\n",
       "      <td>18.026254</td>\n",
       "      <td>8.570709</td>\n",
       "      <td>0.410381</td>\n",
       "      <td>0.000000</td>\n",
       "      <td>0.000000</td>\n",
       "      <td>0.000000</td>\n",
       "      <td>0.000000</td>\n",
       "      <td>0.000000</td>\n",
       "      <td>0.475935</td>\n",
       "      <td>0.123572</td>\n",
       "      <td>0</td>\n",
       "      <td>1</td>\n",
       "    </tr>\n",
       "    <tr>\n",
       "      <th>...</th>\n",
       "      <td>...</td>\n",
       "      <td>...</td>\n",
       "      <td>...</td>\n",
       "      <td>...</td>\n",
       "      <td>...</td>\n",
       "      <td>...</td>\n",
       "      <td>...</td>\n",
       "      <td>...</td>\n",
       "      <td>...</td>\n",
       "      <td>...</td>\n",
       "      <td>...</td>\n",
       "      <td>...</td>\n",
       "      <td>...</td>\n",
       "      <td>...</td>\n",
       "      <td>...</td>\n",
       "      <td>...</td>\n",
       "      <td>...</td>\n",
       "      <td>...</td>\n",
       "      <td>...</td>\n",
       "      <td>...</td>\n",
       "    </tr>\n",
       "    <tr>\n",
       "      <th>1146</th>\n",
       "      <td>1</td>\n",
       "      <td>1</td>\n",
       "      <td>34</td>\n",
       "      <td>34</td>\n",
       "      <td>34</td>\n",
       "      <td>33</td>\n",
       "      <td>31</td>\n",
       "      <td>24</td>\n",
       "      <td>6.071765</td>\n",
       "      <td>0.937472</td>\n",
       "      <td>0.031145</td>\n",
       "      <td>0.003115</td>\n",
       "      <td>0.000000</td>\n",
       "      <td>0.000000</td>\n",
       "      <td>0.000000</td>\n",
       "      <td>0.000000</td>\n",
       "      <td>0.537470</td>\n",
       "      <td>0.116795</td>\n",
       "      <td>0</td>\n",
       "      <td>0</td>\n",
       "    </tr>\n",
       "    <tr>\n",
       "      <th>1147</th>\n",
       "      <td>1</td>\n",
       "      <td>1</td>\n",
       "      <td>49</td>\n",
       "      <td>49</td>\n",
       "      <td>49</td>\n",
       "      <td>49</td>\n",
       "      <td>45</td>\n",
       "      <td>37</td>\n",
       "      <td>63.197145</td>\n",
       "      <td>27.377668</td>\n",
       "      <td>8.067688</td>\n",
       "      <td>0.979548</td>\n",
       "      <td>0.001552</td>\n",
       "      <td>0.000000</td>\n",
       "      <td>0.000000</td>\n",
       "      <td>0.000000</td>\n",
       "      <td>0.516733</td>\n",
       "      <td>0.124190</td>\n",
       "      <td>0</td>\n",
       "      <td>0</td>\n",
       "    </tr>\n",
       "    <tr>\n",
       "      <th>1148</th>\n",
       "      <td>1</td>\n",
       "      <td>0</td>\n",
       "      <td>49</td>\n",
       "      <td>48</td>\n",
       "      <td>48</td>\n",
       "      <td>45</td>\n",
       "      <td>43</td>\n",
       "      <td>33</td>\n",
       "      <td>30.461898</td>\n",
       "      <td>13.966980</td>\n",
       "      <td>1.763305</td>\n",
       "      <td>0.137858</td>\n",
       "      <td>0.011221</td>\n",
       "      <td>0.000000</td>\n",
       "      <td>0.000000</td>\n",
       "      <td>0.000000</td>\n",
       "      <td>0.560632</td>\n",
       "      <td>0.129843</td>\n",
       "      <td>0</td>\n",
       "      <td>0</td>\n",
       "    </tr>\n",
       "    <tr>\n",
       "      <th>1149</th>\n",
       "      <td>1</td>\n",
       "      <td>1</td>\n",
       "      <td>39</td>\n",
       "      <td>36</td>\n",
       "      <td>29</td>\n",
       "      <td>23</td>\n",
       "      <td>13</td>\n",
       "      <td>7</td>\n",
       "      <td>40.525739</td>\n",
       "      <td>12.604947</td>\n",
       "      <td>4.740919</td>\n",
       "      <td>1.077570</td>\n",
       "      <td>0.563518</td>\n",
       "      <td>0.326860</td>\n",
       "      <td>0.239568</td>\n",
       "      <td>0.174584</td>\n",
       "      <td>0.485972</td>\n",
       "      <td>0.106690</td>\n",
       "      <td>1</td>\n",
       "      <td>1</td>\n",
       "    </tr>\n",
       "    <tr>\n",
       "      <th>1150</th>\n",
       "      <td>1</td>\n",
       "      <td>1</td>\n",
       "      <td>7</td>\n",
       "      <td>7</td>\n",
       "      <td>7</td>\n",
       "      <td>7</td>\n",
       "      <td>7</td>\n",
       "      <td>5</td>\n",
       "      <td>69.423565</td>\n",
       "      <td>7.031843</td>\n",
       "      <td>1.750548</td>\n",
       "      <td>0.046597</td>\n",
       "      <td>0.021180</td>\n",
       "      <td>0.008472</td>\n",
       "      <td>0.000000</td>\n",
       "      <td>0.000000</td>\n",
       "      <td>0.556192</td>\n",
       "      <td>0.088957</td>\n",
       "      <td>0</td>\n",
       "      <td>0</td>\n",
       "    </tr>\n",
       "  </tbody>\n",
       "</table>\n",
       "<p>1151 rows × 20 columns</p>\n",
       "</div>"
      ],
      "text/plain": [
       "      attribute0  attribute1  attribute2  attribute3  attribute4  attribute5  \\\n",
       "0              1           1          22          22          22          19   \n",
       "1              1           1          24          24          22          18   \n",
       "2              1           1          62          60          59          54   \n",
       "3              1           1          55          53          53          50   \n",
       "4              1           1          44          44          44          41   \n",
       "...          ...         ...         ...         ...         ...         ...   \n",
       "1146           1           1          34          34          34          33   \n",
       "1147           1           1          49          49          49          49   \n",
       "1148           1           0          49          48          48          45   \n",
       "1149           1           1          39          36          29          23   \n",
       "1150           1           1           7           7           7           7   \n",
       "\n",
       "      attribute6  attribute7  attribute8  attribute9  attribute10  \\\n",
       "0             18          14   49.895756   17.775994     5.270920   \n",
       "1             16          13   57.709936   23.799994     3.325423   \n",
       "2             47          33   55.831441   27.993933    12.687485   \n",
       "3             43          31   40.467228   18.445954     9.118901   \n",
       "4             39          27   18.026254    8.570709     0.410381   \n",
       "...          ...         ...         ...         ...          ...   \n",
       "1146          31          24    6.071765    0.937472     0.031145   \n",
       "1147          45          37   63.197145   27.377668     8.067688   \n",
       "1148          43          33   30.461898   13.966980     1.763305   \n",
       "1149          13           7   40.525739   12.604947     4.740919   \n",
       "1150           7           5   69.423565    7.031843     1.750548   \n",
       "\n",
       "      attribute11  attribute12  attribute13  attribute14  attribute15  \\\n",
       "0        0.771761     0.018632     0.006864     0.003923     0.003923   \n",
       "1        0.234185     0.003903     0.003903     0.003903     0.003903   \n",
       "2        4.852282     1.393889     0.373252     0.041817     0.007744   \n",
       "3        3.079428     0.840261     0.272434     0.007653     0.001531   \n",
       "4        0.000000     0.000000     0.000000     0.000000     0.000000   \n",
       "...           ...          ...          ...          ...          ...   \n",
       "1146     0.003115     0.000000     0.000000     0.000000     0.000000   \n",
       "1147     0.979548     0.001552     0.000000     0.000000     0.000000   \n",
       "1148     0.137858     0.011221     0.000000     0.000000     0.000000   \n",
       "1149     1.077570     0.563518     0.326860     0.239568     0.174584   \n",
       "1150     0.046597     0.021180     0.008472     0.000000     0.000000   \n",
       "\n",
       "      attribute16  attribute17  attribute18  label  \n",
       "0        0.486903     0.100025            1      0  \n",
       "1        0.520908     0.144414            0      0  \n",
       "2        0.530904     0.128548            0      1  \n",
       "3        0.483284     0.114790            0      0  \n",
       "4        0.475935     0.123572            0      1  \n",
       "...           ...          ...          ...    ...  \n",
       "1146     0.537470     0.116795            0      0  \n",
       "1147     0.516733     0.124190            0      0  \n",
       "1148     0.560632     0.129843            0      0  \n",
       "1149     0.485972     0.106690            1      1  \n",
       "1150     0.556192     0.088957            0      0  \n",
       "\n",
       "[1151 rows x 20 columns]"
      ]
     },
     "execution_count": 3,
     "metadata": {},
     "output_type": "execute_result"
    }
   ],
   "source": [
    "data"
   ]
  },
  {
   "cell_type": "code",
   "execution_count": 4,
   "id": "reported-haiti",
   "metadata": {},
   "outputs": [
    {
     "data": {
      "text/html": [
       "<div>\n",
       "<style scoped>\n",
       "    .dataframe tbody tr th:only-of-type {\n",
       "        vertical-align: middle;\n",
       "    }\n",
       "\n",
       "    .dataframe tbody tr th {\n",
       "        vertical-align: top;\n",
       "    }\n",
       "\n",
       "    .dataframe thead th {\n",
       "        text-align: right;\n",
       "    }\n",
       "</style>\n",
       "<table border=\"1\" class=\"dataframe\">\n",
       "  <thead>\n",
       "    <tr style=\"text-align: right;\">\n",
       "      <th></th>\n",
       "      <th>attribute0</th>\n",
       "      <th>attribute1</th>\n",
       "      <th>attribute2</th>\n",
       "      <th>attribute3</th>\n",
       "      <th>attribute4</th>\n",
       "      <th>attribute5</th>\n",
       "      <th>attribute6</th>\n",
       "      <th>attribute7</th>\n",
       "      <th>attribute8</th>\n",
       "      <th>attribute9</th>\n",
       "      <th>attribute10</th>\n",
       "      <th>attribute11</th>\n",
       "      <th>attribute12</th>\n",
       "      <th>attribute13</th>\n",
       "      <th>attribute14</th>\n",
       "      <th>attribute15</th>\n",
       "      <th>attribute16</th>\n",
       "      <th>attribute17</th>\n",
       "      <th>attribute18</th>\n",
       "      <th>label</th>\n",
       "    </tr>\n",
       "  </thead>\n",
       "  <tbody>\n",
       "    <tr>\n",
       "      <th>count</th>\n",
       "      <td>1151.000000</td>\n",
       "      <td>1151.000000</td>\n",
       "      <td>1151.000000</td>\n",
       "      <td>1151.000000</td>\n",
       "      <td>1151.000000</td>\n",
       "      <td>1151.000000</td>\n",
       "      <td>1151.000000</td>\n",
       "      <td>1151.000000</td>\n",
       "      <td>1151.000000</td>\n",
       "      <td>1151.000000</td>\n",
       "      <td>1151.000000</td>\n",
       "      <td>1151.000000</td>\n",
       "      <td>1151.000000</td>\n",
       "      <td>1151.000000</td>\n",
       "      <td>1151.000000</td>\n",
       "      <td>1151.000000</td>\n",
       "      <td>1151.000000</td>\n",
       "      <td>1151.000000</td>\n",
       "      <td>1151.000000</td>\n",
       "      <td>1151.000000</td>\n",
       "    </tr>\n",
       "    <tr>\n",
       "      <th>mean</th>\n",
       "      <td>0.996525</td>\n",
       "      <td>0.918332</td>\n",
       "      <td>38.428323</td>\n",
       "      <td>36.909644</td>\n",
       "      <td>35.140747</td>\n",
       "      <td>32.297133</td>\n",
       "      <td>28.747176</td>\n",
       "      <td>21.151173</td>\n",
       "      <td>64.096674</td>\n",
       "      <td>23.088012</td>\n",
       "      <td>8.704610</td>\n",
       "      <td>1.836489</td>\n",
       "      <td>0.560738</td>\n",
       "      <td>0.212290</td>\n",
       "      <td>0.085674</td>\n",
       "      <td>0.037225</td>\n",
       "      <td>0.523212</td>\n",
       "      <td>0.108431</td>\n",
       "      <td>0.336229</td>\n",
       "      <td>0.530843</td>\n",
       "    </tr>\n",
       "    <tr>\n",
       "      <th>std</th>\n",
       "      <td>0.058874</td>\n",
       "      <td>0.273977</td>\n",
       "      <td>25.620913</td>\n",
       "      <td>24.105612</td>\n",
       "      <td>22.805400</td>\n",
       "      <td>21.114767</td>\n",
       "      <td>19.509227</td>\n",
       "      <td>15.101560</td>\n",
       "      <td>58.485289</td>\n",
       "      <td>21.602696</td>\n",
       "      <td>11.567589</td>\n",
       "      <td>3.923224</td>\n",
       "      <td>2.484111</td>\n",
       "      <td>1.057126</td>\n",
       "      <td>0.398717</td>\n",
       "      <td>0.178959</td>\n",
       "      <td>0.028055</td>\n",
       "      <td>0.017945</td>\n",
       "      <td>0.472624</td>\n",
       "      <td>0.499265</td>\n",
       "    </tr>\n",
       "    <tr>\n",
       "      <th>min</th>\n",
       "      <td>0.000000</td>\n",
       "      <td>0.000000</td>\n",
       "      <td>1.000000</td>\n",
       "      <td>1.000000</td>\n",
       "      <td>1.000000</td>\n",
       "      <td>1.000000</td>\n",
       "      <td>1.000000</td>\n",
       "      <td>1.000000</td>\n",
       "      <td>0.349274</td>\n",
       "      <td>0.000000</td>\n",
       "      <td>0.000000</td>\n",
       "      <td>0.000000</td>\n",
       "      <td>0.000000</td>\n",
       "      <td>0.000000</td>\n",
       "      <td>0.000000</td>\n",
       "      <td>0.000000</td>\n",
       "      <td>0.367762</td>\n",
       "      <td>0.057906</td>\n",
       "      <td>0.000000</td>\n",
       "      <td>0.000000</td>\n",
       "    </tr>\n",
       "    <tr>\n",
       "      <th>25%</th>\n",
       "      <td>1.000000</td>\n",
       "      <td>1.000000</td>\n",
       "      <td>16.000000</td>\n",
       "      <td>16.000000</td>\n",
       "      <td>15.000000</td>\n",
       "      <td>14.000000</td>\n",
       "      <td>11.000000</td>\n",
       "      <td>8.000000</td>\n",
       "      <td>22.271597</td>\n",
       "      <td>7.939315</td>\n",
       "      <td>1.249050</td>\n",
       "      <td>0.081554</td>\n",
       "      <td>0.000000</td>\n",
       "      <td>0.000000</td>\n",
       "      <td>0.000000</td>\n",
       "      <td>0.000000</td>\n",
       "      <td>0.502855</td>\n",
       "      <td>0.095799</td>\n",
       "      <td>0.000000</td>\n",
       "      <td>0.000000</td>\n",
       "    </tr>\n",
       "    <tr>\n",
       "      <th>50%</th>\n",
       "      <td>1.000000</td>\n",
       "      <td>1.000000</td>\n",
       "      <td>35.000000</td>\n",
       "      <td>35.000000</td>\n",
       "      <td>32.000000</td>\n",
       "      <td>29.000000</td>\n",
       "      <td>25.000000</td>\n",
       "      <td>18.000000</td>\n",
       "      <td>44.249119</td>\n",
       "      <td>17.038020</td>\n",
       "      <td>4.423472</td>\n",
       "      <td>0.484829</td>\n",
       "      <td>0.022248</td>\n",
       "      <td>0.001554</td>\n",
       "      <td>0.000000</td>\n",
       "      <td>0.000000</td>\n",
       "      <td>0.523308</td>\n",
       "      <td>0.106623</td>\n",
       "      <td>0.000000</td>\n",
       "      <td>1.000000</td>\n",
       "    </tr>\n",
       "    <tr>\n",
       "      <th>75%</th>\n",
       "      <td>1.000000</td>\n",
       "      <td>1.000000</td>\n",
       "      <td>55.000000</td>\n",
       "      <td>53.000000</td>\n",
       "      <td>51.000000</td>\n",
       "      <td>48.000000</td>\n",
       "      <td>43.000000</td>\n",
       "      <td>32.000000</td>\n",
       "      <td>87.804112</td>\n",
       "      <td>31.305692</td>\n",
       "      <td>11.766880</td>\n",
       "      <td>1.921648</td>\n",
       "      <td>0.191953</td>\n",
       "      <td>0.038450</td>\n",
       "      <td>0.004832</td>\n",
       "      <td>0.003851</td>\n",
       "      <td>0.543670</td>\n",
       "      <td>0.119591</td>\n",
       "      <td>1.000000</td>\n",
       "      <td>1.000000</td>\n",
       "    </tr>\n",
       "    <tr>\n",
       "      <th>max</th>\n",
       "      <td>1.000000</td>\n",
       "      <td>1.000000</td>\n",
       "      <td>151.000000</td>\n",
       "      <td>132.000000</td>\n",
       "      <td>120.000000</td>\n",
       "      <td>105.000000</td>\n",
       "      <td>97.000000</td>\n",
       "      <td>89.000000</td>\n",
       "      <td>403.939108</td>\n",
       "      <td>167.131427</td>\n",
       "      <td>106.070092</td>\n",
       "      <td>59.766121</td>\n",
       "      <td>51.423208</td>\n",
       "      <td>20.098605</td>\n",
       "      <td>5.937799</td>\n",
       "      <td>3.086753</td>\n",
       "      <td>0.592217</td>\n",
       "      <td>0.219199</td>\n",
       "      <td>1.000000</td>\n",
       "      <td>1.000000</td>\n",
       "    </tr>\n",
       "  </tbody>\n",
       "</table>\n",
       "</div>"
      ],
      "text/plain": [
       "        attribute0   attribute1   attribute2   attribute3   attribute4  \\\n",
       "count  1151.000000  1151.000000  1151.000000  1151.000000  1151.000000   \n",
       "mean      0.996525     0.918332    38.428323    36.909644    35.140747   \n",
       "std       0.058874     0.273977    25.620913    24.105612    22.805400   \n",
       "min       0.000000     0.000000     1.000000     1.000000     1.000000   \n",
       "25%       1.000000     1.000000    16.000000    16.000000    15.000000   \n",
       "50%       1.000000     1.000000    35.000000    35.000000    32.000000   \n",
       "75%       1.000000     1.000000    55.000000    53.000000    51.000000   \n",
       "max       1.000000     1.000000   151.000000   132.000000   120.000000   \n",
       "\n",
       "        attribute5   attribute6   attribute7   attribute8   attribute9  \\\n",
       "count  1151.000000  1151.000000  1151.000000  1151.000000  1151.000000   \n",
       "mean     32.297133    28.747176    21.151173    64.096674    23.088012   \n",
       "std      21.114767    19.509227    15.101560    58.485289    21.602696   \n",
       "min       1.000000     1.000000     1.000000     0.349274     0.000000   \n",
       "25%      14.000000    11.000000     8.000000    22.271597     7.939315   \n",
       "50%      29.000000    25.000000    18.000000    44.249119    17.038020   \n",
       "75%      48.000000    43.000000    32.000000    87.804112    31.305692   \n",
       "max     105.000000    97.000000    89.000000   403.939108   167.131427   \n",
       "\n",
       "       attribute10  attribute11  attribute12  attribute13  attribute14  \\\n",
       "count  1151.000000  1151.000000  1151.000000  1151.000000  1151.000000   \n",
       "mean      8.704610     1.836489     0.560738     0.212290     0.085674   \n",
       "std      11.567589     3.923224     2.484111     1.057126     0.398717   \n",
       "min       0.000000     0.000000     0.000000     0.000000     0.000000   \n",
       "25%       1.249050     0.081554     0.000000     0.000000     0.000000   \n",
       "50%       4.423472     0.484829     0.022248     0.001554     0.000000   \n",
       "75%      11.766880     1.921648     0.191953     0.038450     0.004832   \n",
       "max     106.070092    59.766121    51.423208    20.098605     5.937799   \n",
       "\n",
       "       attribute15  attribute16  attribute17  attribute18        label  \n",
       "count  1151.000000  1151.000000  1151.000000  1151.000000  1151.000000  \n",
       "mean      0.037225     0.523212     0.108431     0.336229     0.530843  \n",
       "std       0.178959     0.028055     0.017945     0.472624     0.499265  \n",
       "min       0.000000     0.367762     0.057906     0.000000     0.000000  \n",
       "25%       0.000000     0.502855     0.095799     0.000000     0.000000  \n",
       "50%       0.000000     0.523308     0.106623     0.000000     1.000000  \n",
       "75%       0.003851     0.543670     0.119591     1.000000     1.000000  \n",
       "max       3.086753     0.592217     0.219199     1.000000     1.000000  "
      ]
     },
     "execution_count": 4,
     "metadata": {},
     "output_type": "execute_result"
    }
   ],
   "source": [
    "data.describe()"
   ]
  },
  {
   "cell_type": "code",
   "execution_count": 5,
   "id": "enormous-munich",
   "metadata": {},
   "outputs": [
    {
     "name": "stdout",
     "output_type": "stream",
     "text": [
      "<class 'pandas.core.frame.DataFrame'>\n",
      "RangeIndex: 1151 entries, 0 to 1150\n",
      "Data columns (total 20 columns):\n",
      " #   Column       Non-Null Count  Dtype  \n",
      "---  ------       --------------  -----  \n",
      " 0   attribute0   1151 non-null   int64  \n",
      " 1   attribute1   1151 non-null   int64  \n",
      " 2   attribute2   1151 non-null   int64  \n",
      " 3   attribute3   1151 non-null   int64  \n",
      " 4   attribute4   1151 non-null   int64  \n",
      " 5   attribute5   1151 non-null   int64  \n",
      " 6   attribute6   1151 non-null   int64  \n",
      " 7   attribute7   1151 non-null   int64  \n",
      " 8   attribute8   1151 non-null   float64\n",
      " 9   attribute9   1151 non-null   float64\n",
      " 10  attribute10  1151 non-null   float64\n",
      " 11  attribute11  1151 non-null   float64\n",
      " 12  attribute12  1151 non-null   float64\n",
      " 13  attribute13  1151 non-null   float64\n",
      " 14  attribute14  1151 non-null   float64\n",
      " 15  attribute15  1151 non-null   float64\n",
      " 16  attribute16  1151 non-null   float64\n",
      " 17  attribute17  1151 non-null   float64\n",
      " 18  attribute18  1151 non-null   int64  \n",
      " 19  label        1151 non-null   int64  \n",
      "dtypes: float64(10), int64(10)\n",
      "memory usage: 180.0 KB\n"
     ]
    }
   ],
   "source": [
    "data.info()"
   ]
  },
  {
   "cell_type": "code",
   "execution_count": 6,
   "id": "complex-flash",
   "metadata": {},
   "outputs": [],
   "source": [
    "Y = data['label']\n",
    "Y = np.asarray(Y,dtype=np.int8)"
   ]
  },
  {
   "cell_type": "code",
   "execution_count": 7,
   "id": "adaptive-market",
   "metadata": {},
   "outputs": [
    {
     "data": {
      "text/plain": [
       "array([0, 1], dtype=int8)"
      ]
     },
     "execution_count": 7,
     "metadata": {},
     "output_type": "execute_result"
    }
   ],
   "source": [
    "np.unique(Y)"
   ]
  },
  {
   "cell_type": "code",
   "execution_count": 8,
   "id": "allied-retail",
   "metadata": {},
   "outputs": [
    {
     "data": {
      "text/plain": [
       "611"
      ]
     },
     "execution_count": 8,
     "metadata": {},
     "output_type": "execute_result"
    }
   ],
   "source": [
    "Y.sum()"
   ]
  },
  {
   "cell_type": "markdown",
   "id": "downtown-creature",
   "metadata": {},
   "source": [
    "### feature0是图像质量好的意思，只有好的图像"
   ]
  },
  {
   "cell_type": "code",
   "execution_count": 9,
   "id": "banned-assessment",
   "metadata": {},
   "outputs": [],
   "source": [
    "X = data.drop(['attribute0','label'],axis=1)"
   ]
  },
  {
   "cell_type": "code",
   "execution_count": 10,
   "id": "greater-sponsorship",
   "metadata": {},
   "outputs": [],
   "source": [
    "X = np.asarray(X.values)"
   ]
  },
  {
   "cell_type": "markdown",
   "id": "fancy-welcome",
   "metadata": {},
   "source": [
    "### 划分数据集"
   ]
  },
  {
   "cell_type": "code",
   "execution_count": 11,
   "id": "introductory-transmission",
   "metadata": {},
   "outputs": [],
   "source": [
    "from sklearn.model_selection import train_test_split"
   ]
  },
  {
   "cell_type": "code",
   "execution_count": 12,
   "id": "desirable-submission",
   "metadata": {},
   "outputs": [],
   "source": [
    "X_train, X_test, y_train, y_test = train_test_split(X, Y, test_size=0.2, random_state=2022,stratify=Y)"
   ]
  },
  {
   "cell_type": "code",
   "execution_count": 13,
   "id": "academic-rachel",
   "metadata": {},
   "outputs": [
    {
     "name": "stdout",
     "output_type": "stream",
     "text": [
      "(920, 18)\n",
      "(920,)\n",
      "(231, 18)\n",
      "(231,)\n"
     ]
    }
   ],
   "source": [
    "print(X_train.shape)\n",
    "print(y_train.shape)\n",
    "\n",
    "print(X_test.shape)\n",
    "print(y_test.shape)"
   ]
  },
  {
   "cell_type": "markdown",
   "id": "received-bangkok",
   "metadata": {},
   "source": [
    "### 标准化"
   ]
  },
  {
   "cell_type": "code",
   "execution_count": 12,
   "id": "japanese-founder",
   "metadata": {},
   "outputs": [],
   "source": [
    "from sklearn.preprocessing import StandardScaler"
   ]
  },
  {
   "cell_type": "code",
   "execution_count": 45,
   "id": "sized-hammer",
   "metadata": {},
   "outputs": [],
   "source": [
    "scaler = StandardScaler()"
   ]
  },
  {
   "cell_type": "code",
   "execution_count": 46,
   "id": "distant-efficiency",
   "metadata": {},
   "outputs": [],
   "source": [
    "x_train_nor = scaler.fit_transform(X_train)"
   ]
  },
  {
   "cell_type": "code",
   "execution_count": 16,
   "id": "olive-monster",
   "metadata": {},
   "outputs": [],
   "source": [
    "#不用归一化\n",
    "x_train_nor = X_train"
   ]
  },
  {
   "cell_type": "markdown",
   "id": "amended-coupon",
   "metadata": {},
   "source": [
    "### 分类算法"
   ]
  },
  {
   "cell_type": "code",
   "execution_count": 14,
   "id": "adapted-julian",
   "metadata": {},
   "outputs": [],
   "source": [
    "from sklearn.metrics import precision_score,recall_score,f1_score\n",
    "from sklearn.model_selection import cross_val_score\n",
    "\n",
    "from sklearn.neighbors import KNeighborsClassifier\n",
    "from sklearn.svm import SVC\n",
    "from sklearn.ensemble import RandomForestClassifier\n",
    "from sklearn.ensemble import AdaBoostClassifier\n",
    "from sklearn.tree import DecisionTreeClassifier"
   ]
  },
  {
   "cell_type": "markdown",
   "id": "minor-sodium",
   "metadata": {},
   "source": [
    "#### KNN"
   ]
  },
  {
   "cell_type": "code",
   "execution_count": 119,
   "id": "specific-search",
   "metadata": {},
   "outputs": [
    {
     "name": "stdout",
     "output_type": "stream",
     "text": [
      "[0.63586957 0.5923913  0.71195652 0.66304348 0.63043478]\n",
      "0.6467391304347826\n"
     ]
    }
   ],
   "source": [
    "# 建立Knn模型\n",
    "knn = KNeighborsClassifier(n_neighbors=50)\n",
    "\n",
    "# 使用K折交叉验证模块\n",
    "scores = cross_val_score(knn, x_train_nor, y_train, cv=5, scoring='accuracy')\n",
    "\n",
    "# 将5次的预测准确率打印出\n",
    "print(scores)\n",
    "\n",
    "#将5次的预测准确平均率打印出\n",
    "print(scores.mean())"
   ]
  },
  {
   "cell_type": "code",
   "execution_count": 120,
   "id": "selected-appliance",
   "metadata": {},
   "outputs": [
    {
     "data": {
      "text/plain": [
       "KNeighborsClassifier(n_neighbors=50)"
      ]
     },
     "execution_count": 120,
     "metadata": {},
     "output_type": "execute_result"
    }
   ],
   "source": [
    "knn.fit(x_train_nor, y_train)"
   ]
  },
  {
   "cell_type": "code",
   "execution_count": 163,
   "id": "junior-deviation",
   "metadata": {},
   "outputs": [
    {
     "name": "stdout",
     "output_type": "stream",
     "text": [
      "Accuracy: 70.13%\n",
      "Precision: 80.00%\n",
      "Recall: 58.54%\n",
      "F1: 67.61%\n"
     ]
    }
   ],
   "source": [
    "x_val_for_test = X_test\n",
    "#x_val_for_test = scaler.transform(X_test)\n",
    "Y_actual_val = y_test\n",
    "Y_pred_val = knn.predict(x_val_for_test)\n",
    "accuracy = knn.score(x_val_for_test, Y_actual_val)  \n",
    "precision = precision_score(Y_actual_val, Y_pred_val)#, average='weighted')\n",
    "recall = recall_score(Y_actual_val, Y_pred_val)\n",
    "f1 = f1_score(Y_actual_val, Y_pred_val)\n",
    "\n",
    "print('Accuracy: {:.2f}%'.format(accuracy * 100))\n",
    "print('Precision: {:.2f}%'.format(precision * 100))\n",
    "print('Recall: {:.2f}%'.format(recall * 100))\n",
    "print('F1: {:.2f}%'.format(f1 * 100))"
   ]
  },
  {
   "cell_type": "markdown",
   "id": "parliamentary-victim",
   "metadata": {},
   "source": [
    "### svm"
   ]
  },
  {
   "cell_type": "code",
   "execution_count": 98,
   "id": "downtown-nerve",
   "metadata": {},
   "outputs": [
    {
     "name": "stdout",
     "output_type": "stream",
     "text": [
      "[0.73913043 0.74456522 0.76630435 0.74456522 0.71195652]\n",
      "0.7413043478260869\n"
     ]
    }
   ],
   "source": [
    "svc = SVC(C=0.01, gamma=0.001, kernel='linear')\n",
    "\n",
    "# 使用K折交叉验证模块\n",
    "scores = cross_val_score(svc, x_train_nor, y_train, cv=5, scoring='accuracy')\n",
    "\n",
    "# 将5次的预测准确率打印出\n",
    "print(scores)\n",
    "\n",
    "#将5次的预测准确平均率打印出\n",
    "print(scores.mean())"
   ]
  },
  {
   "cell_type": "code",
   "execution_count": 99,
   "id": "desirable-convergence",
   "metadata": {},
   "outputs": [
    {
     "data": {
      "text/plain": [
       "SVC(C=0.01, gamma=0.001, kernel='linear')"
      ]
     },
     "execution_count": 99,
     "metadata": {},
     "output_type": "execute_result"
    }
   ],
   "source": [
    "svc.fit(x_train_nor, y_train)"
   ]
  },
  {
   "cell_type": "code",
   "execution_count": 164,
   "id": "unknown-shade",
   "metadata": {},
   "outputs": [
    {
     "name": "stdout",
     "output_type": "stream",
     "text": [
      "Accuracy: 73.16%\n",
      "Precision: 82.80%\n",
      "Recall: 62.60%\n",
      "F1: 71.30%\n"
     ]
    }
   ],
   "source": [
    "x_val_for_test = X_test\n",
    "#x_val_for_test = scaler.transform(X_test)\n",
    "Y_actual_val = y_test\n",
    "Y_pred_val = svc.predict(x_val_for_test)\n",
    "accuracy = svc.score(x_val_for_test, Y_actual_val)  \n",
    "precision = precision_score(Y_actual_val, Y_pred_val)\n",
    "recall = recall_score(Y_actual_val, Y_pred_val)\n",
    "f1 = f1_score(Y_actual_val, Y_pred_val)\n",
    "\n",
    "print('Accuracy: {:.2f}%'.format(accuracy * 100))\n",
    "print('Precision: {:.2f}%'.format(precision * 100))\n",
    "print('Recall: {:.2f}%'.format(recall * 100))\n",
    "print('F1: {:.2f}%'.format(f1 * 100))"
   ]
  },
  {
   "cell_type": "markdown",
   "id": "latest-cannon",
   "metadata": {},
   "source": [
    "### 随机森林"
   ]
  },
  {
   "cell_type": "markdown",
   "id": "false-attention",
   "metadata": {},
   "source": [
    "### 网格搜索"
   ]
  },
  {
   "cell_type": "code",
   "execution_count": 122,
   "id": "productive-overall",
   "metadata": {},
   "outputs": [],
   "source": [
    "from sklearn.model_selection import GridSearchCV"
   ]
  },
  {
   "cell_type": "code",
   "execution_count": 124,
   "id": "moving-mouth",
   "metadata": {},
   "outputs": [
    {
     "data": {
      "text/plain": [
       "GridSearchCV(cv=5,\n",
       "             estimator=RandomForestClassifier(max_depth=8, max_features='sqrt',\n",
       "                                              min_samples_leaf=20,\n",
       "                                              min_samples_split=100),\n",
       "             param_grid={'n_estimators': range(100, 241, 20)},\n",
       "             scoring='accuracy')"
      ]
     },
     "execution_count": 124,
     "metadata": {},
     "output_type": "execute_result"
    }
   ],
   "source": [
    "#首先对n_estimators进行网格搜索  \n",
    "param_test1= {'n_estimators':range(100,241,20)}  \n",
    "gsearch1= GridSearchCV(estimator = RandomForestClassifier(min_samples_split=100,  \n",
    "                                                            min_samples_leaf=20,max_depth=8,max_features='sqrt',),  \n",
    "                                                            param_grid = param_test1, scoring='accuracy',cv=5)  \n",
    "gsearch1.fit(x_train_nor, y_train)  "
   ]
  },
  {
   "cell_type": "code",
   "execution_count": 125,
   "id": "standard-texture",
   "metadata": {},
   "outputs": [
    {
     "name": "stdout",
     "output_type": "stream",
     "text": [
      "{'n_estimators': 160}\n",
      "0.6565217391304348\n"
     ]
    }
   ],
   "source": [
    "print(gsearch1.best_params_)\n",
    "print(gsearch1.best_score_)"
   ]
  },
  {
   "cell_type": "code",
   "execution_count": 127,
   "id": "genetic-providence",
   "metadata": {},
   "outputs": [
    {
     "name": "stdout",
     "output_type": "stream",
     "text": [
      "{'max_depth': 7, 'min_samples_split': 110}\n",
      "0.6608695652173913\n"
     ]
    }
   ],
   "source": [
    "#最大深度max_depth和内部节点再划分所需最小样本数min_samples_split进行网格搜索。\n",
    "param_test2= {'max_depth':range(3,14,2), 'min_samples_split':range(50,201,20)}  \n",
    "gsearch2= GridSearchCV(estimator = RandomForestClassifier(n_estimators= 160,  \n",
    "                                                             min_samples_leaf=20,max_features='sqrt'),  \n",
    "                                                             param_grid = param_test2,scoring='accuracy',cv=5)\n",
    "gsearch2.fit(x_train_nor, y_train)  \n",
    "print(gsearch2.best_params_)\n",
    "print(gsearch2.best_score_)"
   ]
  },
  {
   "cell_type": "code",
   "execution_count": 129,
   "id": "prescription-tennessee",
   "metadata": {},
   "outputs": [
    {
     "name": "stdout",
     "output_type": "stream",
     "text": [
      "{'min_samples_leaf': 50, 'min_samples_split': 120}\n",
      "0.6565217391304348\n"
     ]
    }
   ],
   "source": [
    "#再对内部节点再划分所需最小样本数min_samples_split和叶子节点最少样本数min_samples_leaf一起调参 \n",
    "param_test3= {'min_samples_split':range(80,150,20), 'min_samples_leaf':range(10,60,10)}  \n",
    "gsearch3= GridSearchCV(estimator = RandomForestClassifier(n_estimators= 160,max_depth=7,  \n",
    "                                   max_features='sqrt'),  \n",
    "                                   param_grid = param_test3,scoring='accuracy', cv=5)  \n",
    "gsearch3.fit(x_train_nor, y_train)\n",
    "print(gsearch3.best_params_)\n",
    "print(gsearch3.best_score_)"
   ]
  },
  {
   "cell_type": "code",
   "execution_count": null,
   "id": "light-collector",
   "metadata": {},
   "outputs": [],
   "source": []
  },
  {
   "cell_type": "code",
   "execution_count": null,
   "id": "atmospheric-prescription",
   "metadata": {},
   "outputs": [],
   "source": []
  },
  {
   "cell_type": "code",
   "execution_count": 136,
   "id": "southeast-indianapolis",
   "metadata": {},
   "outputs": [
    {
     "name": "stdout",
     "output_type": "stream",
     "text": [
      "[0.6576087  0.67391304 0.68478261 0.6576087  0.61413043]\n",
      "0.6576086956521738\n"
     ]
    }
   ],
   "source": [
    "RF = RandomForestClassifier(n_estimators= 160, max_depth=7, max_features='sqrt', min_samples_leaf=10, min_samples_split=80)\n",
    "#RF = RandomForestClassifier(n_estimators= 160, max_depth=7, max_features='sqrt', min_samples_leaf=50, min_samples_split=120)\n",
    "\n",
    "# 使用K折交叉验证模块\n",
    "scores = cross_val_score(RF, x_train_nor, y_train, cv=5, scoring='accuracy')\n",
    "\n",
    "# 将5次的预测准确率打印出\n",
    "print(scores)\n",
    "\n",
    "#将5次的预测准确平均率打印出\n",
    "print(scores.mean())"
   ]
  },
  {
   "cell_type": "code",
   "execution_count": 137,
   "id": "light-programming",
   "metadata": {},
   "outputs": [
    {
     "data": {
      "text/plain": [
       "RandomForestClassifier(max_depth=7, max_features='sqrt', min_samples_leaf=10,\n",
       "                       min_samples_split=80, n_estimators=160)"
      ]
     },
     "execution_count": 137,
     "metadata": {},
     "output_type": "execute_result"
    }
   ],
   "source": [
    "RF.fit(x_train_nor, y_train)"
   ]
  },
  {
   "cell_type": "code",
   "execution_count": 165,
   "id": "coordinated-croatia",
   "metadata": {},
   "outputs": [
    {
     "name": "stdout",
     "output_type": "stream",
     "text": [
      "Accuracy: 66.23%\n",
      "Precision: 72.28%\n",
      "Recall: 59.35%\n",
      "F1: 65.18%\n"
     ]
    }
   ],
   "source": [
    "x_val_for_test = X_test\n",
    "#x_val_for_test = scaler.transform(X_test)\n",
    "Y_actual_val = y_test\n",
    "Y_pred_val = RF.predict(x_val_for_test)\n",
    "accuracy = RF.score(x_val_for_test, Y_actual_val)  \n",
    "precision = precision_score(Y_actual_val, Y_pred_val)\n",
    "recall = recall_score(Y_actual_val, Y_pred_val)\n",
    "f1 = f1_score(Y_actual_val, Y_pred_val)\n",
    "\n",
    "print('Accuracy: {:.2f}%'.format(accuracy * 100))\n",
    "print('Precision: {:.2f}%'.format(precision * 100))\n",
    "print('Recall: {:.2f}%'.format(recall * 100))\n",
    "print('F1: {:.2f}%'.format(f1 * 100))"
   ]
  },
  {
   "cell_type": "markdown",
   "id": "crazy-purchase",
   "metadata": {},
   "source": [
    "### Adaboost"
   ]
  },
  {
   "cell_type": "code",
   "execution_count": 18,
   "id": "indirect-smith",
   "metadata": {},
   "outputs": [
    {
     "name": "stdout",
     "output_type": "stream",
     "text": [
      "[0.65217391 0.64673913 0.65217391 0.63043478 0.61956522]\n",
      "0.6402173913043477\n"
     ]
    }
   ],
   "source": [
    "#clf = AdaBoostClassifier(DecisionTreeClassifier(max_depth=7, min_samples_leaf=10, min_samples_split=40))\n",
    "clf = AdaBoostClassifier(SVC(C=0.01, gamma=0.001, kernel='linear'),algorithm='SAMME')\n",
    "#clf = AdaBoostClassifier(SVC(),algorithm='SAMME')\n",
    "\n",
    "# 使用K折交叉验证模块\n",
    "scores = cross_val_score(clf, x_train_nor, y_train, cv=5, scoring='accuracy')\n",
    "\n",
    "# 将10次的预测准确率打印出\n",
    "print(scores)\n",
    "\n",
    "#将5次的预测准确平均率打印出\n",
    "print(scores.mean())"
   ]
  },
  {
   "cell_type": "code",
   "execution_count": 19,
   "id": "revised-david",
   "metadata": {},
   "outputs": [
    {
     "data": {
      "text/plain": [
       "AdaBoostClassifier(algorithm='SAMME',\n",
       "                   base_estimator=SVC(C=0.01, gamma=0.001, kernel='linear'))"
      ]
     },
     "execution_count": 19,
     "metadata": {},
     "output_type": "execute_result"
    }
   ],
   "source": [
    "clf.fit(x_train_nor, y_train)"
   ]
  },
  {
   "cell_type": "code",
   "execution_count": 20,
   "id": "missing-demonstration",
   "metadata": {},
   "outputs": [
    {
     "name": "stdout",
     "output_type": "stream",
     "text": [
      "Accuracy: 68.40%\n",
      "Precision: 69.53%\n",
      "Recall: 72.36%\n",
      "F1: 70.92%\n"
     ]
    }
   ],
   "source": [
    "x_val_for_test = X_test\n",
    "#x_val_for_test = scaler.transform(X_test)\n",
    "Y_actual_val = y_test\n",
    "Y_pred_val = clf.predict(x_val_for_test)\n",
    "accuracy = clf.score(x_val_for_test, Y_actual_val)  \n",
    "precision = precision_score(Y_actual_val, Y_pred_val)\n",
    "recall = recall_score(Y_actual_val, Y_pred_val)\n",
    "f1 = f1_score(Y_actual_val, Y_pred_val)\n",
    "\n",
    "print('Accuracy: {:.2f}%'.format(accuracy * 100))\n",
    "print('Precision: {:.2f}%'.format(precision * 100))\n",
    "print('Recall: {:.2f}%'.format(recall * 100))\n",
    "print('F1: {:.2f}%'.format(f1 * 100))"
   ]
  },
  {
   "cell_type": "markdown",
   "id": "crazy-grant",
   "metadata": {},
   "source": [
    "### gradientboost"
   ]
  },
  {
   "cell_type": "code",
   "execution_count": 142,
   "id": "insured-madness",
   "metadata": {},
   "outputs": [],
   "source": [
    "from sklearn.ensemble import GradientBoostingClassifier"
   ]
  },
  {
   "cell_type": "code",
   "execution_count": 143,
   "id": "speaking-thumbnail",
   "metadata": {},
   "outputs": [],
   "source": [
    "clf_grd = GradientBoostingClassifier(max_depth=7, max_features='sqrt', min_samples_leaf=10,\n",
    "                                   min_samples_split=40, n_estimators=160, learning_rate=0.05, subsample=0.8)"
   ]
  },
  {
   "cell_type": "code",
   "execution_count": 145,
   "id": "broadband-admission",
   "metadata": {},
   "outputs": [
    {
     "name": "stdout",
     "output_type": "stream",
     "text": [
      "[0.67934783 0.67391304 0.70652174 0.70108696 0.6576087 ]\n",
      "0.683695652173913\n"
     ]
    }
   ],
   "source": [
    "# 使用K折交叉验证模块\n",
    "scores = cross_val_score(clf_grd, x_train_nor, y_train, cv=5, scoring='accuracy')\n",
    "\n",
    "# 将10次的预测准确率打印出\n",
    "print(scores)\n",
    "\n",
    "#将5次的预测准确平均率打印出\n",
    "print(scores.mean())"
   ]
  },
  {
   "cell_type": "code",
   "execution_count": 146,
   "id": "modular-survey",
   "metadata": {},
   "outputs": [
    {
     "data": {
      "text/plain": [
       "GradientBoostingClassifier(learning_rate=0.05, max_depth=7, max_features='sqrt',\n",
       "                           min_samples_leaf=10, min_samples_split=40,\n",
       "                           n_estimators=160, subsample=0.8)"
      ]
     },
     "execution_count": 146,
     "metadata": {},
     "output_type": "execute_result"
    }
   ],
   "source": [
    "clf_grd.fit(x_train_nor, y_train)"
   ]
  },
  {
   "cell_type": "code",
   "execution_count": 167,
   "id": "crude-newport",
   "metadata": {},
   "outputs": [
    {
     "name": "stdout",
     "output_type": "stream",
     "text": [
      "Accuracy: 71.43%\n",
      "Precision: 75.22%\n",
      "Recall: 69.11%\n",
      "F1: 72.03%\n"
     ]
    }
   ],
   "source": [
    "x_val_for_test = X_test\n",
    "#x_val_for_test = scaler.transform(X_test)\n",
    "Y_actual_val = y_test\n",
    "Y_pred_val = clf_grd.predict(x_val_for_test)\n",
    "accuracy = clf_grd.score(x_val_for_test, Y_actual_val)  \n",
    "precision = precision_score(Y_actual_val, Y_pred_val)\n",
    "recall = recall_score(Y_actual_val, Y_pred_val)\n",
    "f1 = f1_score(Y_actual_val, Y_pred_val)\n",
    "\n",
    "print('Accuracy: {:.2f}%'.format(accuracy * 100))\n",
    "print('Precision: {:.2f}%'.format(precision * 100))\n",
    "print('Recall: {:.2f}%'.format(recall * 100))\n",
    "print('F1: {:.2f}%'.format(f1 * 100))"
   ]
  },
  {
   "cell_type": "markdown",
   "id": "gentle-monte",
   "metadata": {},
   "source": [
    "### xgboost"
   ]
  },
  {
   "cell_type": "code",
   "execution_count": 148,
   "id": "other-saint",
   "metadata": {},
   "outputs": [],
   "source": [
    "import xgboost as xgb"
   ]
  },
  {
   "cell_type": "code",
   "execution_count": 149,
   "id": "found-house",
   "metadata": {},
   "outputs": [],
   "source": [
    "clf_xgb = xgb.XGBClassifier()"
   ]
  },
  {
   "cell_type": "code",
   "execution_count": 150,
   "id": "distributed-headset",
   "metadata": {},
   "outputs": [
    {
     "name": "stdout",
     "output_type": "stream",
     "text": [
      "[0.67934783 0.66847826 0.64673913 0.66304348 0.67391304]\n",
      "0.6663043478260869\n"
     ]
    }
   ],
   "source": [
    "# 使用K折交叉验证模块\n",
    "scores = cross_val_score(clf_xgb, x_train_nor, y_train, cv=5, scoring='accuracy')\n",
    "\n",
    "# 将10次的预测准确率打印出\n",
    "print(scores)\n",
    "\n",
    "#将5次的预测准确平均率打印出\n",
    "print(scores.mean())"
   ]
  },
  {
   "cell_type": "code",
   "execution_count": 151,
   "id": "gothic-grenada",
   "metadata": {},
   "outputs": [
    {
     "data": {
      "text/plain": [
       "XGBClassifier(base_score=0.5, booster='gbtree', callbacks=None,\n",
       "              colsample_bylevel=1, colsample_bynode=1, colsample_bytree=1,\n",
       "              early_stopping_rounds=None, enable_categorical=False,\n",
       "              eval_metric=None, gamma=0, gpu_id=-1, grow_policy='depthwise',\n",
       "              importance_type=None, interaction_constraints='',\n",
       "              learning_rate=0.300000012, max_bin=256, max_cat_to_onehot=4,\n",
       "              max_delta_step=0, max_depth=6, max_leaves=0, min_child_weight=1,\n",
       "              missing=nan, monotone_constraints='()', n_estimators=100,\n",
       "              n_jobs=0, num_parallel_tree=1, predictor='auto', random_state=0,\n",
       "              reg_alpha=0, reg_lambda=1, ...)"
      ]
     },
     "execution_count": 151,
     "metadata": {},
     "output_type": "execute_result"
    }
   ],
   "source": [
    "clf_xgb.fit(x_train_nor, y_train)"
   ]
  },
  {
   "cell_type": "code",
   "execution_count": 168,
   "id": "postal-treatment",
   "metadata": {},
   "outputs": [
    {
     "name": "stdout",
     "output_type": "stream",
     "text": [
      "Accuracy: 66.67%\n",
      "Precision: 69.83%\n",
      "Recall: 65.85%\n",
      "F1: 67.78%\n"
     ]
    }
   ],
   "source": [
    "x_val_for_test = X_test\n",
    "#x_val_for_test = scaler.transform(X_test)\n",
    "Y_actual_val = y_test\n",
    "Y_pred_val = clf_xgb.predict(x_val_for_test)\n",
    "accuracy = clf_xgb.score(x_val_for_test, Y_actual_val)  \n",
    "precision = precision_score(Y_actual_val, Y_pred_val)\n",
    "recall = recall_score(Y_actual_val, Y_pred_val)\n",
    "f1 = f1_score(Y_actual_val, Y_pred_val)\n",
    "\n",
    "print('Accuracy: {:.2f}%'.format(accuracy * 100))\n",
    "print('Precision: {:.2f}%'.format(precision * 100))\n",
    "print('Recall: {:.2f}%'.format(recall * 100))\n",
    "print('F1: {:.2f}%'.format(f1 * 100))"
   ]
  },
  {
   "cell_type": "code",
   "execution_count": null,
   "id": "average-modern",
   "metadata": {},
   "outputs": [],
   "source": []
  }
 ],
 "metadata": {
  "kernelspec": {
   "display_name": "Python 3",
   "language": "python",
   "name": "python3"
  },
  "language_info": {
   "codemirror_mode": {
    "name": "ipython",
    "version": 3
   },
   "file_extension": ".py",
   "mimetype": "text/x-python",
   "name": "python",
   "nbconvert_exporter": "python",
   "pygments_lexer": "ipython3",
   "version": "3.7.6"
  }
 },
 "nbformat": 4,
 "nbformat_minor": 5
}
