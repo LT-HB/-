{
 "cells": [
  {
   "cell_type": "code",
   "execution_count": 1,
   "id": "medium-compensation",
   "metadata": {},
   "outputs": [],
   "source": [
    "#from functools import partial\n",
    "\n",
    "import numpy as np\n",
    "import tensorflow as tf\n",
    "from tensorflow.keras.callbacks import EarlyStopping, TensorBoard\n",
    "from tensorflow.keras.optimizers import Adam\n",
    "\n",
    "#from nets import freeze_layers, get_model_from_name\n",
    "from utils.callbacks import (ExponentDecayScheduler, LossHistory,\n",
    "                             ModelCheckpoint)\n",
    "from utils.dataloader import ClsDatasets\n",
    "from utils.utils import get_classes\n",
    "#from utils.utils_fit import fit_one_epoch"
   ]
  },
  {
   "cell_type": "code",
   "execution_count": 2,
   "id": "conditional-interest",
   "metadata": {},
   "outputs": [],
   "source": [
    "gpus = tf.config.experimental.list_physical_devices(device_type='GPU')\n",
    "for gpu in gpus:\n",
    "    tf.config.experimental.set_memory_growth(gpu, True)"
   ]
  },
  {
   "cell_type": "markdown",
   "id": "chubby-prefix",
   "metadata": {},
   "source": [
    "# 获取数据路径，并划分训练集和测试集数量"
   ]
  },
  {
   "cell_type": "markdown",
   "id": "adapted-workshop",
   "metadata": {},
   "source": [
    "# 测试集的地址，我要把全部合在一起"
   ]
  },
  {
   "cell_type": "code",
   "execution_count": 8,
   "id": "supposed-grace",
   "metadata": {},
   "outputs": [],
   "source": [
    "annotation_path = \"path_txt//test_stable/train_val.txt\"\n",
    "\n",
    "with open(annotation_path, \"r\") as f:\n",
    "    lines_test = f.readlines()"
   ]
  },
  {
   "cell_type": "code",
   "execution_count": 9,
   "id": "average-equation",
   "metadata": {},
   "outputs": [],
   "source": [
    "lines_test_0 = lines_test[:436]\n",
    "lines_test_1 = lines_test[436:556]\n",
    "lines_test_2 = lines_test[556:752]\n",
    "lines_test_3 = lines_test[752:]"
   ]
  },
  {
   "cell_type": "code",
   "execution_count": 10,
   "id": "aboriginal-booth",
   "metadata": {},
   "outputs": [],
   "source": [
    "np.random.seed(10101)\n",
    "np.random.shuffle(lines_test_0)\n",
    "np.random.shuffle(lines_test_1)\n",
    "np.random.shuffle(lines_test_2)\n",
    "np.random.shuffle(lines_test_3)\n",
    "np.random.seed(None)"
   ]
  },
  {
   "cell_type": "markdown",
   "id": "about-scroll",
   "metadata": {},
   "source": [
    "# 训练级的地址"
   ]
  },
  {
   "cell_type": "code",
   "execution_count": 3,
   "id": "precious-hypothesis",
   "metadata": {},
   "outputs": [],
   "source": [
    "classes_path = 'path_txt/cls_classes.txt'\n",
    "class_names, num_classes = get_classes(classes_path) #得到类别与种类个数"
   ]
  },
  {
   "cell_type": "code",
   "execution_count": 4,
   "id": "answering-garden",
   "metadata": {},
   "outputs": [
    {
     "data": {
      "text/plain": [
       "['Retinopathy_grade_0',\n",
       " 'Retinopathy_grade_1',\n",
       " 'Retinopathy_grade_2',\n",
       " 'Retinopathy_grade_3']"
      ]
     },
     "execution_count": 4,
     "metadata": {},
     "output_type": "execute_result"
    }
   ],
   "source": [
    "class_names"
   ]
  },
  {
   "cell_type": "code",
   "execution_count": 5,
   "id": "israeli-bailey",
   "metadata": {},
   "outputs": [],
   "source": [
    "annotation_path = \"path_txt/test_stable/train_val.txt\"\n",
    "val_split       = 0.2\n",
    "\n",
    "with open(annotation_path, \"r\") as f:\n",
    "    lines = f.readlines()\n",
    "    \n",
    "# np.random.seed(10101)\n",
    "# np.random.shuffle(lines)\n",
    "# np.random.seed(None)\n",
    "# num_val     = int(len(lines) * val_split)\n",
    "# num_train   = len(lines) - num_val"
   ]
  },
  {
   "cell_type": "code",
   "execution_count": 6,
   "id": "complimentary-burton",
   "metadata": {},
   "outputs": [
    {
     "data": {
      "text/plain": [
       "3338"
      ]
     },
     "execution_count": 6,
     "metadata": {},
     "output_type": "execute_result"
    }
   ],
   "source": [
    "len(lines)"
   ]
  },
  {
   "cell_type": "markdown",
   "id": "developmental-monitor",
   "metadata": {},
   "source": [
    "# 不同种类的地址"
   ]
  },
  {
   "cell_type": "code",
   "execution_count": 7,
   "id": "trying-insertion",
   "metadata": {},
   "outputs": [],
   "source": [
    "lines_0 = lines[:1050]"
   ]
  },
  {
   "cell_type": "code",
   "execution_count": 8,
   "id": "governing-belief",
   "metadata": {},
   "outputs": [],
   "source": [
    "#lines_0[-1]"
   ]
  },
  {
   "cell_type": "code",
   "execution_count": 9,
   "id": "exact-jones",
   "metadata": {},
   "outputs": [],
   "source": [
    "lines_1 = lines[1050:1737]"
   ]
  },
  {
   "cell_type": "code",
   "execution_count": 10,
   "id": "artistic-penguin",
   "metadata": {},
   "outputs": [],
   "source": [
    "#lines_1[-1]"
   ]
  },
  {
   "cell_type": "code",
   "execution_count": 11,
   "id": "boring-plaintiff",
   "metadata": {},
   "outputs": [],
   "source": [
    "lines_2 = lines[1737:2525]"
   ]
  },
  {
   "cell_type": "code",
   "execution_count": 12,
   "id": "collaborative-condition",
   "metadata": {},
   "outputs": [],
   "source": [
    "#lines_2[-1]"
   ]
  },
  {
   "cell_type": "code",
   "execution_count": 13,
   "id": "further-electronics",
   "metadata": {},
   "outputs": [],
   "source": [
    "lines_3 = lines[2525:]"
   ]
  },
  {
   "cell_type": "code",
   "execution_count": 14,
   "id": "informative-amount",
   "metadata": {},
   "outputs": [
    {
     "data": {
      "text/plain": [
       "3338"
      ]
     },
     "execution_count": 14,
     "metadata": {},
     "output_type": "execute_result"
    }
   ],
   "source": [
    "len(lines_0) + len(lines_1) +len(lines_2) + len(lines_3)"
   ]
  },
  {
   "cell_type": "code",
   "execution_count": null,
   "id": "defined-campbell",
   "metadata": {},
   "outputs": [],
   "source": []
  },
  {
   "cell_type": "code",
   "execution_count": 15,
   "id": "sixth-document",
   "metadata": {},
   "outputs": [],
   "source": [
    "import numpy as np\n",
    "\n",
    "np.random.seed(10101)\n",
    "np.random.shuffle(lines_0)\n",
    "np.random.shuffle(lines_1)\n",
    "np.random.shuffle(lines_2)\n",
    "np.random.shuffle(lines_3)\n",
    "np.random.seed(None)"
   ]
  },
  {
   "cell_type": "code",
   "execution_count": 16,
   "id": "absent-cookie",
   "metadata": {},
   "outputs": [],
   "source": [
    "#lines = [lines_0, lines_1, lines_2, lines_3]\n",
    "lines = [lines_0, lines_1, lines_2, lines_3]"
   ]
  },
  {
   "cell_type": "code",
   "execution_count": 17,
   "id": "functional-manchester",
   "metadata": {},
   "outputs": [],
   "source": [
    "train_path = []\n",
    "val_path = []\n",
    "\n",
    "for i in range(4):\n",
    "    line = lines[i]\n",
    "    N = len(line)\n",
    "    num_val     = int(N * val_split)\n",
    "    num_train   = N - num_val\n",
    "    for j in range(N):\n",
    "        if j+1<=num_val:\n",
    "            val_path.append(line[j])\n",
    "        else:\n",
    "            train_path.append(line[j])"
   ]
  },
  {
   "cell_type": "code",
   "execution_count": 18,
   "id": "compact-brass",
   "metadata": {},
   "outputs": [],
   "source": [
    "num_train = len(train_path)\n",
    "num_val = len(val_path)"
   ]
  },
  {
   "cell_type": "code",
   "execution_count": 19,
   "id": "sealed-philip",
   "metadata": {},
   "outputs": [],
   "source": [
    "np.random.seed(2022)\n",
    "np.random.shuffle(train_path)\n",
    "np.random.shuffle(val_path)\n",
    "np.random.seed(None)"
   ]
  },
  {
   "cell_type": "code",
   "execution_count": 20,
   "id": "refined-leadership",
   "metadata": {},
   "outputs": [],
   "source": [
    "annotation_path = \"path_txt/test_stable/test.txt\"\n",
    "\n",
    "with open(annotation_path, \"r\") as f:\n",
    "    test_path = f.readlines()"
   ]
  },
  {
   "cell_type": "code",
   "execution_count": 21,
   "id": "varying-modification",
   "metadata": {},
   "outputs": [
    {
     "data": {
      "text/plain": [
       "2672"
      ]
     },
     "execution_count": 21,
     "metadata": {},
     "output_type": "execute_result"
    }
   ],
   "source": [
    "num_train"
   ]
  },
  {
   "cell_type": "code",
   "execution_count": 22,
   "id": "critical-greene",
   "metadata": {},
   "outputs": [
    {
     "data": {
      "text/plain": [
       "666"
      ]
     },
     "execution_count": 22,
     "metadata": {},
     "output_type": "execute_result"
    }
   ],
   "source": [
    "num_val"
   ]
  },
  {
   "cell_type": "code",
   "execution_count": 23,
   "id": "sustained-wilson",
   "metadata": {},
   "outputs": [
    {
     "data": {
      "text/plain": [
       "832"
      ]
     },
     "execution_count": 23,
     "metadata": {},
     "output_type": "execute_result"
    }
   ],
   "source": [
    "len(test_path)"
   ]
  },
  {
   "cell_type": "code",
   "execution_count": null,
   "id": "molecular-proxy",
   "metadata": {},
   "outputs": [],
   "source": []
  },
  {
   "cell_type": "code",
   "execution_count": 18,
   "id": "further-honor",
   "metadata": {},
   "outputs": [],
   "source": [
    "train_path = []\n",
    "val_path = []\n",
    "\n",
    "for i in range(4):\n",
    "    line = lines[i]\n",
    "    N = len(line)\n",
    "    num_val     = int(N * val_split)\n",
    "    num_train   = N - num_val\n",
    "    for j in range(N):\n",
    "        if j+1<=num_val:\n",
    "            val_path.append(line[j])\n",
    "        else:\n",
    "            train_path.append(line[j])"
   ]
  },
  {
   "cell_type": "code",
   "execution_count": 26,
   "id": "worthy-certificate",
   "metadata": {},
   "outputs": [
    {
     "data": {
      "text/plain": [
       "2506"
      ]
     },
     "execution_count": 26,
     "metadata": {},
     "output_type": "execute_result"
    }
   ],
   "source": [
    "len(train_path)"
   ]
  },
  {
   "cell_type": "code",
   "execution_count": 27,
   "id": "written-ancient",
   "metadata": {},
   "outputs": [
    {
     "data": {
      "text/plain": [
       "832"
      ]
     },
     "execution_count": 27,
     "metadata": {},
     "output_type": "execute_result"
    }
   ],
   "source": [
    "len(val_path)"
   ]
  },
  {
   "cell_type": "code",
   "execution_count": 28,
   "id": "characteristic-prior",
   "metadata": {},
   "outputs": [
    {
     "data": {
      "text/plain": [
       "832"
      ]
     },
     "execution_count": 28,
     "metadata": {},
     "output_type": "execute_result"
    }
   ],
   "source": [
    "len(test_path)"
   ]
  },
  {
   "cell_type": "code",
   "execution_count": 29,
   "id": "complete-apparatus",
   "metadata": {},
   "outputs": [],
   "source": [
    "num_train = len(train_path)\n",
    "num_val = len(val_path)"
   ]
  },
  {
   "cell_type": "code",
   "execution_count": 30,
   "id": "proud-deputy",
   "metadata": {},
   "outputs": [],
   "source": [
    "np.random.seed(2022)\n",
    "np.random.shuffle(train_path)\n",
    "np.random.shuffle(val_path)\n",
    "np.random.seed(None)"
   ]
  },
  {
   "cell_type": "markdown",
   "id": "shaped-accountability",
   "metadata": {},
   "source": [
    "# 模型"
   ]
  },
  {
   "cell_type": "code",
   "execution_count": 24,
   "id": "scheduled-pioneer",
   "metadata": {},
   "outputs": [],
   "source": [
    "from tensorflow.keras.layers import (Dense,Input,GlobalAveragePooling2D)\n",
    "from tensorflow.keras.models import Model\n",
    "from tensorflow.keras import applications\n",
    "\n",
    "def resnet101(input_shape=None):\n",
    "    net = applications.ResNet101(include_top=False,input_shape=input_shape,weights=None)\n",
    "\n",
    "    return net\n",
    "\n",
    "def ResNet101(input_shape=[224,224,3],classes=4):\n",
    "    img_input = Input(input_shape)\n",
    "\n",
    "    x = resnet101(input_shape)(img_input)\n",
    "    x = GlobalAveragePooling2D()(x)\n",
    "    x = Dense(256)(x)\n",
    "    x = Dense(256)(x)\n",
    "    x = Dense(classes,activation='softmax', name='fc1000')(x)\n",
    "    x = Model(img_input, x, name='ResNet101')\n",
    "    return x"
   ]
  },
  {
   "cell_type": "code",
   "execution_count": 25,
   "id": "homeless-stations",
   "metadata": {},
   "outputs": [],
   "source": [
    "model = ResNet101(input_shape=[224,224,3],classes=4)\n",
    "#model.summary()\n",
    "#model.load_weights('D:\\class_PR\\classification-tf2-main\\logs\\with_dict-ep015-loss0.060-val_loss0.509.h5')\n",
    "#model.load_weights(r'test_acc-0.87-resnet101.h5')"
   ]
  },
  {
   "cell_type": "code",
   "execution_count": 26,
   "id": "better-lebanon",
   "metadata": {},
   "outputs": [],
   "source": [
    "model.load_weights('resnet101_four.h5')\n",
    "#model.load_weights('D:\\class_PR\\ju\\weights\\\\test_acc-0.65-balance-resnet101.h5')"
   ]
  },
  {
   "cell_type": "code",
   "execution_count": 39,
   "id": "elect-valentine",
   "metadata": {},
   "outputs": [],
   "source": [
    "model.load_weights('D:\\class_PR\\ju\\\\weights\\\\cls_4\\\\4cls_0.88-ep010-loss0.098-val_loss0.244.h5')  #加载这个"
   ]
  },
  {
   "cell_type": "code",
   "execution_count": 27,
   "id": "located-solid",
   "metadata": {},
   "outputs": [],
   "source": [
    "for i in range(2):\n",
    "    model.layers[i].trainable = True"
   ]
  },
  {
   "cell_type": "markdown",
   "id": "composite-semiconductor",
   "metadata": {},
   "source": [
    "# 回调函数"
   ]
  },
  {
   "cell_type": "code",
   "execution_count": 28,
   "id": "cubic-metallic",
   "metadata": {},
   "outputs": [],
   "source": [
    "logging         = TensorBoard(log_dir = 'logs/')\n",
    "checkpoint      = ModelCheckpoint('logs/ep{epoch:03d}-loss{loss:.3f}-val_loss{val_loss:.3f}.h5',\n",
    "                                    monitor='val_loss', save_weights_only=True, save_best_only=False, period=5)\n",
    "reduce_lr       = ExponentDecayScheduler(decay_rate = 0.95, verbose = 1)\n",
    "early_stopping  = EarlyStopping(monitor='val_loss', min_delta=0, patience=10, verbose=1)\n",
    "loss_history    = LossHistory('logs/')\n",
    "#tf.keras.callbacks.ModelCheckpoint()"
   ]
  },
  {
   "cell_type": "code",
   "execution_count": 29,
   "id": "enormous-speaker",
   "metadata": {},
   "outputs": [
    {
     "name": "stdout",
     "output_type": "stream",
     "text": [
      "Train on 2672 samples, val on 666 samples, with batch size 16.\n"
     ]
    }
   ],
   "source": [
    "batch_size      = 16\n",
    "Lr              = 1e-4\n",
    "Init_Epoch      = 0\n",
    "Epoch           = 100\n",
    "input_shape     = [224, 224]\n",
    "num_workers     = 1\n",
    "\n",
    "epoch_step          = num_train // batch_size\n",
    "epoch_step_val      = num_val // batch_size\n",
    "\n",
    "if epoch_step == 0 or epoch_step_val == 0:\n",
    "    raise ValueError('数据集过小，无法进行训练，请扩充数据集。')\n",
    "            \n",
    "print('Train on {} samples, val on {} samples, with batch size {}.'.format(num_train, num_val, batch_size))"
   ]
  },
  {
   "cell_type": "code",
   "execution_count": 30,
   "id": "extraordinary-match",
   "metadata": {},
   "outputs": [],
   "source": [
    "train_dataloader    = ClsDatasets(train_path, input_shape, batch_size, num_classes, train = True)\n",
    "val_dataloader      = ClsDatasets(val_path, input_shape, batch_size, num_classes, train = False)"
   ]
  },
  {
   "cell_type": "markdown",
   "id": "animated-eagle",
   "metadata": {},
   "source": [
    "# 得到tf的data train"
   ]
  },
  {
   "cell_type": "code",
   "execution_count": 41,
   "id": "twenty-piece",
   "metadata": {},
   "outputs": [],
   "source": [
    "x_train = []\n",
    "y_train =[]\n",
    "\n",
    "for x,y in train_dataloader:\n",
    "    x_train.append(x)\n",
    "    y_train.append(np.argmax(y,axis=1))"
   ]
  },
  {
   "cell_type": "code",
   "execution_count": 53,
   "id": "angry-paint",
   "metadata": {},
   "outputs": [],
   "source": [
    "x_train = np.asarray(x_train)\n",
    "y_train = np.asarray(y_train)"
   ]
  },
  {
   "cell_type": "code",
   "execution_count": 55,
   "id": "burning-ozone",
   "metadata": {},
   "outputs": [],
   "source": [
    "x_train = np.squeeze(x_train, 1)\n",
    "y_train = np.squeeze(y_train, 1)"
   ]
  },
  {
   "cell_type": "code",
   "execution_count": 56,
   "id": "strong-hearts",
   "metadata": {},
   "outputs": [
    {
     "data": {
      "text/plain": [
       "(224, 224, 3)"
      ]
     },
     "execution_count": 56,
     "metadata": {},
     "output_type": "execute_result"
    }
   ],
   "source": [
    "x_train[0].shape"
   ]
  },
  {
   "cell_type": "code",
   "execution_count": 57,
   "id": "characteristic-flooring",
   "metadata": {},
   "outputs": [
    {
     "data": {
      "text/plain": [
       "()"
      ]
     },
     "execution_count": 57,
     "metadata": {},
     "output_type": "execute_result"
    }
   ],
   "source": [
    "y_train[0].shape"
   ]
  },
  {
   "cell_type": "code",
   "execution_count": 75,
   "id": "appreciated-allowance",
   "metadata": {},
   "outputs": [],
   "source": [
    "train_data2 = tf.data.Dataset.from_tensor_slices((x_train, y_train))"
   ]
  },
  {
   "cell_type": "code",
   "execution_count": 76,
   "id": "listed-prescription",
   "metadata": {},
   "outputs": [
    {
     "data": {
      "text/plain": [
       "<TensorSliceDataset shapes: ((224, 224, 3), ()), types: (tf.float32, tf.int64)>"
      ]
     },
     "execution_count": 76,
     "metadata": {},
     "output_type": "execute_result"
    }
   ],
   "source": [
    "train_data2"
   ]
  },
  {
   "cell_type": "code",
   "execution_count": 77,
   "id": "great-rouge",
   "metadata": {},
   "outputs": [],
   "source": [
    "AUTOTUNE = tf.data.experimental.AUTOTUNE\n",
    "\n",
    "train_data2 = train_data2.shuffle(buffer_size=num_train)#.repeat(-1)\n",
    "train_data2 = train_data2.batch(batch_size)\n",
    "train_data2 = train_data2.prefetch(buffer_size=AUTOTUNE)"
   ]
  },
  {
   "cell_type": "code",
   "execution_count": 78,
   "id": "suitable-postcard",
   "metadata": {},
   "outputs": [
    {
     "data": {
      "text/plain": [
       "<PrefetchDataset shapes: ((None, 224, 224, 3), (None,)), types: (tf.float32, tf.int64)>"
      ]
     },
     "execution_count": 78,
     "metadata": {},
     "output_type": "execute_result"
    }
   ],
   "source": [
    "train_data2"
   ]
  },
  {
   "cell_type": "code",
   "execution_count": 42,
   "id": "conventional-aluminum",
   "metadata": {},
   "outputs": [],
   "source": [
    "#for x,y in val_dataloader:\n",
    "#    print(y)"
   ]
  },
  {
   "cell_type": "markdown",
   "id": "signed-combining",
   "metadata": {},
   "source": [
    "# 得到tf的data val"
   ]
  },
  {
   "cell_type": "code",
   "execution_count": 66,
   "id": "million-channels",
   "metadata": {},
   "outputs": [],
   "source": [
    "x_val = []\n",
    "y_val =[]\n",
    "\n",
    "for x,y in val_dataloader:\n",
    "    x_val.append(x)\n",
    "    y_val.append(np.argmax(y,axis=1))"
   ]
  },
  {
   "cell_type": "code",
   "execution_count": 67,
   "id": "front-surgeon",
   "metadata": {},
   "outputs": [],
   "source": [
    "x_val = np.asarray(x_val)\n",
    "y_val = np.asarray(y_val)"
   ]
  },
  {
   "cell_type": "code",
   "execution_count": 68,
   "id": "copyrighted-specialist",
   "metadata": {},
   "outputs": [],
   "source": [
    "x_val = np.squeeze(x_val, 1)\n",
    "y_val = np.squeeze(y_val, 1)"
   ]
  },
  {
   "cell_type": "code",
   "execution_count": 69,
   "id": "dated-constant",
   "metadata": {},
   "outputs": [],
   "source": [
    "val_data1 = tf.data.Dataset.from_tensor_slices((x_val, y_val))"
   ]
  },
  {
   "cell_type": "code",
   "execution_count": 70,
   "id": "pointed-heritage",
   "metadata": {},
   "outputs": [],
   "source": [
    "val_data1 = val_data1.batch(batch_size)"
   ]
  },
  {
   "cell_type": "code",
   "execution_count": 71,
   "id": "driving-executive",
   "metadata": {},
   "outputs": [
    {
     "data": {
      "text/plain": [
       "<BatchDataset shapes: ((None, 224, 224, 3), (None,)), types: (tf.float32, tf.int64)>"
      ]
     },
     "execution_count": 71,
     "metadata": {},
     "output_type": "execute_result"
    }
   ],
   "source": [
    "val_data1"
   ]
  },
  {
   "cell_type": "code",
   "execution_count": null,
   "id": "homeless-contractor",
   "metadata": {},
   "outputs": [],
   "source": []
  },
  {
   "cell_type": "code",
   "execution_count": 72,
   "id": "studied-margin",
   "metadata": {},
   "outputs": [],
   "source": [
    "lr_schedule     = tf.keras.optimizers.schedules.ExponentialDecay(\n",
    "                initial_learning_rate=Lr, decay_steps=epoch_step, decay_rate=0.95, staircase=True\n",
    "            )\n",
    "optimizer       = tf.keras.optimizers.Adam(learning_rate=lr_schedule)\n",
    "\n",
    "\n",
    "model.compile(loss='categorical_crossentropy',optimizer=optimizer,metrics=[\"acc\"])"
   ]
  },
  {
   "cell_type": "code",
   "execution_count": 79,
   "id": "greek-virtue",
   "metadata": {},
   "outputs": [
    {
     "name": "stdout",
     "output_type": "stream",
     "text": [
      "Epoch 1/100\n"
     ]
    },
    {
     "ename": "ValueError",
     "evalue": "in user code:\n\n    d:\\miniconda\\lib\\site-packages\\tensorflow\\python\\keras\\engine\\training.py:806 train_function  *\n        return step_function(self, iterator)\n    d:\\miniconda\\lib\\site-packages\\tensorflow\\python\\keras\\engine\\training.py:796 step_function  **\n        outputs = model.distribute_strategy.run(run_step, args=(data,))\n    d:\\miniconda\\lib\\site-packages\\tensorflow\\python\\distribute\\distribute_lib.py:1211 run\n        return self._extended.call_for_each_replica(fn, args=args, kwargs=kwargs)\n    d:\\miniconda\\lib\\site-packages\\tensorflow\\python\\distribute\\distribute_lib.py:2585 call_for_each_replica\n        return self._call_for_each_replica(fn, args, kwargs)\n    d:\\miniconda\\lib\\site-packages\\tensorflow\\python\\distribute\\distribute_lib.py:2945 _call_for_each_replica\n        return fn(*args, **kwargs)\n    d:\\miniconda\\lib\\site-packages\\tensorflow\\python\\keras\\engine\\training.py:789 run_step  **\n        outputs = model.train_step(data)\n    d:\\miniconda\\lib\\site-packages\\tensorflow\\python\\keras\\engine\\training.py:749 train_step\n        y, y_pred, sample_weight, regularization_losses=self.losses)\n    d:\\miniconda\\lib\\site-packages\\tensorflow\\python\\keras\\engine\\compile_utils.py:204 __call__\n        loss_value = loss_obj(y_t, y_p, sample_weight=sw)\n    d:\\miniconda\\lib\\site-packages\\tensorflow\\python\\keras\\losses.py:149 __call__\n        losses = ag_call(y_true, y_pred)\n    d:\\miniconda\\lib\\site-packages\\tensorflow\\python\\keras\\losses.py:253 call  **\n        return ag_fn(y_true, y_pred, **self._fn_kwargs)\n    d:\\miniconda\\lib\\site-packages\\tensorflow\\python\\util\\dispatch.py:201 wrapper\n        return target(*args, **kwargs)\n    d:\\miniconda\\lib\\site-packages\\tensorflow\\python\\keras\\losses.py:1535 categorical_crossentropy\n        return K.categorical_crossentropy(y_true, y_pred, from_logits=from_logits)\n    d:\\miniconda\\lib\\site-packages\\tensorflow\\python\\util\\dispatch.py:201 wrapper\n        return target(*args, **kwargs)\n    d:\\miniconda\\lib\\site-packages\\tensorflow\\python\\keras\\backend.py:4687 categorical_crossentropy\n        target.shape.assert_is_compatible_with(output.shape)\n    d:\\miniconda\\lib\\site-packages\\tensorflow\\python\\framework\\tensor_shape.py:1134 assert_is_compatible_with\n        raise ValueError(\"Shapes %s and %s are incompatible\" % (self, other))\n\n    ValueError: Shapes (None, 1) and (None, 4) are incompatible\n",
     "output_type": "error",
     "traceback": [
      "\u001b[1;31m---------------------------------------------------------------------------\u001b[0m",
      "\u001b[1;31mValueError\u001b[0m                                Traceback (most recent call last)",
      "\u001b[1;32m<ipython-input-79-2a4912abc9fa>\u001b[0m in \u001b[0;36m<module>\u001b[1;34m\u001b[0m\n\u001b[0;32m      6\u001b[0m         \u001b[0muse_multiprocessing\u001b[0m \u001b[1;33m=\u001b[0m \u001b[1;32mTrue\u001b[0m \u001b[1;32mif\u001b[0m \u001b[0mnum_workers\u001b[0m \u001b[1;33m>\u001b[0m \u001b[1;36m1\u001b[0m \u001b[1;32melse\u001b[0m \u001b[1;32mFalse\u001b[0m\u001b[1;33m,\u001b[0m\u001b[1;33m\u001b[0m\u001b[1;33m\u001b[0m\u001b[0m\n\u001b[0;32m      7\u001b[0m         \u001b[0mworkers\u001b[0m             \u001b[1;33m=\u001b[0m \u001b[0mnum_workers\u001b[0m\u001b[1;33m,\u001b[0m\u001b[1;33m\u001b[0m\u001b[1;33m\u001b[0m\u001b[0m\n\u001b[1;32m----> 8\u001b[1;33m         \u001b[0mcallbacks\u001b[0m           \u001b[1;33m=\u001b[0m \u001b[1;33m[\u001b[0m\u001b[0mlogging\u001b[0m\u001b[1;33m,\u001b[0m \u001b[0mcheckpoint\u001b[0m\u001b[1;33m,\u001b[0m \u001b[0mearly_stopping\u001b[0m\u001b[1;33m,\u001b[0m \u001b[0mloss_history\u001b[0m\u001b[1;33m]\u001b[0m\u001b[1;33m,\u001b[0m\u001b[1;33m\u001b[0m\u001b[1;33m\u001b[0m\u001b[0m\n\u001b[0m\u001b[0;32m      9\u001b[0m     \u001b[1;31m#class_weight= cls_wt_dict\u001b[0m\u001b[1;33m\u001b[0m\u001b[1;33m\u001b[0m\u001b[1;33m\u001b[0m\u001b[0m\n\u001b[0;32m     10\u001b[0m     )\n",
      "\u001b[1;32md:\\miniconda\\lib\\site-packages\\tensorflow\\python\\keras\\engine\\training.py\u001b[0m in \u001b[0;36m_method_wrapper\u001b[1;34m(self, *args, **kwargs)\u001b[0m\n\u001b[0;32m    106\u001b[0m   \u001b[1;32mdef\u001b[0m \u001b[0m_method_wrapper\u001b[0m\u001b[1;33m(\u001b[0m\u001b[0mself\u001b[0m\u001b[1;33m,\u001b[0m \u001b[1;33m*\u001b[0m\u001b[0margs\u001b[0m\u001b[1;33m,\u001b[0m \u001b[1;33m**\u001b[0m\u001b[0mkwargs\u001b[0m\u001b[1;33m)\u001b[0m\u001b[1;33m:\u001b[0m\u001b[1;33m\u001b[0m\u001b[1;33m\u001b[0m\u001b[0m\n\u001b[0;32m    107\u001b[0m     \u001b[1;32mif\u001b[0m \u001b[1;32mnot\u001b[0m \u001b[0mself\u001b[0m\u001b[1;33m.\u001b[0m\u001b[0m_in_multi_worker_mode\u001b[0m\u001b[1;33m(\u001b[0m\u001b[1;33m)\u001b[0m\u001b[1;33m:\u001b[0m  \u001b[1;31m# pylint: disable=protected-access\u001b[0m\u001b[1;33m\u001b[0m\u001b[1;33m\u001b[0m\u001b[0m\n\u001b[1;32m--> 108\u001b[1;33m       \u001b[1;32mreturn\u001b[0m \u001b[0mmethod\u001b[0m\u001b[1;33m(\u001b[0m\u001b[0mself\u001b[0m\u001b[1;33m,\u001b[0m \u001b[1;33m*\u001b[0m\u001b[0margs\u001b[0m\u001b[1;33m,\u001b[0m \u001b[1;33m**\u001b[0m\u001b[0mkwargs\u001b[0m\u001b[1;33m)\u001b[0m\u001b[1;33m\u001b[0m\u001b[1;33m\u001b[0m\u001b[0m\n\u001b[0m\u001b[0;32m    109\u001b[0m \u001b[1;33m\u001b[0m\u001b[0m\n\u001b[0;32m    110\u001b[0m     \u001b[1;31m# Running inside `run_distribute_coordinator` already.\u001b[0m\u001b[1;33m\u001b[0m\u001b[1;33m\u001b[0m\u001b[1;33m\u001b[0m\u001b[0m\n",
      "\u001b[1;32md:\\miniconda\\lib\\site-packages\\tensorflow\\python\\keras\\engine\\training.py\u001b[0m in \u001b[0;36mfit\u001b[1;34m(self, x, y, batch_size, epochs, verbose, callbacks, validation_split, validation_data, shuffle, class_weight, sample_weight, initial_epoch, steps_per_epoch, validation_steps, validation_batch_size, validation_freq, max_queue_size, workers, use_multiprocessing)\u001b[0m\n\u001b[0;32m   1096\u001b[0m                 batch_size=batch_size):\n\u001b[0;32m   1097\u001b[0m               \u001b[0mcallbacks\u001b[0m\u001b[1;33m.\u001b[0m\u001b[0mon_train_batch_begin\u001b[0m\u001b[1;33m(\u001b[0m\u001b[0mstep\u001b[0m\u001b[1;33m)\u001b[0m\u001b[1;33m\u001b[0m\u001b[1;33m\u001b[0m\u001b[0m\n\u001b[1;32m-> 1098\u001b[1;33m               \u001b[0mtmp_logs\u001b[0m \u001b[1;33m=\u001b[0m \u001b[0mtrain_function\u001b[0m\u001b[1;33m(\u001b[0m\u001b[0miterator\u001b[0m\u001b[1;33m)\u001b[0m\u001b[1;33m\u001b[0m\u001b[1;33m\u001b[0m\u001b[0m\n\u001b[0m\u001b[0;32m   1099\u001b[0m               \u001b[1;32mif\u001b[0m \u001b[0mdata_handler\u001b[0m\u001b[1;33m.\u001b[0m\u001b[0mshould_sync\u001b[0m\u001b[1;33m:\u001b[0m\u001b[1;33m\u001b[0m\u001b[1;33m\u001b[0m\u001b[0m\n\u001b[0;32m   1100\u001b[0m                 \u001b[0mcontext\u001b[0m\u001b[1;33m.\u001b[0m\u001b[0masync_wait\u001b[0m\u001b[1;33m(\u001b[0m\u001b[1;33m)\u001b[0m\u001b[1;33m\u001b[0m\u001b[1;33m\u001b[0m\u001b[0m\n",
      "\u001b[1;32md:\\miniconda\\lib\\site-packages\\tensorflow\\python\\eager\\def_function.py\u001b[0m in \u001b[0;36m__call__\u001b[1;34m(self, *args, **kwds)\u001b[0m\n\u001b[0;32m    778\u001b[0m       \u001b[1;32melse\u001b[0m\u001b[1;33m:\u001b[0m\u001b[1;33m\u001b[0m\u001b[1;33m\u001b[0m\u001b[0m\n\u001b[0;32m    779\u001b[0m         \u001b[0mcompiler\u001b[0m \u001b[1;33m=\u001b[0m \u001b[1;34m\"nonXla\"\u001b[0m\u001b[1;33m\u001b[0m\u001b[1;33m\u001b[0m\u001b[0m\n\u001b[1;32m--> 780\u001b[1;33m         \u001b[0mresult\u001b[0m \u001b[1;33m=\u001b[0m \u001b[0mself\u001b[0m\u001b[1;33m.\u001b[0m\u001b[0m_call\u001b[0m\u001b[1;33m(\u001b[0m\u001b[1;33m*\u001b[0m\u001b[0margs\u001b[0m\u001b[1;33m,\u001b[0m \u001b[1;33m**\u001b[0m\u001b[0mkwds\u001b[0m\u001b[1;33m)\u001b[0m\u001b[1;33m\u001b[0m\u001b[1;33m\u001b[0m\u001b[0m\n\u001b[0m\u001b[0;32m    781\u001b[0m \u001b[1;33m\u001b[0m\u001b[0m\n\u001b[0;32m    782\u001b[0m       \u001b[0mnew_tracing_count\u001b[0m \u001b[1;33m=\u001b[0m \u001b[0mself\u001b[0m\u001b[1;33m.\u001b[0m\u001b[0m_get_tracing_count\u001b[0m\u001b[1;33m(\u001b[0m\u001b[1;33m)\u001b[0m\u001b[1;33m\u001b[0m\u001b[1;33m\u001b[0m\u001b[0m\n",
      "\u001b[1;32md:\\miniconda\\lib\\site-packages\\tensorflow\\python\\eager\\def_function.py\u001b[0m in \u001b[0;36m_call\u001b[1;34m(self, *args, **kwds)\u001b[0m\n\u001b[0;32m    821\u001b[0m       \u001b[1;31m# This is the first call of __call__, so we have to initialize.\u001b[0m\u001b[1;33m\u001b[0m\u001b[1;33m\u001b[0m\u001b[1;33m\u001b[0m\u001b[0m\n\u001b[0;32m    822\u001b[0m       \u001b[0minitializers\u001b[0m \u001b[1;33m=\u001b[0m \u001b[1;33m[\u001b[0m\u001b[1;33m]\u001b[0m\u001b[1;33m\u001b[0m\u001b[1;33m\u001b[0m\u001b[0m\n\u001b[1;32m--> 823\u001b[1;33m       \u001b[0mself\u001b[0m\u001b[1;33m.\u001b[0m\u001b[0m_initialize\u001b[0m\u001b[1;33m(\u001b[0m\u001b[0margs\u001b[0m\u001b[1;33m,\u001b[0m \u001b[0mkwds\u001b[0m\u001b[1;33m,\u001b[0m \u001b[0madd_initializers_to\u001b[0m\u001b[1;33m=\u001b[0m\u001b[0minitializers\u001b[0m\u001b[1;33m)\u001b[0m\u001b[1;33m\u001b[0m\u001b[1;33m\u001b[0m\u001b[0m\n\u001b[0m\u001b[0;32m    824\u001b[0m     \u001b[1;32mfinally\u001b[0m\u001b[1;33m:\u001b[0m\u001b[1;33m\u001b[0m\u001b[1;33m\u001b[0m\u001b[0m\n\u001b[0;32m    825\u001b[0m       \u001b[1;31m# At this point we know that the initialization is complete (or less\u001b[0m\u001b[1;33m\u001b[0m\u001b[1;33m\u001b[0m\u001b[1;33m\u001b[0m\u001b[0m\n",
      "\u001b[1;32md:\\miniconda\\lib\\site-packages\\tensorflow\\python\\eager\\def_function.py\u001b[0m in \u001b[0;36m_initialize\u001b[1;34m(self, args, kwds, add_initializers_to)\u001b[0m\n\u001b[0;32m    695\u001b[0m     self._concrete_stateful_fn = (\n\u001b[0;32m    696\u001b[0m         self._stateful_fn._get_concrete_function_internal_garbage_collected(  # pylint: disable=protected-access\n\u001b[1;32m--> 697\u001b[1;33m             *args, **kwds))\n\u001b[0m\u001b[0;32m    698\u001b[0m \u001b[1;33m\u001b[0m\u001b[0m\n\u001b[0;32m    699\u001b[0m     \u001b[1;32mdef\u001b[0m \u001b[0minvalid_creator_scope\u001b[0m\u001b[1;33m(\u001b[0m\u001b[1;33m*\u001b[0m\u001b[0munused_args\u001b[0m\u001b[1;33m,\u001b[0m \u001b[1;33m**\u001b[0m\u001b[0munused_kwds\u001b[0m\u001b[1;33m)\u001b[0m\u001b[1;33m:\u001b[0m\u001b[1;33m\u001b[0m\u001b[1;33m\u001b[0m\u001b[0m\n",
      "\u001b[1;32md:\\miniconda\\lib\\site-packages\\tensorflow\\python\\eager\\function.py\u001b[0m in \u001b[0;36m_get_concrete_function_internal_garbage_collected\u001b[1;34m(self, *args, **kwargs)\u001b[0m\n\u001b[0;32m   2853\u001b[0m       \u001b[0margs\u001b[0m\u001b[1;33m,\u001b[0m \u001b[0mkwargs\u001b[0m \u001b[1;33m=\u001b[0m \u001b[1;32mNone\u001b[0m\u001b[1;33m,\u001b[0m \u001b[1;32mNone\u001b[0m\u001b[1;33m\u001b[0m\u001b[1;33m\u001b[0m\u001b[0m\n\u001b[0;32m   2854\u001b[0m     \u001b[1;32mwith\u001b[0m \u001b[0mself\u001b[0m\u001b[1;33m.\u001b[0m\u001b[0m_lock\u001b[0m\u001b[1;33m:\u001b[0m\u001b[1;33m\u001b[0m\u001b[1;33m\u001b[0m\u001b[0m\n\u001b[1;32m-> 2855\u001b[1;33m       \u001b[0mgraph_function\u001b[0m\u001b[1;33m,\u001b[0m \u001b[0m_\u001b[0m\u001b[1;33m,\u001b[0m \u001b[0m_\u001b[0m \u001b[1;33m=\u001b[0m \u001b[0mself\u001b[0m\u001b[1;33m.\u001b[0m\u001b[0m_maybe_define_function\u001b[0m\u001b[1;33m(\u001b[0m\u001b[0margs\u001b[0m\u001b[1;33m,\u001b[0m \u001b[0mkwargs\u001b[0m\u001b[1;33m)\u001b[0m\u001b[1;33m\u001b[0m\u001b[1;33m\u001b[0m\u001b[0m\n\u001b[0m\u001b[0;32m   2856\u001b[0m     \u001b[1;32mreturn\u001b[0m \u001b[0mgraph_function\u001b[0m\u001b[1;33m\u001b[0m\u001b[1;33m\u001b[0m\u001b[0m\n\u001b[0;32m   2857\u001b[0m \u001b[1;33m\u001b[0m\u001b[0m\n",
      "\u001b[1;32md:\\miniconda\\lib\\site-packages\\tensorflow\\python\\eager\\function.py\u001b[0m in \u001b[0;36m_maybe_define_function\u001b[1;34m(self, args, kwargs)\u001b[0m\n\u001b[0;32m   3211\u001b[0m \u001b[1;33m\u001b[0m\u001b[0m\n\u001b[0;32m   3212\u001b[0m       \u001b[0mself\u001b[0m\u001b[1;33m.\u001b[0m\u001b[0m_function_cache\u001b[0m\u001b[1;33m.\u001b[0m\u001b[0mmissed\u001b[0m\u001b[1;33m.\u001b[0m\u001b[0madd\u001b[0m\u001b[1;33m(\u001b[0m\u001b[0mcall_context_key\u001b[0m\u001b[1;33m)\u001b[0m\u001b[1;33m\u001b[0m\u001b[1;33m\u001b[0m\u001b[0m\n\u001b[1;32m-> 3213\u001b[1;33m       \u001b[0mgraph_function\u001b[0m \u001b[1;33m=\u001b[0m \u001b[0mself\u001b[0m\u001b[1;33m.\u001b[0m\u001b[0m_create_graph_function\u001b[0m\u001b[1;33m(\u001b[0m\u001b[0margs\u001b[0m\u001b[1;33m,\u001b[0m \u001b[0mkwargs\u001b[0m\u001b[1;33m)\u001b[0m\u001b[1;33m\u001b[0m\u001b[1;33m\u001b[0m\u001b[0m\n\u001b[0m\u001b[0;32m   3214\u001b[0m       \u001b[0mself\u001b[0m\u001b[1;33m.\u001b[0m\u001b[0m_function_cache\u001b[0m\u001b[1;33m.\u001b[0m\u001b[0mprimary\u001b[0m\u001b[1;33m[\u001b[0m\u001b[0mcache_key\u001b[0m\u001b[1;33m]\u001b[0m \u001b[1;33m=\u001b[0m \u001b[0mgraph_function\u001b[0m\u001b[1;33m\u001b[0m\u001b[1;33m\u001b[0m\u001b[0m\n\u001b[0;32m   3215\u001b[0m       \u001b[1;32mreturn\u001b[0m \u001b[0mgraph_function\u001b[0m\u001b[1;33m,\u001b[0m \u001b[0margs\u001b[0m\u001b[1;33m,\u001b[0m \u001b[0mkwargs\u001b[0m\u001b[1;33m\u001b[0m\u001b[1;33m\u001b[0m\u001b[0m\n",
      "\u001b[1;32md:\\miniconda\\lib\\site-packages\\tensorflow\\python\\eager\\function.py\u001b[0m in \u001b[0;36m_create_graph_function\u001b[1;34m(self, args, kwargs, override_flat_arg_shapes)\u001b[0m\n\u001b[0;32m   3073\u001b[0m             \u001b[0marg_names\u001b[0m\u001b[1;33m=\u001b[0m\u001b[0marg_names\u001b[0m\u001b[1;33m,\u001b[0m\u001b[1;33m\u001b[0m\u001b[1;33m\u001b[0m\u001b[0m\n\u001b[0;32m   3074\u001b[0m             \u001b[0moverride_flat_arg_shapes\u001b[0m\u001b[1;33m=\u001b[0m\u001b[0moverride_flat_arg_shapes\u001b[0m\u001b[1;33m,\u001b[0m\u001b[1;33m\u001b[0m\u001b[1;33m\u001b[0m\u001b[0m\n\u001b[1;32m-> 3075\u001b[1;33m             capture_by_value=self._capture_by_value),\n\u001b[0m\u001b[0;32m   3076\u001b[0m         \u001b[0mself\u001b[0m\u001b[1;33m.\u001b[0m\u001b[0m_function_attributes\u001b[0m\u001b[1;33m,\u001b[0m\u001b[1;33m\u001b[0m\u001b[1;33m\u001b[0m\u001b[0m\n\u001b[0;32m   3077\u001b[0m         \u001b[0mfunction_spec\u001b[0m\u001b[1;33m=\u001b[0m\u001b[0mself\u001b[0m\u001b[1;33m.\u001b[0m\u001b[0mfunction_spec\u001b[0m\u001b[1;33m,\u001b[0m\u001b[1;33m\u001b[0m\u001b[1;33m\u001b[0m\u001b[0m\n",
      "\u001b[1;32md:\\miniconda\\lib\\site-packages\\tensorflow\\python\\framework\\func_graph.py\u001b[0m in \u001b[0;36mfunc_graph_from_py_func\u001b[1;34m(name, python_func, args, kwargs, signature, func_graph, autograph, autograph_options, add_control_dependencies, arg_names, op_return_value, collections, capture_by_value, override_flat_arg_shapes)\u001b[0m\n\u001b[0;32m    984\u001b[0m         \u001b[0m_\u001b[0m\u001b[1;33m,\u001b[0m \u001b[0moriginal_func\u001b[0m \u001b[1;33m=\u001b[0m \u001b[0mtf_decorator\u001b[0m\u001b[1;33m.\u001b[0m\u001b[0munwrap\u001b[0m\u001b[1;33m(\u001b[0m\u001b[0mpython_func\u001b[0m\u001b[1;33m)\u001b[0m\u001b[1;33m\u001b[0m\u001b[1;33m\u001b[0m\u001b[0m\n\u001b[0;32m    985\u001b[0m \u001b[1;33m\u001b[0m\u001b[0m\n\u001b[1;32m--> 986\u001b[1;33m       \u001b[0mfunc_outputs\u001b[0m \u001b[1;33m=\u001b[0m \u001b[0mpython_func\u001b[0m\u001b[1;33m(\u001b[0m\u001b[1;33m*\u001b[0m\u001b[0mfunc_args\u001b[0m\u001b[1;33m,\u001b[0m \u001b[1;33m**\u001b[0m\u001b[0mfunc_kwargs\u001b[0m\u001b[1;33m)\u001b[0m\u001b[1;33m\u001b[0m\u001b[1;33m\u001b[0m\u001b[0m\n\u001b[0m\u001b[0;32m    987\u001b[0m \u001b[1;33m\u001b[0m\u001b[0m\n\u001b[0;32m    988\u001b[0m       \u001b[1;31m# invariant: `func_outputs` contains only Tensors, CompositeTensors,\u001b[0m\u001b[1;33m\u001b[0m\u001b[1;33m\u001b[0m\u001b[1;33m\u001b[0m\u001b[0m\n",
      "\u001b[1;32md:\\miniconda\\lib\\site-packages\\tensorflow\\python\\eager\\def_function.py\u001b[0m in \u001b[0;36mwrapped_fn\u001b[1;34m(*args, **kwds)\u001b[0m\n\u001b[0;32m    598\u001b[0m         \u001b[1;31m# __wrapped__ allows AutoGraph to swap in a converted function. We give\u001b[0m\u001b[1;33m\u001b[0m\u001b[1;33m\u001b[0m\u001b[1;33m\u001b[0m\u001b[0m\n\u001b[0;32m    599\u001b[0m         \u001b[1;31m# the function a weak reference to itself to avoid a reference cycle.\u001b[0m\u001b[1;33m\u001b[0m\u001b[1;33m\u001b[0m\u001b[1;33m\u001b[0m\u001b[0m\n\u001b[1;32m--> 600\u001b[1;33m         \u001b[1;32mreturn\u001b[0m \u001b[0mweak_wrapped_fn\u001b[0m\u001b[1;33m(\u001b[0m\u001b[1;33m)\u001b[0m\u001b[1;33m.\u001b[0m\u001b[0m__wrapped__\u001b[0m\u001b[1;33m(\u001b[0m\u001b[1;33m*\u001b[0m\u001b[0margs\u001b[0m\u001b[1;33m,\u001b[0m \u001b[1;33m**\u001b[0m\u001b[0mkwds\u001b[0m\u001b[1;33m)\u001b[0m\u001b[1;33m\u001b[0m\u001b[1;33m\u001b[0m\u001b[0m\n\u001b[0m\u001b[0;32m    601\u001b[0m     \u001b[0mweak_wrapped_fn\u001b[0m \u001b[1;33m=\u001b[0m \u001b[0mweakref\u001b[0m\u001b[1;33m.\u001b[0m\u001b[0mref\u001b[0m\u001b[1;33m(\u001b[0m\u001b[0mwrapped_fn\u001b[0m\u001b[1;33m)\u001b[0m\u001b[1;33m\u001b[0m\u001b[1;33m\u001b[0m\u001b[0m\n\u001b[0;32m    602\u001b[0m \u001b[1;33m\u001b[0m\u001b[0m\n",
      "\u001b[1;32md:\\miniconda\\lib\\site-packages\\tensorflow\\python\\framework\\func_graph.py\u001b[0m in \u001b[0;36mwrapper\u001b[1;34m(*args, **kwargs)\u001b[0m\n\u001b[0;32m    971\u001b[0m           \u001b[1;32mexcept\u001b[0m \u001b[0mException\u001b[0m \u001b[1;32mas\u001b[0m \u001b[0me\u001b[0m\u001b[1;33m:\u001b[0m  \u001b[1;31m# pylint:disable=broad-except\u001b[0m\u001b[1;33m\u001b[0m\u001b[1;33m\u001b[0m\u001b[0m\n\u001b[0;32m    972\u001b[0m             \u001b[1;32mif\u001b[0m \u001b[0mhasattr\u001b[0m\u001b[1;33m(\u001b[0m\u001b[0me\u001b[0m\u001b[1;33m,\u001b[0m \u001b[1;34m\"ag_error_metadata\"\u001b[0m\u001b[1;33m)\u001b[0m\u001b[1;33m:\u001b[0m\u001b[1;33m\u001b[0m\u001b[1;33m\u001b[0m\u001b[0m\n\u001b[1;32m--> 973\u001b[1;33m               \u001b[1;32mraise\u001b[0m \u001b[0me\u001b[0m\u001b[1;33m.\u001b[0m\u001b[0mag_error_metadata\u001b[0m\u001b[1;33m.\u001b[0m\u001b[0mto_exception\u001b[0m\u001b[1;33m(\u001b[0m\u001b[0me\u001b[0m\u001b[1;33m)\u001b[0m\u001b[1;33m\u001b[0m\u001b[1;33m\u001b[0m\u001b[0m\n\u001b[0m\u001b[0;32m    974\u001b[0m             \u001b[1;32melse\u001b[0m\u001b[1;33m:\u001b[0m\u001b[1;33m\u001b[0m\u001b[1;33m\u001b[0m\u001b[0m\n\u001b[0;32m    975\u001b[0m               \u001b[1;32mraise\u001b[0m\u001b[1;33m\u001b[0m\u001b[1;33m\u001b[0m\u001b[0m\n",
      "\u001b[1;31mValueError\u001b[0m: in user code:\n\n    d:\\miniconda\\lib\\site-packages\\tensorflow\\python\\keras\\engine\\training.py:806 train_function  *\n        return step_function(self, iterator)\n    d:\\miniconda\\lib\\site-packages\\tensorflow\\python\\keras\\engine\\training.py:796 step_function  **\n        outputs = model.distribute_strategy.run(run_step, args=(data,))\n    d:\\miniconda\\lib\\site-packages\\tensorflow\\python\\distribute\\distribute_lib.py:1211 run\n        return self._extended.call_for_each_replica(fn, args=args, kwargs=kwargs)\n    d:\\miniconda\\lib\\site-packages\\tensorflow\\python\\distribute\\distribute_lib.py:2585 call_for_each_replica\n        return self._call_for_each_replica(fn, args, kwargs)\n    d:\\miniconda\\lib\\site-packages\\tensorflow\\python\\distribute\\distribute_lib.py:2945 _call_for_each_replica\n        return fn(*args, **kwargs)\n    d:\\miniconda\\lib\\site-packages\\tensorflow\\python\\keras\\engine\\training.py:789 run_step  **\n        outputs = model.train_step(data)\n    d:\\miniconda\\lib\\site-packages\\tensorflow\\python\\keras\\engine\\training.py:749 train_step\n        y, y_pred, sample_weight, regularization_losses=self.losses)\n    d:\\miniconda\\lib\\site-packages\\tensorflow\\python\\keras\\engine\\compile_utils.py:204 __call__\n        loss_value = loss_obj(y_t, y_p, sample_weight=sw)\n    d:\\miniconda\\lib\\site-packages\\tensorflow\\python\\keras\\losses.py:149 __call__\n        losses = ag_call(y_true, y_pred)\n    d:\\miniconda\\lib\\site-packages\\tensorflow\\python\\keras\\losses.py:253 call  **\n        return ag_fn(y_true, y_pred, **self._fn_kwargs)\n    d:\\miniconda\\lib\\site-packages\\tensorflow\\python\\util\\dispatch.py:201 wrapper\n        return target(*args, **kwargs)\n    d:\\miniconda\\lib\\site-packages\\tensorflow\\python\\keras\\losses.py:1535 categorical_crossentropy\n        return K.categorical_crossentropy(y_true, y_pred, from_logits=from_logits)\n    d:\\miniconda\\lib\\site-packages\\tensorflow\\python\\util\\dispatch.py:201 wrapper\n        return target(*args, **kwargs)\n    d:\\miniconda\\lib\\site-packages\\tensorflow\\python\\keras\\backend.py:4687 categorical_crossentropy\n        target.shape.assert_is_compatible_with(output.shape)\n    d:\\miniconda\\lib\\site-packages\\tensorflow\\python\\framework\\tensor_shape.py:1134 assert_is_compatible_with\n        raise ValueError(\"Shapes %s and %s are incompatible\" % (self, other))\n\n    ValueError: Shapes (None, 1) and (None, 4) are incompatible\n"
     ]
    }
   ],
   "source": [
    "model.fit(train_data2,\n",
    "         validation_data     = val_data1,\n",
    "        validation_steps    = epoch_step_val,\n",
    "        epochs              = Epoch,\n",
    "        initial_epoch       = Init_Epoch,\n",
    "        use_multiprocessing = True if num_workers > 1 else False,\n",
    "        workers             = num_workers,\n",
    "        callbacks           = [logging, checkpoint, early_stopping, loss_history],\n",
    "    #class_weight= cls_wt_dict\n",
    "    )"
   ]
  },
  {
   "cell_type": "markdown",
   "id": "understanding-format",
   "metadata": {},
   "source": [
    "# 类别的权重"
   ]
  },
  {
   "cell_type": "code",
   "execution_count": 42,
   "id": "alternate-theorem",
   "metadata": {},
   "outputs": [],
   "source": [
    "#cls_wt_dict = {0: 0.5490867579908676, 1: 1.9552845528455285, 2: 1.2208121827411167, 3: 1.178921568627451}\n",
    "#cls_wt_dict = {0: 0.8481735159817352, 1: 1.5101626016260163, 2: 0.9428934010152284, 3: 0.9105392156862745} #balance\n",
    "cls_wt_dict = {0: 0.91837899543379, 1: 1.0901084010840107, 2: 1.0209390862944163, 3: 0.9859068627450981}"
   ]
  },
  {
   "cell_type": "code",
   "execution_count": 31,
   "id": "better-intelligence",
   "metadata": {},
   "outputs": [
    {
     "name": "stdout",
     "output_type": "stream",
     "text": [
      "WARNING:tensorflow:From <ipython-input-31-02dc97d35e21>:14: Model.fit_generator (from tensorflow.python.keras.engine.training) is deprecated and will be removed in a future version.\n",
      "Instructions for updating:\n",
      "Please use Model.fit, which supports generators.\n",
      "Epoch 1/100\n",
      "  1/167 [..............................] - ETA: 0s - loss: 1.8800 - categorical_accuracy: 0.2500WARNING:tensorflow:From d:\\miniconda\\lib\\site-packages\\tensorflow\\python\\ops\\summary_ops_v2.py:1277: stop (from tensorflow.python.eager.profiler) is deprecated and will be removed after 2020-07-01.\n",
      "Instructions for updating:\n",
      "use `tf.profiler.experimental.stop` instead.\n",
      "  2/167 [..............................] - ETA: 1:37 - loss: 1.7578 - categorical_accuracy: 0.3125WARNING:tensorflow:Callbacks method `on_train_batch_end` is slow compared to the batch time (batch time: 0.2554s vs `on_train_batch_end` time: 0.9177s). Check your callbacks.\n",
      "167/167 [==============================] - ETA: 0s - loss: 1.1767 - categorical_accuracy: 0.5228Setting learning rate to 9.499999760009814e-05.\n",
      "167/167 [==============================] - 144s 863ms/step - loss: 1.1767 - categorical_accuracy: 0.5228 - val_loss: 1.7318 - val_categorical_accuracy: 0.2088\n",
      "Epoch 2/100\n",
      "167/167 [==============================] - ETA: 0s - loss: 0.8693 - categorical_accuracy: 0.6261Setting learning rate to 9.02499959920533e-05.\n",
      "167/167 [==============================] - 117s 700ms/step - loss: 0.8693 - categorical_accuracy: 0.6261 - val_loss: 1.4247 - val_categorical_accuracy: 0.3110\n",
      "Epoch 3/100\n",
      "167/167 [==============================] - ETA: 0s - loss: 0.7768 - categorical_accuracy: 0.6692Setting learning rate to 8.573749619245064e-05.\n",
      "167/167 [==============================] - 120s 716ms/step - loss: 0.7768 - categorical_accuracy: 0.6692 - val_loss: 1.4623 - val_categorical_accuracy: 0.3628\n",
      "Epoch 4/100\n",
      "167/167 [==============================] - ETA: 0s - loss: 0.7050 - categorical_accuracy: 0.6991Setting learning rate to 8.145062311086804e-05.\n",
      "167/167 [==============================] - 121s 726ms/step - loss: 0.7050 - categorical_accuracy: 0.6991 - val_loss: 1.7858 - val_categorical_accuracy: 0.4878\n",
      "Epoch 5/100\n",
      "167/167 [==============================] - ETA: 0s - loss: 0.6326 - categorical_accuracy: 0.7463Setting learning rate to 7.737808919046074e-05.\n",
      "167/167 [==============================] - 123s 734ms/step - loss: 0.6326 - categorical_accuracy: 0.7463 - val_loss: 2.1923 - val_categorical_accuracy: 0.5229\n",
      "Epoch 6/100\n",
      "167/167 [==============================] - ETA: 0s - loss: 0.5374 - categorical_accuracy: 0.7822Setting learning rate to 7.350918749580159e-05.\n",
      "167/167 [==============================] - 122s 733ms/step - loss: 0.5374 - categorical_accuracy: 0.7822 - val_loss: 0.9708 - val_categorical_accuracy: 0.7012\n",
      "Epoch 7/100\n",
      "167/167 [==============================] - ETA: 0s - loss: 0.4546 - categorical_accuracy: 0.8211Setting learning rate to 6.983372950344346e-05.\n",
      "167/167 [==============================] - 123s 737ms/step - loss: 0.4546 - categorical_accuracy: 0.8211 - val_loss: 0.7090 - val_categorical_accuracy: 0.7393\n",
      "Epoch 8/100\n",
      "167/167 [==============================] - ETA: 0s - loss: 0.3985 - categorical_accuracy: 0.8417Setting learning rate to 6.634204510191921e-05.\n",
      "167/167 [==============================] - 124s 742ms/step - loss: 0.3985 - categorical_accuracy: 0.8417 - val_loss: 0.5491 - val_categorical_accuracy: 0.8003\n",
      "Epoch 9/100\n",
      "167/167 [==============================] - ETA: 0s - loss: 0.3443 - categorical_accuracy: 0.8746Setting learning rate to 6.302494111878331e-05.\n",
      "167/167 [==============================] - 124s 741ms/step - loss: 0.3443 - categorical_accuracy: 0.8746 - val_loss: 0.5350 - val_categorical_accuracy: 0.8308\n",
      "Epoch 10/100\n",
      "167/167 [==============================] - ETA: 0s - loss: 0.3219 - categorical_accuracy: 0.8802Setting learning rate to 5.9873694408452134e-05.\n",
      "167/167 [==============================] - 125s 746ms/step - loss: 0.3219 - categorical_accuracy: 0.8802 - val_loss: 0.5508 - val_categorical_accuracy: 0.8293\n",
      "Epoch 11/100\n",
      "167/167 [==============================] - ETA: 0s - loss: 0.2636 - categorical_accuracy: 0.9046Setting learning rate to 5.68800103792455e-05.\n",
      "167/167 [==============================] - 124s 744ms/step - loss: 0.2636 - categorical_accuracy: 0.9046 - val_loss: 0.5679 - val_categorical_accuracy: 0.8262\n",
      "Epoch 12/100\n",
      "167/167 [==============================] - ETA: 0s - loss: 0.2233 - categorical_accuracy: 0.9113Setting learning rate to 5.4036009169067255e-05.\n",
      "167/167 [==============================] - 125s 746ms/step - loss: 0.2233 - categorical_accuracy: 0.9113 - val_loss: 0.7372 - val_categorical_accuracy: 0.8064\n",
      "Epoch 13/100\n",
      "167/167 [==============================] - ETA: 0s - loss: 0.1991 - categorical_accuracy: 0.9229Setting learning rate to 5.133420836500591e-05.\n",
      "167/167 [==============================] - 125s 746ms/step - loss: 0.1991 - categorical_accuracy: 0.9229 - val_loss: 0.6015 - val_categorical_accuracy: 0.8445\n",
      "Epoch 14/100\n",
      "167/167 [==============================] - ETA: 0s - loss: 0.1477 - categorical_accuracy: 0.9454Setting learning rate to 4.876749881077558e-05.\n",
      "167/167 [==============================] - 124s 745ms/step - loss: 0.1477 - categorical_accuracy: 0.9454 - val_loss: 0.5881 - val_categorical_accuracy: 0.8567\n",
      "Epoch 15/100\n",
      "167/167 [==============================] - ETA: 0s - loss: 0.1358 - categorical_accuracy: 0.9517Setting learning rate to 4.63291238702368e-05.\n",
      "167/167 [==============================] - 125s 750ms/step - loss: 0.1358 - categorical_accuracy: 0.9517 - val_loss: 0.6671 - val_categorical_accuracy: 0.8384\n",
      "Epoch 16/100\n",
      "167/167 [==============================] - ETA: 0s - loss: 0.1161 - categorical_accuracy: 0.9562Setting learning rate to 4.4012669059156905e-05.\n",
      "167/167 [==============================] - 125s 748ms/step - loss: 0.1161 - categorical_accuracy: 0.9562 - val_loss: 0.7587 - val_categorical_accuracy: 0.8415\n",
      "Epoch 17/100\n",
      "167/167 [==============================] - ETA: 0s - loss: 0.1141 - categorical_accuracy: 0.9603Setting learning rate to 4.181203439657111e-05.\n",
      "167/167 [==============================] - 125s 751ms/step - loss: 0.1141 - categorical_accuracy: 0.9603 - val_loss: 0.6908 - val_categorical_accuracy: 0.8232\n",
      "Epoch 18/100\n",
      "167/167 [==============================] - ETA: 0s - loss: 0.1034 - categorical_accuracy: 0.9644Setting learning rate to 3.9721430948702614e-05.\n",
      "167/167 [==============================] - 126s 752ms/step - loss: 0.1034 - categorical_accuracy: 0.9644 - val_loss: 0.6978 - val_categorical_accuracy: 0.8354\n",
      "Epoch 19/100\n",
      "167/167 [==============================] - ETA: 0s - loss: 0.0969 - categorical_accuracy: 0.9663Setting learning rate to 3.773536009248346e-05.\n",
      "167/167 [==============================] - 125s 748ms/step - loss: 0.0969 - categorical_accuracy: 0.9663 - val_loss: 0.6387 - val_categorical_accuracy: 0.8399\n",
      "Epoch 00019: early stopping\n"
     ]
    },
    {
     "data": {
      "text/plain": [
       "<tensorflow.python.keras.callbacks.History at 0x14565526148>"
      ]
     },
     "execution_count": 31,
     "metadata": {},
     "output_type": "execute_result"
    }
   ],
   "source": [
    "model.compile(loss = 'categorical_crossentropy',\n",
    "                    optimizer = Adam(lr = Lr),\n",
    "                    metrics = ['categorical_accuracy'])\n",
    "            \n",
    "model.fit_generator(\n",
    "    generator           = train_dataloader,\n",
    "    steps_per_epoch     = epoch_step,\n",
    "    validation_data     = val_dataloader,\n",
    "    validation_steps    = epoch_step_val,\n",
    "    epochs              = Epoch,\n",
    "    initial_epoch       = Init_Epoch,\n",
    "    use_multiprocessing = True if num_workers > 1 else False,\n",
    "    workers             = num_workers,\n",
    "    callbacks           = [logging, checkpoint, reduce_lr, early_stopping, loss_history]\n",
    "    #class_weight= cls_wt_dict\n",
    ")"
   ]
  },
  {
   "cell_type": "markdown",
   "id": "actual-arabic",
   "metadata": {},
   "source": [
    "# 下面是画混淆矩阵用的"
   ]
  },
  {
   "cell_type": "code",
   "execution_count": 32,
   "id": "acknowledged-citizenship",
   "metadata": {},
   "outputs": [],
   "source": [
    "from sklearn.metrics import confusion_matrix\n",
    "from sklearn.utils.multiclass import unique_labels\n",
    "from matplotlib import pyplot as plt\n",
    "%matplotlib inline\n",
    "\n",
    "# borrowed from scikit learn  这个是为了画混淆矩阵\n",
    "def plot_confusion_matrix(y_true, y_pred, classes,\n",
    "                          normalize=False,\n",
    "                          title=None,\n",
    "                          cmap=plt.cm.Blues):\n",
    "    \"\"\"\n",
    "    This function prints and plots the confusion matrix.\n",
    "    Normalization can be applied by setting `normalize=True`.\n",
    "    \"\"\"\n",
    "    if not title:\n",
    "        if normalize:\n",
    "            title = 'Normalized confusion matrix'\n",
    "        else:\n",
    "            title = 'Confusion matrix, without normalization'\n",
    "\n",
    "    # Compute confusion matrix\n",
    "    cm = confusion_matrix(y_true, y_pred)\n",
    "    # Only use the labels that appear in the data\n",
    "    classes = classes[unique_labels(y_true, y_pred)]\n",
    "    if normalize:\n",
    "        cm = cm.astype('float') / cm.sum(axis=1)[:, np.newaxis]\n",
    "        print(\"Normalized confusion matrix\")\n",
    "    else:\n",
    "        print('Confusion matrix, without normalization')\n",
    "\n",
    "    print(cm)\n",
    "\n",
    "    fig, ax = plt.subplots()\n",
    "    im = ax.imshow(cm, interpolation='nearest', cmap=cmap)\n",
    "    ax.figure.colorbar(im, ax=ax)\n",
    "    # We want to show all ticks...\n",
    "    ax.set(xticks=np.arange(cm.shape[1]),\n",
    "           yticks=np.arange(cm.shape[0]),\n",
    "           # ... and label them with the respective list entries\n",
    "           xticklabels=classes, yticklabels=classes,\n",
    "           title=title,\n",
    "           ylabel='True label',\n",
    "           xlabel='Predicted label')\n",
    "\n",
    "    # Rotate the tick labels and set their alignment.\n",
    "    plt.setp(ax.get_xticklabels(), rotation=45, ha=\"right\",\n",
    "             rotation_mode=\"anchor\")\n",
    "\n",
    "    # Loop over data dimensions and create text annotations.\n",
    "    fmt = '.2f' if normalize else 'd'\n",
    "    thresh = cm.max() / 2.\n",
    "    for i in range(cm.shape[0]):\n",
    "        for j in range(cm.shape[1]):\n",
    "            ax.text(j, i, format(cm[i, j], fmt),\n",
    "                    ha=\"center\", va=\"center\",\n",
    "                    color=\"white\" if cm[i, j] > thresh else \"black\")\n",
    "    fig.tight_layout()\n",
    "    return ax"
   ]
  },
  {
   "cell_type": "markdown",
   "id": "mental-controversy",
   "metadata": {},
   "source": [
    "# 合在一起后的测试"
   ]
  },
  {
   "cell_type": "code",
   "execution_count": 33,
   "id": "thrown-china",
   "metadata": {},
   "outputs": [],
   "source": [
    "annotation_path = \"path_txt/test_stable/test.txt\"\n",
    "\n",
    "with open(annotation_path, \"r\") as f:\n",
    "    test_path = f.readlines()"
   ]
  },
  {
   "cell_type": "code",
   "execution_count": 34,
   "id": "practical-therapist",
   "metadata": {},
   "outputs": [],
   "source": [
    "val_for_test = ClsDatasets(test_path, input_shape, 1, num_classes, train = False)\n",
    "\n",
    "x_val_for_test = []\n",
    "y_val_for_test =[]\n",
    "\n",
    "for x,y in val_for_test:\n",
    "    x_val_for_test.append(x)\n",
    "    y_val_for_test.append(y)\n",
    "\n",
    "x_val_for_test = np.asarray(x_val_for_test)\n",
    "y_val_for_test = np.asarray(y_val_for_test)\n",
    "\n",
    "x_val_for_test = np.squeeze(x_val_for_test, 1)\n",
    "y_val_for_test = np.squeeze(y_val_for_test, 1)\n",
    "\n",
    "y_val_for_test_pred = model.predict(x_val_for_test)\n",
    "\n",
    "Y_pred_val = np.argmax(y_val_for_test_pred,axis=1)\n",
    "Y_actual_val = np.argmax(y_val_for_test,axis=1)\n",
    "\n",
    "#plot_confusion_matrix(Y_actual_val, Y_pred_val, np.array(class_names))"
   ]
  },
  {
   "cell_type": "code",
   "execution_count": 35,
   "id": "black-january",
   "metadata": {},
   "outputs": [
    {
     "name": "stdout",
     "output_type": "stream",
     "text": [
      "Confusion matrix, without normalization\n",
      "[[199  49  13   1]\n",
      " [ 10 158   2   1]\n",
      " [  9  17 162   8]\n",
      " [  2   3  16 182]]\n"
     ]
    },
    {
     "data": {
      "text/plain": [
       "<AxesSubplot:title={'center':'Confusion matrix, without normalization'}, xlabel='Predicted label', ylabel='True label'>"
      ]
     },
     "execution_count": 35,
     "metadata": {},
     "output_type": "execute_result"
    },
    {
     "data": {
      "image/png": "[encoded data removed]",
      "text/plain": [
       "<Figure size 432x288 with 2 Axes>"
      ]
     },
     "metadata": {
      "needs_background": "light"
     },
     "output_type": "display_data"
    }
   ],
   "source": [
    "plot_confusion_matrix(Y_actual_val, Y_pred_val, np.array(class_names))"
   ]
  },
  {
   "cell_type": "code",
   "execution_count": null,
   "id": "sixth-weather",
   "metadata": {},
   "outputs": [],
   "source": []
  },
  {
   "cell_type": "code",
   "execution_count": null,
   "id": "baking-undergraduate",
   "metadata": {},
   "outputs": [],
   "source": []
  },
  {
   "cell_type": "markdown",
   "id": "supreme-oxide",
   "metadata": {},
   "source": [
    "# 获得测试集"
   ]
  },
  {
   "cell_type": "code",
   "execution_count": 97,
   "id": "processed-forum",
   "metadata": {},
   "outputs": [],
   "source": [
    "import glob\n",
    "\n",
    "img_path = glob.glob('D:\\\\class_PR\\\\dataset\\\\test\\\\*\\\\*.jpg')\n",
    "#img_path = glob.glob('D:\\\\class_PR\\\\preporessing_test_data\\\\*\\\\*.jpg')"
   ]
  },
  {
   "cell_type": "code",
   "execution_count": 98,
   "id": "emerging-canon",
   "metadata": {},
   "outputs": [],
   "source": [
    "#img_path"
   ]
  },
  {
   "cell_type": "code",
   "execution_count": 99,
   "id": "royal-trust",
   "metadata": {},
   "outputs": [],
   "source": [
    "label_name = [name.split('\\\\')[-2] for name in img_path]"
   ]
  },
  {
   "cell_type": "code",
   "execution_count": 100,
   "id": "distributed-heavy",
   "metadata": {},
   "outputs": [
    {
     "data": {
      "text/plain": [
       "952"
      ]
     },
     "execution_count": 100,
     "metadata": {},
     "output_type": "execute_result"
    }
   ],
   "source": [
    "len(label_name)"
   ]
  },
  {
   "cell_type": "code",
   "execution_count": 101,
   "id": "facial-demonstration",
   "metadata": {},
   "outputs": [],
   "source": [
    "label_to_index = dict((name, i) for (i, name) in enumerate(class_names))"
   ]
  },
  {
   "cell_type": "code",
   "execution_count": 102,
   "id": "roman-adelaide",
   "metadata": {},
   "outputs": [],
   "source": [
    "#label_to_index"
   ]
  },
  {
   "cell_type": "code",
   "execution_count": 103,
   "id": "latest-restoration",
   "metadata": {},
   "outputs": [],
   "source": [
    "all_labels = [label_to_index.get(la) for la in label_name]"
   ]
  },
  {
   "cell_type": "code",
   "execution_count": 104,
   "id": "billion-salvation",
   "metadata": {},
   "outputs": [],
   "source": [
    "from PIL import Image\n",
    "\n",
    "# def preprocess_image(image_path, desired_size=224):\n",
    "#     im = Image.open(image_path)\n",
    "#     im = im.resize((desired_size, )*2, resample=Image.BILINEAR)\n",
    "#     return im\n",
    "\n",
    "def preprocess_image(image_path, size):\n",
    "    image = Image.open(image_path)\n",
    "    \n",
    "    iw, ih  = image.size\n",
    "    w, h    = size\n",
    "\n",
    "    scale   = min(w/iw, h/ih)\n",
    "    nw      = int(iw*scale)\n",
    "    nh      = int(ih*scale)\n",
    "\n",
    "    image   = image.resize((nw,nh), Image.BICUBIC)\n",
    "    new_image = Image.new('RGB', size, (128,128,128))\n",
    "    new_image.paste(image, ((w-nw)//2, (h-nh)//2))\n",
    "\n",
    "    return new_image"
   ]
  },
  {
   "cell_type": "code",
   "execution_count": 105,
   "id": "turned-situation",
   "metadata": {},
   "outputs": [],
   "source": [
    "N = len(img_path)\n",
    "x_test = np.empty((N, 224, 224, 3), dtype=np.float32)\n",
    "\n",
    "for i, path in enumerate(img_path):\n",
    "    x_test[i, :, :, :] = preprocess_image(path,[224,224])\n",
    "    \n",
    "#x_test = x_test/255.0\n",
    "x_test /= 127.5\n",
    "x_test -= 1."
   ]
  },
  {
   "cell_type": "code",
   "execution_count": 106,
   "id": "literary-watson",
   "metadata": {},
   "outputs": [],
   "source": [
    "y_test = tf.one_hot(all_labels,num_classes)\n",
    "\n",
    "y_test = np.asarray(y_test)"
   ]
  },
  {
   "cell_type": "code",
   "execution_count": 107,
   "id": "distinct-compound",
   "metadata": {},
   "outputs": [
    {
     "data": {
      "text/plain": [
       "array([1., 0., 0., 0.], dtype=float32)"
      ]
     },
     "execution_count": 107,
     "metadata": {},
     "output_type": "execute_result"
    }
   ],
   "source": [
    "y_test[0]"
   ]
  },
  {
   "cell_type": "code",
   "execution_count": 115,
   "id": "intensive-greene",
   "metadata": {},
   "outputs": [],
   "source": [
    "y_pred = model.predict(x_test)"
   ]
  },
  {
   "cell_type": "code",
   "execution_count": 61,
   "id": "functional-patio",
   "metadata": {},
   "outputs": [],
   "source": [
    "weight_4class = np.asarray([0.91837899543379, 1.0901084010840107, 1.0209390862944163, 0.9859068627450981], np.float32)"
   ]
  },
  {
   "cell_type": "code",
   "execution_count": 62,
   "id": "unique-string",
   "metadata": {},
   "outputs": [],
   "source": [
    "y_pred = y_pred * weight_4class"
   ]
  },
  {
   "cell_type": "code",
   "execution_count": 63,
   "id": "experienced-serial",
   "metadata": {},
   "outputs": [],
   "source": [
    "#y_pred[0]"
   ]
  },
  {
   "cell_type": "code",
   "execution_count": 116,
   "id": "molecular-listing",
   "metadata": {},
   "outputs": [],
   "source": [
    "Y_pred_hot = np.argmax(y_pred,axis=1)\n",
    "Y_actual_hot = np.argmax(y_test,axis=1)"
   ]
  },
  {
   "cell_type": "code",
   "execution_count": 110,
   "id": "widespread-diary",
   "metadata": {},
   "outputs": [
    {
     "data": {
      "text/plain": [
       "3"
      ]
     },
     "execution_count": 110,
     "metadata": {},
     "output_type": "execute_result"
    }
   ],
   "source": [
    "Y_actual_hot[-1]"
   ]
  },
  {
   "cell_type": "code",
   "execution_count": 111,
   "id": "amber-variance",
   "metadata": {},
   "outputs": [],
   "source": [
    "#Y_pred_hot"
   ]
  },
  {
   "cell_type": "code",
   "execution_count": 112,
   "id": "external-combine",
   "metadata": {},
   "outputs": [],
   "source": [
    "#Y_actual_hot"
   ]
  },
  {
   "cell_type": "code",
   "execution_count": 117,
   "id": "dying-guinea",
   "metadata": {},
   "outputs": [
    {
     "name": "stdout",
     "output_type": "stream",
     "text": [
      "Confusion matrix, without normalization\n",
      "[[342  25  62   7]\n",
      " [ 91   3  23   3]\n",
      " [ 43   6 111  36]\n",
      " [  6   1  33 160]]\n"
     ]
    },
    {
     "data": {
      "text/plain": [
       "<AxesSubplot:title={'center':'Confusion matrix, without normalization'}, xlabel='Predicted label', ylabel='True label'>"
      ]
     },
     "execution_count": 117,
     "metadata": {},
     "output_type": "execute_result"
    },
    {
     "data": {
      "image/png": "[encoded data removed]",
      "text/plain": [
       "<Figure size 432x288 with 2 Axes>"
      ]
     },
     "metadata": {
      "needs_background": "light"
     },
     "output_type": "display_data"
    }
   ],
   "source": [
    "plot_confusion_matrix(Y_actual_hot, Y_pred_hot, np.array(class_names))"
   ]
  },
  {
   "cell_type": "code",
   "execution_count": 67,
   "id": "happy-forge",
   "metadata": {},
   "outputs": [
    {
     "name": "stdout",
     "output_type": "stream",
     "text": [
      "12/12 [==============================] - 4s 309ms/step - loss: 0.5119 - categorical_accuracy: 0.8750\n",
      "Test loss: 0.51\n",
      "Test accuracy: 87.5%\n"
     ]
    }
   ],
   "source": [
    "loss, accuracy = model.evaluate(x_test, y_test) #每个batch的\n",
    "print(f\"Test loss: {round(loss, 2)}\")\n",
    "print(f\"Test accuracy: {round(accuracy * 100, 2)}%\")\n",
    "#print(f\"Test top 5 accuracy: {round(top_5_accuracy * 100, 2)}%\")"
   ]
  },
  {
   "cell_type": "code",
   "execution_count": 100,
   "id": "photographic-hazard",
   "metadata": {},
   "outputs": [],
   "source": [
    "model.save_weights('test_acc-0.63-balance-resnet101.h5')"
   ]
  },
  {
   "cell_type": "code",
   "execution_count": 4,
   "id": "integrated-friendship",
   "metadata": {},
   "outputs": [],
   "source": [
    "model.load_weights('logs/ep053-loss0.012-val_loss0.045.h5')"
   ]
  },
  {
   "cell_type": "code",
   "execution_count": null,
   "id": "helpful-router",
   "metadata": {},
   "outputs": [],
   "source": []
  }
 ],
 "metadata": {
  "kernelspec": {
   "display_name": "Python 3",
   "language": "python",
   "name": "python3"
  },
  "language_info": {
   "codemirror_mode": {
    "name": "ipython",
    "version": 3
   },
   "file_extension": ".py",
   "mimetype": "text/x-python",
   "name": "python",
   "nbconvert_exporter": "python",
   "pygments_lexer": "ipython3",
   "version": "3.7.6"
  }
 },
 "nbformat": 4,
 "nbformat_minor": 5
}
