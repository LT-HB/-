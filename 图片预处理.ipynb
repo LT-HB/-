{
 "cells": [
  {
   "cell_type": "code",
   "execution_count": null,
   "id": "upper-address",
   "metadata": {},
   "outputs": [],
   "source": [
    "IMG_SIZE = 224"
   ]
  },
  {
   "cell_type": "markdown",
   "id": "alleged-hudson",
   "metadata": {},
   "source": [
    "裁剪图片"
   ]
  },
  {
   "cell_type": "code",
   "execution_count": null,
   "id": "altered-determination",
   "metadata": {},
   "outputs": [],
   "source": [
    "def crop_image_from_gray(img, tol=7):\n",
    "    if img.ndim == 2:\n",
    "        mask = img > tol\n",
    "        return img[np.ix_(mask.any(1), mask.any(0))]\n",
    "    elif img.ndim == 3:\n",
    "        gray_img = cv2.cvtColor(img, cv2.COLOR_RGB2GRAY)\n",
    "        mask = gray_img > tol\n",
    "\n",
    "        check_shape = img[:, :, 0][np.ix_(mask.any(1), mask.any(0))].shape[0]\n",
    "        if (check_shape == 0):  # image is too dark so that we crop out everything,\n",
    "            return img  # return original image\n",
    "        else:\n",
    "            img1 = img[:, :, 0][np.ix_(mask.any(1), mask.any(0))]\n",
    "            img2 = img[:, :, 1][np.ix_(mask.any(1), mask.any(0))]\n",
    "            img3 = img[:, :, 2][np.ix_(mask.any(1), mask.any(0))]\n",
    "            #         print(img1.shape,img2.shape,img3.shape)\n",
    "            img = np.stack([img1, img2, img3], axis=-1)\n",
    "        #         print(img.shape)\n",
    "        return img"
   ]
  },
  {
   "cell_type": "markdown",
   "id": "official-rugby",
   "metadata": {},
   "source": [
    "高斯模糊"
   ]
  },
  {
   "cell_type": "code",
   "execution_count": null,
   "id": "satisfied-atlanta",
   "metadata": {},
   "outputs": [],
   "source": [
    "def load_ben_color(path, sigmaX=10):\n",
    "    image = cv2.imread(path)\n",
    "    image = cv2.cvtColor(image, cv2.COLOR_BGR2RGB)\n",
    "    image = crop_image_from_gray(image)\n",
    "    image = cv2.resize(image, (IMG_SIZE, IMG_SIZE))\n",
    "    #image = cv2.addWeighted(image, 4, cv2.GaussianBlur(image, (0, 0), sigmaX), -4, 128)\n",
    "\n",
    "    return image"
   ]
  },
  {
   "cell_type": "markdown",
   "id": "alike-accent",
   "metadata": {},
   "source": [
    "对比度拉伸"
   ]
  },
  {
   "cell_type": "code",
   "execution_count": null,
   "id": "becoming-specification",
   "metadata": {},
   "outputs": [],
   "source": [
    "def contrast_stretching(img):        \n",
    "    rr, gg, bb = cv2.split(img)    \n",
    "    imgray = cv2.cvtColor(img,cv2.COLOR_BGR2GRAY)    \n",
    "    im = imgray    \n",
    "    ih, iw = imgray.shape    \n",
    "    (minVal, maxVal, minLoc, maxLoc) = cv2.minMaxLoc(imgray)    \n",
    "    for i in range(ih):        \n",
    "        for j in range(iw):            \n",
    "            im[i, j] = 255 * ((gg[i, j] - minVal) / (maxVal - minVal))        \n",
    "    limg = cv2.merge((rr, im, bb))    \n",
    "    return limg"
   ]
  }
 ],
 "metadata": {
  "kernelspec": {
   "display_name": "Python 3",
   "language": "python",
   "name": "python3"
  },
  "language_info": {
   "codemirror_mode": {
    "name": "ipython",
    "version": 3
   },
   "file_extension": ".py",
   "mimetype": "text/x-python",
   "name": "python",
   "nbconvert_exporter": "python",
   "pygments_lexer": "ipython3",
   "version": "3.7.6"
  }
 },
 "nbformat": 4,
 "nbformat_minor": 5
}
